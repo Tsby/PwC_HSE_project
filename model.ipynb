{
 "cells": [
  {
   "cell_type": "markdown",
   "metadata": {},
   "source": [
    "## Выделение аномалией по эффективности в процессах."
   ]
  },
  {
   "cell_type": "code",
   "execution_count": 213,
   "metadata": {
    "collapsed": true
   },
   "outputs": [],
   "source": [
    "import pandas as pd\n",
    "import numpy as np"
   ]
  },
  {
   "cell_type": "code",
   "execution_count": 214,
   "metadata": {
    "collapsed": true
   },
   "outputs": [],
   "source": [
    "df = pd.read_csv('Event_log.txt', sep='\\t', encoding='cp1251')"
   ]
  },
  {
   "cell_type": "code",
   "execution_count": 215,
   "metadata": {
    "collapsed": true
   },
   "outputs": [],
   "source": [
    "df['Event end'] = pd.to_datetime(df['Event end'])\n",
    "df = df.sort_values(by='Event end')"
   ]
  },
  {
   "cell_type": "code",
   "execution_count": 216,
   "metadata": {
    "scrolled": true
   },
   "outputs": [
    {
     "data": {
      "text/html": [
       "<div>\n",
       "<table border=\"1\" class=\"dataframe\">\n",
       "  <thead>\n",
       "    <tr style=\"text-align: right;\">\n",
       "      <th></th>\n",
       "      <th>CaseID</th>\n",
       "      <th>Event end</th>\n",
       "      <th>Activity</th>\n",
       "      <th>Activity Category</th>\n",
       "      <th>Activity Class</th>\n",
       "      <th>Activity type</th>\n",
       "      <th>User</th>\n",
       "      <th>Department</th>\n",
       "      <th>Amount</th>\n",
       "      <th>Purchase type</th>\n",
       "      <th>Supplier</th>\n",
       "      <th>Supplier risk level</th>\n",
       "      <th>Supplier Size</th>\n",
       "      <th>Supplier_type</th>\n",
       "      <th>INVOICE</th>\n",
       "      <th>Cleared invoice</th>\n",
       "      <th>PO TYPE</th>\n",
       "      <th>Material</th>\n",
       "      <th>User_type</th>\n",
       "    </tr>\n",
       "  </thead>\n",
       "  <tbody>\n",
       "    <tr>\n",
       "      <th>57795</th>\n",
       "      <td>1 - 478</td>\n",
       "      <td>2017-01-03 10:21:02</td>\n",
       "      <td>Заказ на поставку создан</td>\n",
       "      <td>Заказ на поставку создан</td>\n",
       "      <td>Заказ на поставку</td>\n",
       "      <td>Заказ на поставку создан</td>\n",
       "      <td>User_43</td>\n",
       "      <td>Uncategorized</td>\n",
       "      <td>1.163763e+07</td>\n",
       "      <td>Товары</td>\n",
       "      <td>Leisure Clearing House</td>\n",
       "      <td>Low</td>\n",
       "      <td>Large</td>\n",
       "      <td>Внутренние</td>\n",
       "      <td>NaN</td>\n",
       "      <td>NaN</td>\n",
       "      <td>Заказ на оформление закупки</td>\n",
       "      <td>Green Lock Nut 3</td>\n",
       "      <td>A</td>\n",
       "    </tr>\n",
       "    <tr>\n",
       "      <th>50372</th>\n",
       "      <td>1 - 478</td>\n",
       "      <td>2017-01-03 10:21:20</td>\n",
       "      <td>Заказ на поставку: изменен статус выпуска: Дан...</td>\n",
       "      <td>Заказ на поставку изменен</td>\n",
       "      <td>Заказ на поставку</td>\n",
       "      <td>Заказ на поставку: изменен статус выпуска: воз...</td>\n",
       "      <td>User_43</td>\n",
       "      <td>Uncategorized</td>\n",
       "      <td>1.163763e+07</td>\n",
       "      <td>Товары</td>\n",
       "      <td>Leisure Clearing House</td>\n",
       "      <td>Low</td>\n",
       "      <td>Large</td>\n",
       "      <td>Внутренние</td>\n",
       "      <td>NaN</td>\n",
       "      <td>NaN</td>\n",
       "      <td>Заказ на оформление закупки</td>\n",
       "      <td>Green Lock Nut 3</td>\n",
       "      <td>A</td>\n",
       "    </tr>\n",
       "    <tr>\n",
       "      <th>50373</th>\n",
       "      <td>1 - 478</td>\n",
       "      <td>2017-01-03 10:21:20</td>\n",
       "      <td>Заказ на поставку согласован 2</td>\n",
       "      <td>Заказ на поставку согласован</td>\n",
       "      <td>Заказ на поставку</td>\n",
       "      <td>Заказ на поставку согласован 2</td>\n",
       "      <td>User_43</td>\n",
       "      <td>Uncategorized</td>\n",
       "      <td>1.163763e+07</td>\n",
       "      <td>Товары</td>\n",
       "      <td>Leisure Clearing House</td>\n",
       "      <td>Low</td>\n",
       "      <td>Large</td>\n",
       "      <td>Внутренние</td>\n",
       "      <td>NaN</td>\n",
       "      <td>NaN</td>\n",
       "      <td>Заказ на оформление закупки</td>\n",
       "      <td>Green Lock Nut 3</td>\n",
       "      <td>A</td>\n",
       "    </tr>\n",
       "    <tr>\n",
       "      <th>57796</th>\n",
       "      <td>1 - 478</td>\n",
       "      <td>2017-01-03 10:24:36</td>\n",
       "      <td>Заказ на поставку изменен: увеличена стоимость</td>\n",
       "      <td>Заказ на поставку изменен</td>\n",
       "      <td>Заказ на поставку</td>\n",
       "      <td>Заказ на поставку изменен</td>\n",
       "      <td>User_43</td>\n",
       "      <td>Uncategorized</td>\n",
       "      <td>1.163763e+07</td>\n",
       "      <td>Товары</td>\n",
       "      <td>Leisure Clearing House</td>\n",
       "      <td>Low</td>\n",
       "      <td>Large</td>\n",
       "      <td>Внутренние</td>\n",
       "      <td>NaN</td>\n",
       "      <td>NaN</td>\n",
       "      <td>Заказ на оформление закупки</td>\n",
       "      <td>Green Lock Nut 3</td>\n",
       "      <td>A</td>\n",
       "    </tr>\n",
       "    <tr>\n",
       "      <th>57797</th>\n",
       "      <td>1 - 478</td>\n",
       "      <td>2017-01-03 10:24:36</td>\n",
       "      <td>Заказ на поставку изменен: эффективная стоимость</td>\n",
       "      <td>Заказ на поставку изменен</td>\n",
       "      <td>Заказ на поставку</td>\n",
       "      <td>Заказ на поставку изменен</td>\n",
       "      <td>User_43</td>\n",
       "      <td>Uncategorized</td>\n",
       "      <td>1.163763e+07</td>\n",
       "      <td>Товары</td>\n",
       "      <td>Leisure Clearing House</td>\n",
       "      <td>Low</td>\n",
       "      <td>Large</td>\n",
       "      <td>Внутренние</td>\n",
       "      <td>NaN</td>\n",
       "      <td>NaN</td>\n",
       "      <td>Заказ на оформление закупки</td>\n",
       "      <td>Green Lock Nut 3</td>\n",
       "      <td>A</td>\n",
       "    </tr>\n",
       "  </tbody>\n",
       "</table>\n",
       "</div>"
      ],
      "text/plain": [
       "        CaseID           Event end  \\\n",
       "57795  1 - 478 2017-01-03 10:21:02   \n",
       "50372  1 - 478 2017-01-03 10:21:20   \n",
       "50373  1 - 478 2017-01-03 10:21:20   \n",
       "57796  1 - 478 2017-01-03 10:24:36   \n",
       "57797  1 - 478 2017-01-03 10:24:36   \n",
       "\n",
       "                                                Activity  \\\n",
       "57795                           Заказ на поставку создан   \n",
       "50372  Заказ на поставку: изменен статус выпуска: Дан...   \n",
       "50373                     Заказ на поставку согласован 2   \n",
       "57796     Заказ на поставку изменен: увеличена стоимость   \n",
       "57797   Заказ на поставку изменен: эффективная стоимость   \n",
       "\n",
       "                  Activity Category     Activity Class  \\\n",
       "57795      Заказ на поставку создан  Заказ на поставку   \n",
       "50372     Заказ на поставку изменен  Заказ на поставку   \n",
       "50373  Заказ на поставку согласован  Заказ на поставку   \n",
       "57796     Заказ на поставку изменен  Заказ на поставку   \n",
       "57797     Заказ на поставку изменен  Заказ на поставку   \n",
       "\n",
       "                                           Activity type     User  \\\n",
       "57795                           Заказ на поставку создан  User_43   \n",
       "50372  Заказ на поставку: изменен статус выпуска: воз...  User_43   \n",
       "50373                     Заказ на поставку согласован 2  User_43   \n",
       "57796                          Заказ на поставку изменен  User_43   \n",
       "57797                          Заказ на поставку изменен  User_43   \n",
       "\n",
       "          Department        Amount Purchase type                Supplier  \\\n",
       "57795  Uncategorized  1.163763e+07        Товары  Leisure Clearing House   \n",
       "50372  Uncategorized  1.163763e+07        Товары  Leisure Clearing House   \n",
       "50373  Uncategorized  1.163763e+07        Товары  Leisure Clearing House   \n",
       "57796  Uncategorized  1.163763e+07        Товары  Leisure Clearing House   \n",
       "57797  Uncategorized  1.163763e+07        Товары  Leisure Clearing House   \n",
       "\n",
       "      Supplier risk level Supplier Size Supplier_type  INVOICE  \\\n",
       "57795                 Low         Large    Внутренние      NaN   \n",
       "50372                 Low         Large    Внутренние      NaN   \n",
       "50373                 Low         Large    Внутренние      NaN   \n",
       "57796                 Low         Large    Внутренние      NaN   \n",
       "57797                 Low         Large    Внутренние      NaN   \n",
       "\n",
       "      Cleared invoice                      PO TYPE          Material User_type  \n",
       "57795             NaN  Заказ на оформление закупки  Green Lock Nut 3         A  \n",
       "50372             NaN  Заказ на оформление закупки  Green Lock Nut 3         A  \n",
       "50373             NaN  Заказ на оформление закупки  Green Lock Nut 3         A  \n",
       "57796             NaN  Заказ на оформление закупки  Green Lock Nut 3         A  \n",
       "57797             NaN  Заказ на оформление закупки  Green Lock Nut 3         A  "
      ]
     },
     "execution_count": 216,
     "metadata": {},
     "output_type": "execute_result"
    }
   ],
   "source": [
    "df.head()"
   ]
  },
  {
   "cell_type": "markdown",
   "metadata": {},
   "source": [
    "Рассмотрим на уровне класса события (\"Activity Class\")"
   ]
  },
  {
   "cell_type": "code",
   "execution_count": 217,
   "metadata": {},
   "outputs": [
    {
     "data": {
      "text/plain": [
       "array(['Заказ на поставку', 'Поступление материала', 'Заявка', 'Счет',\n",
       "       'Авансовый платеж', 'Платеж (выравнивание)', 'Учет услуг'],\n",
       "      dtype=object)"
      ]
     },
     "execution_count": 217,
     "metadata": {},
     "output_type": "execute_result"
    }
   ],
   "source": [
    "df['Activity Class'].unique()"
   ]
  },
  {
   "cell_type": "markdown",
   "metadata": {},
   "source": [
    "Создадим матрицу признаков *features*, в которой будем хранить описание для каждой цепочки.\n",
    "\n",
    "Матрица состоит из массивов(строк), которые отвечают своей цепочке(объекту). Столбцы матрицы отвечают классам событий.\n",
    "\n",
    "На *i*-ой позиции такого массива(строки матрицы *features*) располагается количество событий, произошедших в рамках *i*-ого класса событий из массива классов событий *classes*. Порядок классов в массиве *classes* такой же, как и в выводе ячейки выше."
   ]
  },
  {
   "cell_type": "code",
   "execution_count": 218,
   "metadata": {},
   "outputs": [],
   "source": [
    "cases = df['CaseID'].unique()\n",
    "classes = df['Activity Class'].unique()\n",
    "features = np.zeros((len(cases), len(classes)))\n",
    "\n",
    "for i in range(len(cases)):\n",
    "    chain = df[df['CaseID'] == cases[i]]    \n",
    "    chain_count = chain.groupby('Activity Class')['Activity'].value_counts()\n",
    "    for j in range(len(classes)):\n",
    "        if classes[j] in chain_count:\n",
    "            features[i][j] = chain_count[classes[j]].sum()"
   ]
  },
  {
   "cell_type": "code",
   "execution_count": 219,
   "metadata": {},
   "outputs": [
    {
     "data": {
      "text/plain": [
       "(8025, 7)"
      ]
     },
     "execution_count": 219,
     "metadata": {},
     "output_type": "execute_result"
    }
   ],
   "source": [
    "features.shape"
   ]
  },
  {
   "cell_type": "markdown",
   "metadata": {},
   "source": [
    "Транспонируем матрицу *features* и подсчитаем среднее значение повторений для каждого класса."
   ]
  },
  {
   "cell_type": "code",
   "execution_count": 220,
   "metadata": {},
   "outputs": [],
   "source": [
    "mean_values = np.zeros(len(classes))\n",
    "\n",
    "\n",
    "tran_feat = features.T\n",
    "\n",
    "for i in range(len(classes)):\n",
    "    mean_values[i] = tran_feat[i].mean()"
   ]
  },
  {
   "cell_type": "code",
   "execution_count": 221,
   "metadata": {},
   "outputs": [
    {
     "data": {
      "text/plain": [
       "{'Авансовый платеж': 0.1611214953271028,\n",
       " 'Заказ на поставку': 2.8547040498442366,\n",
       " 'Заявка': 0.7862928348909657,\n",
       " 'Платеж (выравнивание)': 1.573208722741433,\n",
       " 'Поступление материала': 1.1025545171339564,\n",
       " 'Счет': 4.099314641744548,\n",
       " 'Учет услуг': 0.4181931464174455}"
      ]
     },
     "execution_count": 221,
     "metadata": {},
     "output_type": "execute_result"
    }
   ],
   "source": [
    "fin_dict = dict(zip(classes, mean_values))\n",
    "fin_dict"
   ]
  },
  {
   "cell_type": "markdown",
   "metadata": {},
   "source": [
    "Выделим аномальные цепочки.\n",
    "\n",
    "Аномальной цепочкой назовем такую цепочку, которая хотя бы по одному классу превышает среднее количество повторений.\n",
    "\n",
    "Создадим матрицу *anomaly*, в которой будем хранить 1 на (*i*, *j*) позиции, если у *i*-ого объекта *j*-ый класс превышает среднее количество повторений, и 0 иначе."
   ]
  },
  {
   "cell_type": "code",
   "execution_count": 222,
   "metadata": {
    "collapsed": true
   },
   "outputs": [],
   "source": [
    "anomaly = np.zeros((len(cases), len(classes)))\n",
    "\n",
    "for j in range(len(classes)):\n",
    "    anomaly[np.where(tran_feat[j] > mean_values[j])[0]] = 1"
   ]
  },
  {
   "cell_type": "markdown",
   "metadata": {},
   "source": [
    "Теперь посмотрим, какую долю от общего числа цепочек занимают аномалии."
   ]
  },
  {
   "cell_type": "code",
   "execution_count": 223,
   "metadata": {},
   "outputs": [
    {
     "data": {
      "text/plain": [
       "0.5753271028037383"
      ]
     },
     "execution_count": 223,
     "metadata": {},
     "output_type": "execute_result"
    }
   ],
   "source": [
    "len(np.unique(np.where(anomaly == 1)[0])) / len(cases)"
   ]
  },
  {
   "cell_type": "markdown",
   "metadata": {},
   "source": [
    "Рассмотрим другой подход, где от среднего отсупается одно стандартное отклонение."
   ]
  },
  {
   "cell_type": "code",
   "execution_count": 224,
   "metadata": {},
   "outputs": [],
   "source": [
    "anomaly_1 = np.zeros((len(cases), len(classes)))\n",
    "\n",
    "for j in range(len(classes)):\n",
    "    anomaly_1[np.where(tran_feat[j] > mean_values[j] + tran_feat[j].std())[0]] = 1"
   ]
  },
  {
   "cell_type": "code",
   "execution_count": 225,
   "metadata": {},
   "outputs": [
    {
     "data": {
      "text/plain": [
       "0.3069158878504673"
      ]
     },
     "execution_count": 225,
     "metadata": {},
     "output_type": "execute_result"
    }
   ],
   "source": [
    "len(np.unique(np.where(anomaly_1 == 1)[0])) / len(cases)"
   ]
  },
  {
   "cell_type": "markdown",
   "metadata": {},
   "source": [
    "Доля уменьшилась соответственно."
   ]
  },
  {
   "cell_type": "markdown",
   "metadata": {},
   "source": [
    "Возьмем теперь два стандартных отклонения."
   ]
  },
  {
   "cell_type": "code",
   "execution_count": 226,
   "metadata": {
    "collapsed": true
   },
   "outputs": [],
   "source": [
    "anomaly_2 = np.zeros((len(cases), len(classes)))\n",
    "\n",
    "for j in range(len(classes)):\n",
    "    anomaly_2[np.where(tran_feat[j] > mean_values[j] +2 * tran_feat[j].std())[0]] = 1"
   ]
  },
  {
   "cell_type": "code",
   "execution_count": 227,
   "metadata": {},
   "outputs": [
    {
     "data": {
      "text/plain": [
       "0.20809968847352026"
      ]
     },
     "execution_count": 227,
     "metadata": {},
     "output_type": "execute_result"
    }
   ],
   "source": [
    "len(np.unique(np.where(anomaly_2 == 1)[0])) / len(cases)"
   ]
  },
  {
   "cell_type": "code",
   "execution_count": null,
   "metadata": {
    "collapsed": true
   },
   "outputs": [],
   "source": []
  }
 ],
 "metadata": {
  "kernelspec": {
   "display_name": "Python 3",
   "language": "python",
   "name": "python3"
  },
  "language_info": {
   "codemirror_mode": {
    "name": "ipython",
    "version": 3
   },
   "file_extension": ".py",
   "mimetype": "text/x-python",
   "name": "python",
   "nbconvert_exporter": "python",
   "pygments_lexer": "ipython3",
   "version": "3.5.2"
  }
 },
 "nbformat": 4,
 "nbformat_minor": 2
}
