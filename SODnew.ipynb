{
 "cells": [
  {
   "cell_type": "code",
   "execution_count": 1,
   "metadata": {
    "collapsed": true
   },
   "outputs": [],
   "source": [
    "import pandas as pd\n",
    "import numpy as np\n",
    "from collections import Counter # для каждого элемента внутри массива считает количество повторений"
   ]
  },
  {
   "cell_type": "code",
   "execution_count": 2,
   "metadata": {
    "collapsed": true
   },
   "outputs": [],
   "source": [
    "# Загрузка данных и подготовка к обработке\n",
    "df = pd.read_csv('Event_log.txt', sep='\\t', encoding='cp1251')"
   ]
  },
  {
   "cell_type": "code",
   "execution_count": 4,
   "metadata": {
    "collapsed": true
   },
   "outputs": [],
   "source": [
    "# Функция, вычисляющая количество нарушений одним пользователем разграничения обязанностей в кейсе\n",
    "def find_quantity_of_violations(incomp_events, activ):\n",
    "    # Вход:  1)  Массив несовместимых событий\n",
    "    #        2) События одного кейса в упорядоченном порядке \n",
    "    # Выход: Количество нарушений пользователя в одном кейсе\n",
    "    \n",
    "    num_of_violations = 0 # Количество нарушений в кейсе\n",
    "    \n",
    "    # Для каждого события подсчитываем  его количество повторений в кейсе\n",
    "    sorted_col = Counter(activ)\n",
    "    \n",
    "    # Увеличение счетчика num_of_violations на число, равное количеству выполнений пользователем несовместимого события \n",
    "        num_of_violations += sorted_col[incomp_events[i]]\n",
    "    return num_of_violations\n",
    "\n",
    "# Функция, вычисляющая для каждого пользователя количество нарушений по всем кейсам и общее количество нарушений разграничения обязанностей в журнале событий\n",
    "def SOD_anomalies(df):\n",
    "    # Вход:  Журнал событий\n",
    "    # Выход: Список из двух элементов. В первом элементе хранится список пользователей, отсортированный по количеству нарушений, а во втором общее количество нарушений\n",
    " \n",
    "    # Запоминаем название события в incomp_event и соответствующие ему несовместимые события в incomp_with\n",
    "    incomp_event1 = 'Заказ на поставку создан'\n",
    "    incomp_event2 = 'Создание Заявки'\n",
    "    incomp_event3 = 'Требование авансового платежа-Возврат'\n",
    "    incomp_event4 = 'Счет заведен'\n",
    "    incomp_with1 = ['Заказ на поставку согласован 1', 'Заказ на поставку согласован 2', 'Платеж (выравнивание)', \n",
    "                    'Заказ на поставку блокирован', \n",
    "                    'Заказ на поставку: изменен статус выпуска: ДанныеОтпр, возможны изменения',\n",
    "                    'Заказ на поставку: изменен статус выпуска: ДанныеСогл, измен не возможны', \n",
    "                    'Заказ на поставку: изменен статус выпуска: НачКод, возможны изменения', \n",
    "                    'Заказ на поставку: изменен статус выпуска: Согл, измен не возможны']\n",
    "    incomp_with2 = ['Заявка согласована']\n",
    "    incomp_with3 = ['Авансовый платеж', 'Перерасчет авансового платежа', 'Перерасчет авансового платежа-Возврат', \n",
    "                    'Перерасчет по требованию авансового платежа']\n",
    "    incomp_with4 = ['Счет блокирован: несоответствие цены', 'Счет предварительно полностью зарегистрирован', \n",
    "                    'Счет блокирован: несоответствие даты', \n",
    "                    'Счет предварительно зарегистрирован']\n",
    "    \n",
    "    # Группируем  колонку событий из входных данных  по  индентификатору  кейса и пользователю\n",
    "    arrcase = df.groupby(['CaseID', 'User'])['Activity'].apply(list)\n",
    "    arrcase = arrcase.reset_index()\n",
    "    \n",
    "    # Вспомогательные списки и переменные \n",
    "    users_violations_track = [] # Хранит списки из двух элементов. Первым элементом является пользователь, а вторым - количество его нарушений\n",
    "    users = arrcase['User'].unique()\n",
    "    users = list(users) # Список пользователей\n",
    "    violations = 0\n",
    "    total_violations = 0\n",
    "    \n",
    "    # Заполнение массива users_violations_track\n",
    "    for i in range(len(users)):\n",
    "        users_violations_track.append([users[i], 0])\n",
    "        \n",
    "    # Ищем нарушения разграничений обязанностей\n",
    "    for i in range(len(arrcase['User'])):\n",
    "        # Находим индекс пользователя в  списке пользователей\n",
    "        user_index = users.index(arrcase['User'][i])\n",
    "        \n",
    "        # Проверяем выполнял ли пользователь событие, у которого есть список несовместимых событий\n",
    "        if(incomp_event1 in arrcase['Activity'][i]):\n",
    "            \n",
    "            # Находим количество нарушений в текущем кейсе при помощи функции find_quantity_of_violations\n",
    "            violations = find_quantity_of_violations(incomp_with1, arrcase['Activity'][i])\n",
    "    \n",
    "            #Обновление счетчиков\n",
    "            users_violations_track[user_index][1] += violations # Увеличиваем счётчик нарушений для текущего пользователя\n",
    "            total_violations += violations # Увеличиваем счетчик для общего количества нарушений\n",
    "            \n",
    "        # Далее, рассматриваем все события, у которых есть список несовместимых событий, аналогично трем предыдущим этапам\n",
    "        if(incomp_event2 in arrcase['Activity'][i]):\n",
    "            violations = find_quantity_of_violations(incomp_with2, arrcase['Activity'][i])\n",
    "            users_violations_track[user_index][1] += violations\n",
    "            total_violations += violations\n",
    "        if(incomp_event3 in arrcase['Activity'][i]):\n",
    "            violations = find_quantity_of_violations(incomp_with3, arrcase['Activity'][i])\n",
    "            users_violations_track[user_index][1] += violations\n",
    "            total_violations += violations \n",
    "        if(incomp_event4 in arrcase['Activity'][i]):\n",
    "            violations = find_quantity_of_violations(incomp_with4, arrcase['Activity'][i])\n",
    "            users_violations_track[user_index][1] += violations\n",
    "            total_violations += violations\n",
    "            \n",
    "    # Сортируем пользовтелей в порядке убывания количества нарушений\n",
    "    users_violations_track = sorted(users_violations_track, key = lambda x: x[1], reverse = True)\n",
    "    \n",
    "    # Отсекаем пользователей, у которых нету нарушений\n",
    "    users_violations_track = list(filter(lambda x: x[1] != 0, users_violations_track))\n",
    "    \n",
    "    # Возвращаем список, первым элементом которого является отсортированный список пользователей нарушивших\n",
    "    # разграничение обязанностей, а вторым  общее количество нарушений разграничения обязанностей\n",
    "    return [users_violations_track, total_violations]"
   ]
  },
  {
   "cell_type": "code",
   "execution_count": null,
   "metadata": {
    "collapsed": true
   },
   "outputs": [],
   "source": []
  }
 ],
 "metadata": {
  "kernelspec": {
   "display_name": "Python 3",
   "language": "python",
   "name": "python3"
  },
  "language_info": {
   "codemirror_mode": {
    "name": "ipython",
    "version": 3
   },
   "file_extension": ".py",
   "mimetype": "text/x-python",
   "name": "python",
   "nbconvert_exporter": "python",
   "pygments_lexer": "ipython3",
   "version": "3.7.1"
  }
 },
 "nbformat": 4,
 "nbformat_minor": 2
}
