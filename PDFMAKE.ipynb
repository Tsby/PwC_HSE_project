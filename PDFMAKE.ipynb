{
 "cells": [
  {
   "cell_type": "code",
   "execution_count": 193,
   "metadata": {},
   "outputs": [],
   "source": [
    "#Загрузим библиотеки\n",
    "%matplotlib inline\n",
    "from collections import Counter\n",
    "import matplotlib.pyplot as plt\n",
    "import pandas as pd\n",
    "import numpy as np\n",
    "import time\n",
    "import datetime"
   ]
  },
  {
   "cell_type": "markdown",
   "metadata": {},
   "source": [
    "Загрузим ивентлог."
   ]
  },
  {
   "cell_type": "code",
   "execution_count": 194,
   "metadata": {},
   "outputs": [],
   "source": [
    "df = pd.read_csv('Event_log.txt', sep='\\t', encoding='cp1251')"
   ]
  },
  {
   "cell_type": "code",
   "execution_count": 195,
   "metadata": {},
   "outputs": [],
   "source": [
    "def drop_unfinished(df):\n",
    "    # Убирает незакрытые цепочки\n",
    "    # Вход:  датафрейм\n",
    "    # Выход: датафрейм, который содержит только закрытые цепочки\n",
    "    \n",
    "    # Подготавливаем два сета: первый содержит цепочки с категорией события 'Заказ на поставку создан', второй\n",
    "    # содержит категорию события 'Платеж (выравнивание)'\n",
    "    started_cases = set(df.iloc[np.where(df['Activity Category'] == 'Заказ на поставку создан')]['CaseID'])\n",
    "    finished_cases = set(df.iloc[np.where(df['Activity Category'] == 'Платеж (выравнивание)')]['CaseID'])\n",
    "    \n",
    "    # Находим дополнение к пересечению этих множеств\n",
    "    all_cases  = set(df['CaseID'].unique())\n",
    "    ind = list(all_cases - (started_cases & finished_cases))\n",
    "    \n",
    "    \n",
    "    # Убираем все кейсы из этого множества\n",
    "    for case in ind:\n",
    "        df = df.drop(df[df['CaseID'] == case].index)\n",
    "    \n",
    "    # Перенумерование индексов\n",
    "    df = df.reset_index(drop = True)\n",
    "    return df"
   ]
  },
  {
   "cell_type": "code",
   "execution_count": 196,
   "metadata": {},
   "outputs": [],
   "source": [
    "df = drop_unfinished(df)"
   ]
  },
  {
   "cell_type": "markdown",
   "metadata": {},
   "source": [
    "## P2P-метрики."
   ]
  },
  {
   "cell_type": "code",
   "execution_count": 197,
   "metadata": {},
   "outputs": [],
   "source": [
    "def P2P_1(df):\n",
    "    \n",
    "    # P2P-1 Объём закупок\n",
    "    # будем запоминать кейсы которые мы уже посмотрели, чтобы не посчитать какой то кейс дважды\n",
    "    visited_cases = []\n",
    "    total_amount = 0\n",
    "    \n",
    "    # итерируемся по дата фрейму\n",
    "    for i in range(len(df[\"CaseID\"])):\n",
    "        \n",
    "        # Если кейс мы уже посетили, то переходим на следующий цикл итерации\n",
    "        if(df[\"CaseID\"][i] in visited_cases):\n",
    "            continue\n",
    "            \n",
    "        # запоминаем кейс, в котором побывали\n",
    "        visited_cases.append(df[\"CaseID\"][i])\n",
    "        \n",
    "        # Проверяем не является ли переменная nan'ом\n",
    "        if(not np.isnan(df[\"Amount\"][i])):\n",
    "                total_amount += df[\"Amount\"][i]\n",
    "    return total_amount"
   ]
  },
  {
   "cell_type": "code",
   "execution_count": 198,
   "metadata": {},
   "outputs": [],
   "source": [
    "p2p_1 = P2P_1(df)"
   ]
  },
  {
   "cell_type": "code",
   "execution_count": 199,
   "metadata": {},
   "outputs": [],
   "source": [
    "def P2P_2(df):\n",
    "    \n",
    "    # P2P-2 отношение количества товаров к количеству услуг\n",
    "    cases = df['CaseID'].unique()\n",
    "    \n",
    "    # будем запоминать кейсы которые мы уже посмотрели, чтобы не посчитать какой то кейс дважды\n",
    "    visited_cases = []\n",
    "    services = 0\n",
    "    goods = 0\n",
    "    \n",
    "    # Purchase_type[0] = 'Услуги', Purchase_type[1] = 'Товары'\n",
    "    Purchase_type = df['Purchase type'].unique()\n",
    "    \n",
    "    # итерируемся по дата фрейму\n",
    "    for i in range(len(df[\"CaseID\"])):\n",
    "        \n",
    "        # Если кейс мы уже посетили, то переходим на следующий цикл итерации\n",
    "        if(df[\"CaseID\"][i] in visited_cases):\n",
    "            continue\n",
    "            \n",
    "        # запоминаем кейс, в котором побывали\n",
    "        visited_cases.append(df[\"CaseID\"][i])\n",
    "        if(df['Purchase type'][i] == Purchase_type[0]):\n",
    "            services += 1\n",
    "        else:\n",
    "            goods += 1\n",
    "            \n",
    "    print(goods, services)\n",
    "    return goods/services"
   ]
  },
  {
   "cell_type": "code",
   "execution_count": 200,
   "metadata": {},
   "outputs": [
    {
     "name": "stdout",
     "output_type": "stream",
     "text": [
      "3802 3511\n"
     ]
    },
    {
     "data": {
      "text/plain": [
       "1.0828823696952434"
      ]
     },
     "execution_count": 200,
     "metadata": {},
     "output_type": "execute_result"
    }
   ],
   "source": [
    "p2p_2 = P2P_2(df)\n",
    "p2p_2"
   ]
  },
  {
   "cell_type": "code",
   "execution_count": 201,
   "metadata": {},
   "outputs": [],
   "source": [
    "def P2P_3(df):\n",
    "    \n",
    "    # P2P-3 отношение трат на товары к тратам на услуги\n",
    "    cases = df['CaseID'].unique()\n",
    "    \n",
    "    # будем запоминать кейсы которые мы уже посмотрели чтобы не посчитать какой то кейс дважды\n",
    "    visited_cases = []\n",
    "    services_total_amount = 0\n",
    "    goods_total_amount = 0\n",
    "    \n",
    "    # Purchase_type[0] = 'Услуги', Purchase_type[1] = 'Товары'\n",
    "    Purchase_type = df['Purchase type'].unique()\n",
    "    for i in range(len(df[\"CaseID\"])):\n",
    "        \n",
    "        # Если кейс мы уже посетили, то переходим на следующий цикл итерации\n",
    "        if(df[\"CaseID\"][i] in visited_cases):\n",
    "            continue\n",
    "            \n",
    "        # Запоминаем кейс, в котором побывали\n",
    "        visited_cases.append(df[\"CaseID\"][i])\n",
    "        if(df['Purchase type'][i] == Purchase_type[0]):\n",
    "            \n",
    "            # Проверяем не является ли переменная nan'ом\n",
    "            if(not np.isnan(df[\"Amount\"][i])):\n",
    "                services_total_amount += df[\"Amount\"][i]\n",
    "        else:\n",
    "            if(not np.isnan(df[\"Amount\"][i])):\n",
    "                goods_total_amount += df[\"Amount\"][i]\n",
    "    return (goods_total_amount/services_total_amount)"
   ]
  },
  {
   "cell_type": "code",
   "execution_count": 202,
   "metadata": {},
   "outputs": [
    {
     "data": {
      "text/plain": [
       "2.864576529450934"
      ]
     },
     "execution_count": 202,
     "metadata": {},
     "output_type": "execute_result"
    }
   ],
   "source": [
    "p2p_3 = P2P_3(df)\n",
    "p2p_3"
   ]
  },
  {
   "cell_type": "code",
   "execution_count": 203,
   "metadata": {},
   "outputs": [],
   "source": [
    "def P2P_4(df):\n",
    "    \n",
    "    # P2P-4 Процент товаров, которые поставляются исключительно внутренними поставщиками\n",
    "    # Запоминаем все уникальные наименования товаров\n",
    "    Material = list(df['Material'].unique())\n",
    "    \n",
    "    # Запоминаем сколько у нас было уникальных товаров\n",
    "    quantity_of_mat = len(Material)\n",
    "    total_amount_domestic_mat = 0\n",
    "    \n",
    "    for i in range(len(df[\"CaseID\"])):\n",
    "        \n",
    "        # Проверяем встречали ли мы данный товар(если нет, то он будет в списке Material)\n",
    "        if(df[\"Material\"][i] in Material):\n",
    "            \n",
    "            # проверяем является ли поставщик внутренним\n",
    "            if(df[\"Supplier_type\"][i] == 'Внутренние'):\n",
    "                total_amount_domestic_mat += 1\n",
    "                \n",
    "            # Удаляем данный товар из списка всех товаров (помечая что мы его проверили)\n",
    "            Material.pop(Material.index(df[\"Material\"][i]))\n",
    "    return total_amount_domestic_mat"
   ]
  },
  {
   "cell_type": "code",
   "execution_count": 204,
   "metadata": {},
   "outputs": [],
   "source": [
    "p2p_4 = P2P_4(df)"
   ]
  },
  {
   "cell_type": "code",
   "execution_count": 205,
   "metadata": {},
   "outputs": [],
   "source": [
    "def P2P_5(df):\n",
    "    # P2P-5 Количество неправильно завершенных частичных поставок\n",
    "    # первый элемент вспомогательного списка это номер кейса затем активити из списка activ\n",
    "    activ = ['Поступление материала-Возврат-Частичная поставка', 'Поступление материала-Получение-Завершающая поставка']\n",
    "    quantity_of_wrong_cases = 0\n",
    "    cases = df['CaseID'].unique()\n",
    "    cases = list(cases)\n",
    "    case_info = []\n",
    "    \n",
    "    # Создаём вспомогательный список\n",
    "    for j in range(len(cases)):\n",
    "        case_info.append([cases[j]])\n",
    "    \n",
    "    # находим индекс кейса в нашем списке (чтобы потом знать к какому элементу списка обращаться)\n",
    "    for i in range(len(df[\"CaseID\"])):\n",
    "        case_index = cases.index(df['CaseID'][i])\n",
    "        \n",
    "        # запоминаем была ли частичная поставка в текущем кейсе\n",
    "        if(df[\"Activity\"][i] == activ[0]):\n",
    "            case_info[case_index].append(activ[0])\n",
    "        \n",
    "        # запоминаем была ли завершающая поставка в текущем кейсе\n",
    "        if(df[\"Activity\"][i] == activ[1]):\n",
    "            case_info[case_index].append(activ[1]) \n",
    "    for n in range(len(case_info)):\n",
    "        \n",
    "        # проверяем есть ли полная поставка после частичной\n",
    "        if(activ[0] in case_info[n] and activ[1] not in case_info[n]):\n",
    "            quantity_of_wrong_cases += 1\n",
    "    return quantity_of_wrong_cases"
   ]
  },
  {
   "cell_type": "code",
   "execution_count": 206,
   "metadata": {},
   "outputs": [],
   "source": [
    "p2p_5 = P2P_5(df)"
   ]
  },
  {
   "cell_type": "code",
   "execution_count": 207,
   "metadata": {},
   "outputs": [],
   "source": [
    "def PrintTime(secs):\n",
    "    \n",
    "    # преобразуем всё в удобный нам формат дд:чч:мм:сс\n",
    "    SECONDS_IN_DAY = 86400\n",
    "    days = int(secs / SECONDS_IN_DAY) \n",
    "    sec = datetime.timedelta(seconds = (secs - days * SECONDS_IN_DAY))\n",
    "    d = datetime.datetime(1,1,1) + sec\n",
    "    \n",
    "    # подбиравем правильные окончания для дней, часов, минут и секунд\n",
    "    dayn = \"days\"\n",
    "    hourn = \"hours\"\n",
    "    minuten = \"minutes\"\n",
    "    secondn = \"seconds\"\n",
    "    \n",
    "    if(days - 1 == 1):\n",
    "        dayn = \"day\"\n",
    "    elif(days >= 1 and days <= 4):\n",
    "        dayn = \"days\"\n",
    "    if(d.hour == 1 or d.hour == 21):\n",
    "        hourn = \"hour\"\n",
    "    elif((d.hour >= 2 and d.hour <= 4) or d.hour >= 22 and d.hour <= 24):\n",
    "        hourn = \"hours\"\n",
    "    if((d.minute % 10) == 1 and not d.minute == 11):\n",
    "        minuten = \"minute\"\n",
    "    elif((d.minute % 10) >= 2 and (d.minute % 10) <= 4 and not (d.minute >= 12 and d.minute <= 14)):\n",
    "        minuten = \"minutes\"\n",
    "    if((d.second % 10) == 1 and not d.second == 11):\n",
    "        secondn = \"second\"\n",
    "    elif((d.second % 10) >= 2 and (d.second % 10) <= 4 and not (d.second >= 12 and d.second <= 14)):\n",
    "        secondn = \"seconds\"\n",
    "        \n",
    "    # возвращаем дату в формате дд:чч:мм:сс\n",
    "    return \"%s %s %s %s %s %s %s %s\" % (days, dayn, d.hour, hourn, d.minute, minuten, d.second, secondn)\n",
    "\n",
    "def P2P_6(df):\n",
    "    \n",
    "    # P2P-6 Среднее время подтверждения заказа\n",
    "    cases = df['CaseID'].unique()\n",
    "    cases = list(cases)\n",
    "    case_time_list = []\n",
    "    \n",
    "    # Создаём вспомогательный список\n",
    "    for i in range(len(cases)):\n",
    "        case_time_list.append([cases[i], False])\n",
    "    approved_times = []\n",
    "    approved = ['Заказ на поставку согласован 1', 'Заказ на поставку согласован 2']\n",
    "    \n",
    "    # Сортриуем дфта фрейм\n",
    "    df_time_sort = df.sort_values(by = 'Event end')\n",
    "    \n",
    "    # Перенумеровываем индексы\n",
    "    df_time_sort = df_time_sort.reset_index(drop = True)\n",
    "    \n",
    "    # итерируемся с конца табоицы\n",
    "    for j in range(len(df_time_sort) - 1, -1, -1):\n",
    "        \n",
    "        # находим индекс кейса в нашем списке\n",
    "        case_index = cases.index(df_time_sort['CaseID'][j])\n",
    "        \n",
    "        # проверяем есть ли согласование заказа\n",
    "        if(df_time_sort[\"Activity\"][j] in approved and not case_time_list[case_index][1]): \n",
    "            \n",
    "            # считаем время согласования\n",
    "            try:\n",
    "                \n",
    "                # вычисляем время подтверждения заказа в секундах\n",
    "                # предварительно задав формат даты как \"%Y-%m-%d %H:%M:%S.%f\"\n",
    "                approved_time = time.mktime(time.strptime(str(df_time_sort['Event end'][j]), \"%Y-%m-%d %H:%M:%S.%f\"))\n",
    "                \n",
    "            # если по какой то причине формат был указан неверно (не оказалось миллисекунд),\n",
    "            # то пытаемся посчитать время используя формат \"%Y-%m-%d %H:%M:%S\"\n",
    "            except ValueError:\n",
    "                approved_time = time.mktime(time.strptime(str(df_time_sort['Event end'][j]), \"%Y-%m-%d %H:%M:%S\"))\n",
    "            \n",
    "            # запоминаем время подтверждения\n",
    "            case_time_list[case_index].append(approved_time)\n",
    "            \n",
    "            # помечаем, что для данного кейса время уже рассчитано (так как нам нужно время только послежнего подтверждения)\n",
    "            case_time_list[case_index][1] = True\n",
    "            \n",
    "        # проверяем время создания заказа и считаем его    \n",
    "        if(df_time_sort[\"Activity\"][j] == 'Заказ на поставку создан'):\n",
    "            try:\n",
    "                \n",
    "                # вычисляем время сохдания заказа в секундах\n",
    "                # предварительно задав формат даты как \"%Y-%m-%d %H:%M:%S.%f\"\n",
    "                starting_time = time.mktime(time.strptime(str(df_time_sort['Event end'][j]), \"%Y-%m-%d %H:%M:%S.%f\"))\n",
    "                \n",
    "            # если по какой то причине формат был указан неверно (не оказалось миллисекунд),\n",
    "            # то пытаемся посчитать время используя формат \"%Y-%m-%d %H:%M:%S\"    \n",
    "            except ValueError:\n",
    "                starting_time = time.mktime(time.strptime(str(df_time_sort['Event end'][j]), \"%Y-%m-%d %H:%M:%S\"))\n",
    "            case_time_list[case_index].append(starting_time)\n",
    "    cases_without_confirm = 0\n",
    "    \n",
    "    # отнимаем время согласования и создания заявки у всех кейсов\n",
    "    for n in range(len(case_time_list)):\n",
    "        if(len(case_time_list[n]) == 4):\n",
    "            approved_times.append(case_time_list[n][2] - case_time_list[n][3])\n",
    "        if(len(case_time_list[n]) == 3):\n",
    "            cases_without_confirm += 1\n",
    "    \n",
    "    # если не было найдено ни одного заказа с подтверждением, то возвращаем ноль\n",
    "    if(len(approved_times) == 0):\n",
    "        return 0\n",
    "    else:\n",
    "        \n",
    "        # возвращаем список состоящий из\n",
    "        # среднего времени согласования заказов в формате дд:чч:мм:сс\n",
    "        # Процентф кейсов без согласования\n",
    "        # Процентф согласованных кейсов\n",
    "        return [PrintTime(sum(approved_times)/len(approved_times)),\n",
    "                round(cases_without_confirm/(cases_without_confirm + len(approved_times)) * 100),\n",
    "                round(len(approved_times)/(cases_without_confirm + len(approved_times)) * 100)]"
   ]
  },
  {
   "cell_type": "code",
   "execution_count": 208,
   "metadata": {},
   "outputs": [],
   "source": [
    "p2p_6 = P2P_6(df)"
   ]
  },
  {
   "cell_type": "code",
   "execution_count": 209,
   "metadata": {},
   "outputs": [],
   "source": [
    "def P2P_7(df):\n",
    "    \n",
    "    # P2P-7 Среднее количество изменений заказа\n",
    "    cases = df['CaseID'].unique()\n",
    "    \n",
    "    # changes это список в котором хранятся все события, которые считаются изменением заказа\n",
    "    changes = ['Заказ на поставку бессрочно заблокирован', 'Заказ на поставку изменен: лимит на недопоставку', \n",
    "             'Заказ на поставку изменен: группа закупки', 'Заказ на поставку изменен: лимит на сверх-поставку',\n",
    "             'Заказ на поставку изменен: материал', 'Заказ на поставку изменен: налоговые условия',\n",
    "             'Заказ на поставку изменен: запланированный срок доставки в днях', \n",
    "              'Заказ на поставку изменен: эффективная стоимость', 'Заказ на поставку изменен: уменьшена стоимость',\n",
    "             'Заказ на поставку изменен: уменьшена цена', 'Заказ на поставку изменен: уменьшено количество',\n",
    "             'Заказ на поставку изменен: увеличена стоимость', 'Заказ на поставку изменен: увеличено количество',\n",
    "             'Заказ на поставку изменен: увеличена цена', 'Заказ на поставку изменен: срока предоставления скидки',\n",
    "             'Заказ на поставку изменен: условия оплаты', 'Заказ на поставку изменен: завод', \n",
    "              'Заказ на поставку изменен: статус наличия счета', 'Заказ на поставку изменен: валюта',\n",
    "             'Заказ на поставку изменен: поставщик', 'Заказ на поставку изменен: тип документа']\n",
    "    quantity_of_changes = 0\n",
    "    visited_cases = []\n",
    "    for i in range(len(df[\"CaseID\"])):\n",
    "        # проверяем считается ли данное событие изменением заказа\n",
    "        if(df[\"Activity\"][i] in changes):\n",
    "            quantity_of_changes += 1\n",
    "            \n",
    "            # если мы нашили изменение заказа в текущем кейсе, то помечаем его как кейс, в котором были изменения заказа\n",
    "            if(df[\"CaseID\"][i] not in visited_cases):\n",
    "                visited_cases.append(df[\"CaseID\"][i])\n",
    "    return [quantity_of_changes/len(cases), len(visited_cases)]"
   ]
  },
  {
   "cell_type": "code",
   "execution_count": 210,
   "metadata": {},
   "outputs": [],
   "source": [
    "p2p_7 = P2P_7(df)"
   ]
  },
  {
   "cell_type": "code",
   "execution_count": 211,
   "metadata": {},
   "outputs": [],
   "source": [
    "def P2P_8(df):\n",
    "    \n",
    "    # P2P-8 Поставщики с высоким уровнем возвратов\n",
    "    # первый элемент вспомогательного массива suppliers_info это сам поставщик, второй это количество возвратов у этого поставщика\n",
    "    # третьий это количество заказов, которые были сделаны у данного поставщика, четвёртый это взвешенное среднее после этого\n",
    "    # идёт список кейсов, в которых присутствовал данный поставщик пример: [\"seller of cars\", 10, 40, 2.4, case12, case45, ...]\n",
    "    cases = df['CaseID'].unique()\n",
    "    suppliers_info = []\n",
    "    \n",
    "    # список всех поставщиков\n",
    "    suppliers = list(df[\"Supplier\"].unique())\n",
    "    for i in range(len(suppliers)):\n",
    "        \n",
    "        # Создаём вспомогательный массив\n",
    "        suppliers_info.append([suppliers[i], 0, 0, 0])\n",
    "    for j in range(len(df)):\n",
    "        \n",
    "        # находим индекс поставщика в нашем списке\n",
    "        supplier_index = suppliers.index(df[\"Supplier\"][j])\n",
    "        \n",
    "        # проверяем был ли возврат\n",
    "        if(df[\"Activity Category\"][j] == \"Поступление материала-Возврат\"):\n",
    "            suppliers_info[supplier_index][1] += 1 \n",
    "            \n",
    "        # проверяем смотрели ли мы этот кейс для данного поставщика\n",
    "        if(df[\"CaseID\"][j] not in suppliers_info[supplier_index]):\n",
    "            suppliers_info[supplier_index][2] += 1\n",
    "            suppliers_info[supplier_index].append(df[\"CaseID\"][j])\n",
    "    \n",
    "    # ищем поставщика с максимальным количеством заказов\n",
    "    maximum_orders = 0\n",
    "    for n in range(len(suppliers_info)):\n",
    "        if(maximum_orders < suppliers_info[n][2]):\n",
    "            maximum_orders = suppliers_info[n][2]\n",
    "    \n",
    "    # считаем взвешенное среднее для каждого поставщика\n",
    "    for r in range(len(suppliers_info)):\n",
    "        if(maximum_orders == suppliers_info[r][2]):\n",
    "            suppliers_info[r][3] = suppliers_info[r][1]/((maximum_orders + 1) - suppliers_info[r][2])\n",
    "            continue\n",
    "        suppliers_info[r][3] = suppliers_info[r][1]/(maximum_orders - suppliers_info[r][2])\n",
    "\n",
    "    # сортируем всё по взвешенному среднему\n",
    "    suppliers_info.sort(key = lambda x: x[3], reverse = True)\n",
    "    quantity_of_danger_sup = 0\n",
    "    danger_suppliers = []\n",
    "    mean_weight = suppliers_info[0][3]/2\n",
    "    \n",
    "    # проверяем сколько постващиков имеют высокий уровень возвратов\n",
    "    for g in range(len(suppliers_info)):\n",
    "        if(suppliers_info[g][3] > mean_weight):\n",
    "            quantity_of_danger_sup += 1\n",
    "            danger_suppliers.append(suppliers_info[g][0])\n",
    "        else:\n",
    "            break\n",
    "    return quantity_of_danger_sup"
   ]
  },
  {
   "cell_type": "code",
   "execution_count": 212,
   "metadata": {},
   "outputs": [],
   "source": [
    "p2p_8 = P2P_8(df)"
   ]
  },
  {
   "cell_type": "code",
   "execution_count": 213,
   "metadata": {},
   "outputs": [],
   "source": [
    "def P2P_9(df):\n",
    "    \n",
    "    # P2P-9 Процент заказов у поставщиков с высоким уровнем возвратов\n",
    "    # первый элемент вспомогательного массива suppliers_info это сам поставщик, второй это количество возвратов у этого поставщика\n",
    "    # третьий это количество заказов, которые были сделаны у данного поставщика, четвёртый это взвешенное среднее после этого\n",
    "    # идёт список кейсов, в которых присутствовал данный поставщик пример: [\"seller of cars\", 10, 40, 2.4, case12, case45, ...]\n",
    "    cases = df['CaseID'].unique()\n",
    "    suppliers_info = []\n",
    "    \n",
    "    # список всех поставщиков\n",
    "    suppliers = list(df[\"Supplier\"].unique())\n",
    "    for i in range(len(suppliers)):\n",
    "        \n",
    "        # Создаём вспомогательный массив\n",
    "        suppliers_info.append([suppliers[i], 0, 0, 0])\n",
    "    for j in range(len(df)):\n",
    "        \n",
    "        # находим индекс поставщика в нашем списке\n",
    "        supplier_index = suppliers.index(df[\"Supplier\"][j])\n",
    "        \n",
    "        # проверяем был ли возврат\n",
    "        if(df[\"Activity Category\"][j] == \"Поступление материала-Возврат\"):\n",
    "            suppliers_info[supplier_index][1] += 1 \n",
    "            \n",
    "        # проверяем смотрели ли мы этот кейс для данного поставщика\n",
    "        if(df[\"CaseID\"][j] not in suppliers_info[supplier_index]):\n",
    "            suppliers_info[supplier_index][2] += 1\n",
    "            suppliers_info[supplier_index].append(df[\"CaseID\"][j])\n",
    "    \n",
    "    # ищем поставщика с максимальным количеством заказов\n",
    "    maximum_orders = 0\n",
    "    for n in range(len(suppliers_info)):\n",
    "        if(maximum_orders < suppliers_info[n][2]):\n",
    "            maximum_orders = suppliers_info[n][2]\n",
    "    \n",
    "    # считаем взвешенное среднее для каждого поставщика\n",
    "    for r in range(len(suppliers_info)):\n",
    "        if(maximum_orders == suppliers_info[r][2]):\n",
    "            suppliers_info[r][3] = suppliers_info[r][1]/((maximum_orders + 1) - suppliers_info[r][2])\n",
    "            continue\n",
    "        suppliers_info[r][3] = suppliers_info[r][1]/(maximum_orders - suppliers_info[r][2])\n",
    "\n",
    "    # сортируем всё по взвешенному среднему\n",
    "    suppliers_info.sort(key = lambda x: x[3], reverse = True)\n",
    "    quantity_of_danger_sup = 0\n",
    "    danger_suppliers = []\n",
    "    mean_weight = suppliers_info[0][3]/2\n",
    "    \n",
    "    # проверяем сколько постващиков имеют высокий уровень возвратов\n",
    "    for g in range(len(suppliers_info)):\n",
    "        if(suppliers_info[g][3] > mean_weight):\n",
    "            quantity_of_danger_sup += 1\n",
    "            danger_suppliers.append(suppliers_info[g][0])\n",
    "        else:\n",
    "            break\n",
    "    \n",
    "    # считаем количество заказов у поставщиков с высоким уровнем возвратов\n",
    "    vis_cases = []\n",
    "    n = 0\n",
    "    quantity_of_danger_orders = 0\n",
    "    for i in range(len(df[\"CaseID\"])):\n",
    "        \n",
    "        # проверяем посещали ли мы текущий кейс\n",
    "        if(df[\"CaseID\"][i] not in vis_cases):\n",
    "            \n",
    "            # проверяем является ли текущий поставщик поставщиком с высоким уровнем возвратов, если да, то увеличиваем\n",
    "            # счётчик quantity_of_danger_orders на единицу\n",
    "            if(df['Supplier'][i] in danger_suppliers):\n",
    "                quantity_of_danger_orders += 1\n",
    "            \n",
    "            # запоминаем, что этот кейс мы уже посетили\n",
    "            vis_cases.append(df[\"CaseID\"][i])\n",
    "    return round(quantity_of_danger_orders/len(cases) * 100)"
   ]
  },
  {
   "cell_type": "code",
   "execution_count": 214,
   "metadata": {},
   "outputs": [],
   "source": [
    "p2p_9 = P2P_9(df)"
   ]
  },
  {
   "cell_type": "code",
   "execution_count": 215,
   "metadata": {},
   "outputs": [],
   "source": [
    "def P2P_10(df):\n",
    "    \n",
    "    # P2P-10 Оборотный капитал: издержки возвратов\n",
    "    suppliers = df['Supplier'].unique()\n",
    "    suppliers = list(suppliers)\n",
    "    suppliers_list = []\n",
    "    cases_summed = []\n",
    "    \n",
    "    # первый элемент вспомогательного списка suppliers_list это имя поставщика, второй это сумма всех возвратов, третий количество возвратов\n",
    "    # и четвёртый это общее количество заказов\n",
    "    # создаём вспомогательный список\n",
    "    for i in range(len(suppliers)):\n",
    "        suppliers_list.append([suppliers[i], 0, 0, 0])\n",
    "        \n",
    "    for j in range(len(df[\"CaseID\"])):\n",
    "        \n",
    "        # находим индекс кейса в нашем списке\n",
    "        supplier_index = suppliers.index(df['Supplier'][j])\n",
    "        if(df['CaseID'][j] not in suppliers_list[supplier_index]):\n",
    "            \n",
    "             # помечаем кейс для данного поставщика\n",
    "            suppliers_list[supplier_index].append(df['CaseID'][j])\n",
    "            \n",
    "            # увеличиваем счётчик количества заказов для данного поставщика\n",
    "            suppliers_list[supplier_index][3] += 1\n",
    "            \n",
    "        if(df['Activity Category'][j] == 'Поступление материала-Возврат'):\n",
    "            if(df['CaseID'][j] not in cases_summed):\n",
    "                if(not np.isnan(df[\"Amount\"][j])):\n",
    "                    \n",
    "                    # увеличиваем счётчик суммы возвратов\n",
    "                    suppliers_list[supplier_index][1] += df[\"Amount\"][j]\n",
    "                    \n",
    "                # запоминаем посещённый кейс\n",
    "                cases_summed.append(df['CaseID'][j])\n",
    "                \n",
    "                # увеличиваем счётчик количество возвратов\n",
    "                suppliers_list[supplier_index][2] += 1\n",
    "    expec = 0\n",
    "    \n",
    "    # считаем вероятность возврата и умножаем это на сумму возвратов, затем суммируем эти значения по всем поставщикам\n",
    "    for n in range(len(suppliers_list)):\n",
    "        \n",
    "        # вероятность возврата умноженная на сумму\n",
    "        expec += suppliers_list[n][2]/suppliers_list[n][3] * suppliers_list[n][1]\n",
    "    return expec"
   ]
  },
  {
   "cell_type": "code",
   "execution_count": 216,
   "metadata": {},
   "outputs": [],
   "source": [
    "p2p_10 = P2P_10(df)"
   ]
  },
  {
   "cell_type": "markdown",
   "metadata": {},
   "source": [
    "Подготовим ивентлог для дальнейшей работы:\n",
    "1. Преобразуем колонку \"Event end\" в тип *datetime*\n",
    "2. Зададим порядок на событиях.\n",
    "3. Отсортируем ивентлог сначала по временной отметке (\"Event end\"), а затем, в случае равенства времени, отсортируем события (\"Activity\") по заданному ранее порядку."
   ]
  },
  {
   "cell_type": "code",
   "execution_count": 217,
   "metadata": {},
   "outputs": [],
   "source": [
    "#1\n",
    "df = pd.read_csv('Event_log.txt', sep='\\t', encoding='cp1251')\n",
    "df['Event end'] = pd.to_datetime(df['Event end'])"
   ]
  },
  {
   "cell_type": "code",
   "execution_count": 218,
   "metadata": {},
   "outputs": [],
   "source": [
    "#2 - порядок: \n",
    "#https://docs.google.com/spreadsheets/d/16JxSRbvITYWgG_ov5JRpdduzbPC4-THgZwN7RiskkgM/edit?hl=en#gid=737381414\n",
    "\n",
    "order = ['Создание Заявки',\n",
    "         'Заявка согласована',\n",
    "         'Заявка изменена: дата доставки',\n",
    "         'Заявка изменена: закупочная организация',\n",
    "         'Заявка изменена: количество',\n",
    "         'Заявка изменена: увеличена цена',\n",
    "         \n",
    "         'Заказ на поставку создан',\n",
    "         \n",
    "         'Требование авансового платежа',\n",
    "         'Требование авансового платежа-Возврат',\n",
    "         'Авансовый платеж',\n",
    "         'Перерасчет по требованию авансового платежа',\n",
    "         'Перерасчет авансового платежа',\n",
    "         'Перерасчет авансового платежа-Возврат',\n",
    "         \n",
    "         'Заказ на поставку изменен: валюта',\n",
    "         'Заказ на поставку изменен: налоговые условия',\n",
    "         'Заказ на поставку изменен: срока предоставления скидки',\n",
    "         'Заказ на поставку изменен: условия оплаты',\n",
    "         'Заказ на поставку изменен: увеличено количество',\n",
    "         'Заказ на поставку изменен: уменьшено количество',\n",
    "         'Заказ на поставку изменен: увеличена цена',\n",
    "         'Заказ на поставку изменен: уменьшена цена',\n",
    "         'Заказ на поставку изменен: увеличена стоимость',\n",
    "         'Заказ на поставку изменен: уменьшена стоимость',\n",
    "         'Заказ на поставку изменен: эффективная стоимость',\n",
    "         'Заказ на поставку изменен: группа закупки',\n",
    "         'Заказ на поставку изменен: завод',\n",
    "         'Заказ на поставку изменен: запланированный срок доставки в днях',\n",
    "         'Заказ на поставку изменен: лимит на недопоставку',\n",
    "         'Заказ на поставку изменен: лимит на сверх-поставку',\n",
    "         'Заказ на поставку изменен: материал',\n",
    "         'Заказ на поставку изменен: поставщик',\n",
    "         'Заказ на поставку изменен: статус наличия счета',\n",
    "         'Заказ на поставку изменен: тип документа',\n",
    "         \n",
    "         'Заказ на поставку согласован 1',\n",
    "         'Заказ на поставку: изменен статус выпуска: ДанныеОтпр, возможны изменения',\n",
    "         'Заказ на поставку: изменен статус выпуска: НачКод, возможны изменения',\n",
    "         'Заказ на поставку: изменен статус выпуска: ДанныеСогл, измен не возможны',\n",
    "         'Заказ на поставку: изменен статус выпуска: Согл, измен не возможны',\n",
    "         'Заказ на поставку согласован 2',\n",
    "         \n",
    "         'Заказ на поставку: согласование отклонено',\n",
    "         'Заявка: согласование отклонено',\n",
    "         'Заказ на поставку бессрочно заблокирован',\n",
    "         'Заказ на поставку удален',\n",
    "         'Заявка удалена',\n",
    "         'Заявка восстановлена',\n",
    "         'Заказ на поставку восстановлен',\n",
    "         \n",
    "         'Поступление материала-Получение-Завершающая поставка',\n",
    "         'Поступление материала-Получение-Частичная поставка',\n",
    "         'Поступление материала-Возврат-Частичная поставка',\n",
    "         'Поступление материала-Возврат-Завершающая поставка',\n",
    "         \n",
    "         'Счет предварительно полностью зарегистрирован',\n",
    "         'Счет заведен',\n",
    "         'Поступление счета',\n",
    "         'Поступление счета-Возврат',\n",
    "         \n",
    "         'Счет блокирован: несоответствие даты',\n",
    "         'Счет блокирован: несоответствие количества',\n",
    "         'Счет блокирован: несоответствие цены',\n",
    "         'Счет изменен: налоговые условия',\n",
    "         'Счет изменен: условия оплаты',\n",
    "         'Счет изменен: дата',\n",
    "         \n",
    "         'Платеж (выравнивание)',\n",
    "         \n",
    "         'Ведомость учета работ/услуг']"
   ]
  },
  {
   "cell_type": "code",
   "execution_count": 219,
   "metadata": {},
   "outputs": [],
   "source": [
    "#3\n",
    "\n",
    "df['Activity'] = pd.Categorical(df['Activity'], categories=order)\n",
    "df = df.sort_values(by=['Event end', 'Activity'])"
   ]
  },
  {
   "cell_type": "markdown",
   "metadata": {},
   "source": [
    "## KPI"
   ]
  },
  {
   "cell_type": "markdown",
   "metadata": {},
   "source": [
    "На вход подается объект - dataframe, **отсортированный по временной отметке и событиям**."
   ]
  },
  {
   "cell_type": "markdown",
   "metadata": {},
   "source": [
    "### Общие.\n",
    "\n",
    "1) О-1 Общее количество экземпляров процесса (кейсов). +\n",
    "\n",
    "2) О-2 Количество маршрутов. (- время работы) +-\n",
    "\n",
    "UPD: вывожу сам словарь, массив, в котором хранится последовательность событий для фиксированного маршртуа, а также массив с \"Case Id\" экземпляров процесса соответствующих маршрутам. Это выводится для того, чтобы считать O-5 и O-7 по маршрутам.\n",
    "\n",
    "3) О-3 Количество уникальных пользователей. +\n",
    "\n",
    "4) О-4 Число начатых и завершившихся экземпляров процесса. +\n",
    "\n",
    "UPD: вывожу число и процент. \n",
    "\n",
    "5) О-5 Нестандартные по времени экземпляры процесса. +\n",
    "\n",
    "UPD: смотрю по маршрутам.\n",
    "\n",
    "Для двух стандартных отклонений вывод: (252, 0.031401869158878506).\n",
    "\n",
    "Для одного: (868, 0.1081619937694704).\n",
    "\n",
    "Больше среднего: (2411, 0.30043613707165107).\n",
    "\n",
    "6) О-6 Сложные экземпляры процесса. (на доработке)\n",
    "\n",
    "7) О-7 Среднее количество циклов на экземпляр процесса.\n",
    "\n",
    "UPD: убираю клиринг.\n",
    "\n",
    "Считаю по маршрутам.\n",
    "\n",
    "Проблема: \n",
    "\n",
    "8) О-8 Среднее количество экземпляров процесса, созданных за один день. +\n",
    "\n",
    "UPD: построил горизонтальную гистограмму. \n",
    "\n",
    "Проблема: слишком много значений. \n",
    "\n",
    "Возможное решение: брать лишь некоторые значения для визуализации, например, которые сильно отклонялись от среднего.\n",
    "\n",
    "9) О-9 Самые популярные категории событий. +\n",
    "\n",
    "UPD: считаю популярность не по событиям, а по экземплярам процесса, которые были охвачены категорией.\n",
    "\n",
    "10) О-10 Среднее количество времени, проведенное в рамках одного класса событий. +\n",
    "\n",
    "UPD: Перевел вывод в формат Дни:Часы:Минуты:Секунды. Изменил общее на среднее."
   ]
  },
  {
   "cell_type": "code",
   "execution_count": 220,
   "metadata": {},
   "outputs": [],
   "source": [
    "def unique_paths(df):\n",
    "    #Считает количество маршрутов.\n",
    "    \n",
    "    #Вход:  dataframe - eventlog, отсортированный по временной отметке и событиям. \n",
    "    #Выход: количество маршрутов.\n",
    "    \n",
    "    cases = df['CaseID'].unique()\n",
    "    chain = df[df['CaseID'] == cases[0]]\n",
    "    activ = chain['Activity'].tolist()\n",
    "\n",
    "    eq_chains = []\n",
    "    eq_chains.append(activ)\n",
    "\n",
    "    num_cases = [[] for i in range(len(cases))]\n",
    "    num_cases[0].append(cases[0])\n",
    "\n",
    "    d = {}\n",
    "    d[0] = 1\n",
    "    k = 1\n",
    "\n",
    "    for case in cases[1:]:\n",
    "        chain = df[df['CaseID'] == case]\n",
    "        activ = chain['Activity'].tolist()\n",
    "        i = 0\n",
    "    \n",
    "        for key in d.keys():\n",
    "            if eq_chains[key] == activ:\n",
    "                d[key] += 1\n",
    "                num_cases[key].append(case)\n",
    "                break\n",
    "            i += 1\n",
    "        if i == k:\n",
    "            d[k] = 1\n",
    "            eq_chains.append(activ)\n",
    "            num_cases[k].append(case)\n",
    "            k += 1\n",
    "            \n",
    "    return d, eq_chains, num_cases"
   ]
  },
  {
   "cell_type": "code",
   "execution_count": 221,
   "metadata": {},
   "outputs": [],
   "source": [
    "tran_dict = {'Авансовый платеж': 'Upfront payment' , \n",
    " 'Авансовый платеж-Возврат': 'Upfront payment-return', \n",
    " 'Заказ на поставку':'Order for a delivery', \n",
    " 'Заказ на поставку восстановлен': 'Order for a delivery restored', \n",
    " 'Заказ на поставку изменен': 'Order for a delivery changed', \n",
    " 'Заказ на поставку отклонен': 'Order for a delivery declined',\n",
    " 'Заказ на поставку согласован': 'Order for a delivery agreed',\n",
    " 'Заказ на поставку создан': 'Order for a delivery created',\n",
    " 'Заказ на поставку удален': 'Order for a delivery deleted', \n",
    " 'Заявка': 'Request', \n",
    " 'Заявка восстановлена': 'Request restored',\n",
    " 'Заявка изменена': 'Request changed', \n",
    " 'Заявка отклонена': 'Request declined',\n",
    " 'Заявка согласована': 'Request agreed',\n",
    " 'Заявка удалена': 'Request deleted', \n",
    " 'Перерасчет авансового платежа': 'recalculation of upfront payment',\n",
    " 'Платеж (выравнивание)': 'Payment (clearing)', \n",
    " 'Поступление материала': 'Product delivery',\n",
    " 'Поступление материала-Возврат': 'Product delivery-Return', \n",
    " 'Поступление материала-Получение': 'Product delivery - Recieved',\n",
    " 'Поступление счета': 'Invoice recieved', \n",
    " 'Поступление счета-Возврат': 'Invoice recieved-return',\n",
    " 'Создание Заявки':'Creation of a request', \n",
    " 'Статус счета изменен': 'Status of an invoice changed',\n",
    " 'Счет': 'Account',\n",
    " 'Счет блокирован': 'Account blocked', \n",
    " 'Счет изменен': 'Account changed', \n",
    " 'Учет услуг': 'Accounting services'}"
   ]
  },
  {
   "cell_type": "markdown",
   "metadata": {},
   "source": [
    "#### 1. О-1 Общее количество экземпляров процесса (кейсов)."
   ]
  },
  {
   "cell_type": "code",
   "execution_count": 222,
   "metadata": {},
   "outputs": [],
   "source": [
    "def O_1(df):\n",
    "    #Вычисляет общее количество экземпляров процесса .\n",
    "    \n",
    "    #Вход:  dataframe - eventlog, отсортированный по временной отметке и событиям.\n",
    "    #Выход: общее количество цепочек.\n",
    "    \n",
    "     return len(df['CaseID'].unique())"
   ]
  },
  {
   "cell_type": "code",
   "execution_count": 223,
   "metadata": {},
   "outputs": [
    {
     "name": "stdout",
     "output_type": "stream",
     "text": [
      "Wall time: 10.9 ms\n"
     ]
    },
    {
     "data": {
      "text/plain": [
       "8025"
      ]
     },
     "execution_count": 223,
     "metadata": {},
     "output_type": "execute_result"
    }
   ],
   "source": [
    "#time check\n",
    "%time O_1(df)"
   ]
  },
  {
   "cell_type": "markdown",
   "metadata": {},
   "source": [
    "#### 2. О-2 Количество маршрутов."
   ]
  },
  {
   "cell_type": "code",
   "execution_count": 224,
   "metadata": {},
   "outputs": [],
   "source": [
    "#считает словарь ключ - уникальная цепочка, значение - количество повторений, т.е. сразу считает \"гистрограмму\"\n",
    "#популярности цепочек\n",
    "#замечание! медленно работает - ускорить\n",
    "\n",
    "# eq_chains - события одного маршрута\n",
    "# num_cases - CaseID цепочек, которые входят в маршрут\n",
    "# d - словарь, в котором ключ - номер маршрута, значение - количество цеопчек этого маршрута \n",
    "# k - сколько всего маршрутов на текущий момент\n",
    "# i - число для проверки того, прошли ли мы все значения словря за итерацию\n",
    "\n",
    "def O_2(df):\n",
    "    #Считает количество маршрутов.\n",
    "    \n",
    "    #Вход:  dataframe - eventlog, отсортированный по временной отметке и событиям. \n",
    "    #Выход: количество маршрутов.\n",
    "    \n",
    "    cases = df['CaseID'].unique()\n",
    "    chain = df[df['CaseID'] == cases[0]]\n",
    "    activ = chain['Activity'].tolist()\n",
    "\n",
    "    eq_chains = []\n",
    "    eq_chains.append(activ)\n",
    "\n",
    "    num_cases = [[] for i in range(len(cases))]\n",
    "    num_cases[0].append(cases[0])\n",
    "\n",
    "    d = {}\n",
    "    d[0] = 1\n",
    "    k = 1\n",
    "\n",
    "    for case in cases[1:]:\n",
    "        chain = df[df['CaseID'] == case]\n",
    "        activ = chain['Activity'].tolist()\n",
    "        i = 0\n",
    "    \n",
    "        for key in d.keys():\n",
    "            if eq_chains[key] == activ:\n",
    "                d[key] += 1\n",
    "                num_cases[key].append(case)\n",
    "                break\n",
    "            i += 1\n",
    "        if i == k:\n",
    "            d[k] = 1\n",
    "            eq_chains.append(activ)\n",
    "            num_cases[k].append(case)\n",
    "            k += 1\n",
    "            \n",
    " #   return d, eq_chains, num_cases\n",
    "    return len(d)"
   ]
  },
  {
   "cell_type": "code",
   "execution_count": 225,
   "metadata": {},
   "outputs": [
    {
     "name": "stdout",
     "output_type": "stream",
     "text": [
      "Wall time: 1min 34s\n"
     ]
    },
    {
     "data": {
      "text/plain": [
       "1653"
      ]
     },
     "execution_count": 225,
     "metadata": {},
     "output_type": "execute_result"
    }
   ],
   "source": [
    "%time O_2(df)"
   ]
  },
  {
   "cell_type": "markdown",
   "metadata": {},
   "source": [
    "#### 3. О-3 Количество уникальных пользователей."
   ]
  },
  {
   "cell_type": "code",
   "execution_count": 226,
   "metadata": {},
   "outputs": [],
   "source": [
    "def O_3(df):\n",
    "    #Вход:  dataframe - eventlog, отсортированный по временной отметке и событиям.\n",
    "    #Выход: количество уникальных пользователей.\n",
    "    user_dict = df.groupby('User')['Activity'].count().to_dict()\n",
    "\n",
    "    plt.figure(figsize=(15, 25)) \n",
    "    plt.barh(range(len(user_dict)), list(user_dict.values()), align='center')\n",
    "    plt.yticks(range(len(user_dict)), list(user_dict.keys()))\n",
    "    plt.show()\n",
    "    \n",
    "    return len(df['User'].dropna().unique())"
   ]
  },
  {
   "cell_type": "code",
   "execution_count": 227,
   "metadata": {
    "scrolled": true
   },
   "outputs": [
    {
     "data": {
      "image/png": "[encoded data removed]",
      "text/plain": [
       "<Figure size 1080x1800 with 1 Axes>"
      ]
     },
     "metadata": {
      "needs_background": "light"
     },
     "output_type": "display_data"
    },
    {
     "name": "stdout",
     "output_type": "stream",
     "text": [
      "Wall time: 2.24 s\n"
     ]
    },
    {
     "data": {
      "text/plain": [
       "123"
      ]
     },
     "execution_count": 227,
     "metadata": {},
     "output_type": "execute_result"
    }
   ],
   "source": [
    "#time check\n",
    "%time O_3(df)"
   ]
  },
  {
   "cell_type": "markdown",
   "metadata": {},
   "source": [
    "#### 4. О-4 Число начатых и завершившихся экземпляров процесса."
   ]
  },
  {
   "cell_type": "code",
   "execution_count": 228,
   "metadata": {},
   "outputs": [],
   "source": [
    "def O_4(df):\n",
    "    #Считает число начатых и законченных экземпляров процесса (кейсов) и их долю от общего числа экземпляров процесса.\n",
    "    \n",
    "    #Вход:  dataframe - eventlog, отсортированный по временной отметке и событиям.\n",
    "    #Выход: число и отношение кол-ва начатых и завершенных экземпляров процесса (кейсов)\n",
    "    #       (т.е. таких экземпляров процесса (кейсов), которые закончились Катагорией События\n",
    "    #       ('Activity Category') == 'Платеж (выравнивание)') к общему кол-ву экземпляров процесса.\n",
    "    \n",
    "    started_cases = set(df.iloc[np.where(df['Activity Category'] == 'Заказ на поставку создан')]['CaseID'])\n",
    "    finished_cases = set(df.iloc[np.where(df['Activity Category'] == 'Платеж (выравнивание)')]['CaseID'])\n",
    "    \n",
    "    return len(started_cases & finished_cases), len(started_cases & finished_cases) / len(df['CaseID'].unique())"
   ]
  },
  {
   "cell_type": "code",
   "execution_count": 229,
   "metadata": {},
   "outputs": [
    {
     "name": "stdout",
     "output_type": "stream",
     "text": [
      "Wall time: 36.9 ms\n"
     ]
    },
    {
     "data": {
      "text/plain": [
       "(7313, 0.9112772585669782)"
      ]
     },
     "execution_count": 229,
     "metadata": {},
     "output_type": "execute_result"
    }
   ],
   "source": [
    "#time check\n",
    "%time O_4(df)"
   ]
  },
  {
   "cell_type": "markdown",
   "metadata": {},
   "source": [
    "#### 5. О-5 Нестандратные по времени экземпляры процесса (кейсы)."
   ]
  },
  {
   "cell_type": "code",
   "execution_count": 230,
   "metadata": {},
   "outputs": [],
   "source": [
    "def O_5(df):\n",
    "    # Вычисляет нестандартные экземпляры процесса (кейсы) по времени в рамках маршрутов.\n",
    "    # Нестандартная экземпляр процесса - экземпляр процесса, который отклоняется по времени от среднего\n",
    "    # более чем на два стандартных отклонения.\n",
    "    \n",
    "    # Вход:  dataframe-eventlog, отсортированный по временной отметке и событиям.\n",
    "    # Выход: кортеж(tuple). \n",
    "    #        Первое значение - количество нестандартных по времени экземпляров процесса.\n",
    "    #        Второе значение - процентное соотношение этих экземпляров процесса ко всем экземплярам процесса.\n",
    "    \n",
    "    cases = df['CaseID'].unique()\n",
    "    all_time = df.groupby(\n",
    "        ['CaseID'])['Event end'].apply(\n",
    "        lambda a: (a.max() - a.min()).total_seconds()\n",
    "    )\n",
    "    \n",
    "    d, eq_chains, num_cases = unique_paths(df)\n",
    "    ind = 0\n",
    "    anomal_cases = []\n",
    "    \n",
    "    for i in range(len(num_cases)): \n",
    "        c = num_cases[i]\n",
    "        av = np.mean(all_time[c])\n",
    "        std = np.std(all_time[c])\n",
    "        to_remember = np.where(all_time[c] > av + 2 * std)[0]\n",
    "        \n",
    "        if len(to_remember) != 0:\n",
    "            anomal_cases.append(num_cases[i])\n",
    "        ind += len(to_remember)\n",
    "    \n",
    "    return ind, ind / len(cases), anomal_cases"
   ]
  },
  {
   "cell_type": "code",
   "execution_count": 231,
   "metadata": {},
   "outputs": [],
   "source": [
    "#time check\n",
    "#%time O_5(df)"
   ]
  },
  {
   "cell_type": "markdown",
   "metadata": {},
   "source": [
    "#### 6. О-6 Сложные экземпляры процесса."
   ]
  },
  {
   "cell_type": "code",
   "execution_count": 232,
   "metadata": {},
   "outputs": [],
   "source": [
    "def convert_to_adj_list(activ):\n",
    "    #Переводит из последовательности событий в список смежности.(более удобное представление графа).\n",
    "    \n",
    "    #Вход:  activ - list, массив строк - последовательность событий одного экземпляра процесса.\n",
    "    #Выход: res - list, массив смежности графа.\n",
    "    decode = list(set(activ))\n",
    "    dec_dict = {}\n",
    "    \n",
    "    for i in range(len(decode)):\n",
    "        dec_dict[decode[i]] = i\n",
    "    \n",
    "    res = [[] for i in range(len(decode))]\n",
    "    \n",
    "    for i in range(len(activ) - 1):\n",
    "        res[dec_dict[activ[i]]].append(dec_dict[activ[i + 1]])\n",
    "    \n",
    "    return res\n",
    "\n",
    "def O_6(df):\n",
    "    #Считает количество сложных экземплярлв процесса. Сложный экземпляр процесса - такой экземпляра процесса, \n",
    "    #который отклоняется от среднего больше, чем на одно стандартное отклонение,\n",
    "    #по количеству событий и количеству циклов. \n",
    "    \n",
    "    #Вход:  dataframe-eventlog, отсортированный по временной отметке и событиям.\n",
    "    #Выход: количество сложных экземпляров процесса.\n",
    " \n",
    "    num_of_act_in_case = df.groupby('CaseID').agg({'Activity': 'count'})['Activity'].to_dict()\n",
    "    \n",
    "    num_of_loop_in_case = {}\n",
    "\n",
    "    cases = df['CaseID'].unique()\n",
    "    begin = time.time()\n",
    "    for case in cases:\n",
    "        chain = df.iloc[np.where(df['CaseID'] == case)]\n",
    "        activ = chain['Activity'].tolist()\n",
    "    \n",
    "        l_am = 0\n",
    "    \n",
    "        if len(activ) != len(set(activ)):\n",
    " \n",
    "            conv_activ = convert_to_adj_list(activ)\n",
    "            visited = [0 for i in range(len(conv_activ))]\n",
    "        \n",
    "            def dfs(vert, l_am):\n",
    "                #Обход в глубину.\n",
    "                visited[vert] = 1\n",
    "                for v in conv_activ[vert]:\n",
    "                    if not visited[v]:\n",
    "                        l_am = dfs(v, l_am)\n",
    "                    else:\n",
    "                        l_am += 1\n",
    "                return l_am\n",
    "\n",
    "            for i in range(len(conv_activ)):\n",
    "                if not visited[i]:\n",
    "                    l_am += dfs(i, l_am)\n",
    "\n",
    "        num_of_loop_in_case[case] = l_am\n",
    "        \n",
    "    loop_in_case = np.array(list(num_of_loop_in_case.values()))\n",
    "    act_in_case = np.array(list(num_of_act_in_case.values()))\n",
    "    \n",
    "    av_loop = np.mean(loop_in_case)\n",
    "    std_loop = np.std(loop_in_case) \n",
    "    ind_loop = np.where(loop_in_case > av_loop + std_loop)\n",
    "\n",
    "    av_act = np.mean(act_in_case)\n",
    "    std_act = np.std(act_in_case)\n",
    "    ind_act = np.where(act_in_case > av_act + std_act)\n",
    "    \n",
    "    return len(set(ind_act[0]) & set(ind_loop[0]))"
   ]
  },
  {
   "cell_type": "code",
   "execution_count": 233,
   "metadata": {},
   "outputs": [],
   "source": [
    "#time check\n",
    "#%time O_6(df)"
   ]
  },
  {
   "cell_type": "markdown",
   "metadata": {},
   "source": [
    "#### 7. О-7 Среднее количество циклов на один экземпляр процесса."
   ]
  },
  {
   "cell_type": "code",
   "execution_count": 234,
   "metadata": {},
   "outputs": [],
   "source": [
    "def O_7(df):\n",
    "    #Смотреть по маршрутам. \n",
    "    #без клиринга\n",
    "    \n",
    "    #Вычисляет среднее количество циклов на один экземпляр процесса.\n",
    "    \n",
    "    #Вход:  dataframe - eventlog, отсортированный по временной отметке и событиям.\n",
    "    #Выход: среднее количество циклов на один экземпляр процесса.\n",
    "    \n",
    "    n_df = df.drop(df[df['Activity'] == 'Платеж (выравнивание)'].index)\n",
    "    \n",
    "    cases = n_df['CaseID'].unique()    \n",
    "    loops = []\n",
    "    ind = {}\n",
    "    i = 0\n",
    "    \n",
    "    for case in cases:\n",
    "        chain = n_df[n_df['CaseID'] == case]\n",
    "        activ = chain['Activity'].tolist()\n",
    "        ind[case] = i\n",
    "        \n",
    "        events = set()\n",
    "        loop_am = 0\n",
    "        \n",
    "        for act in activ:\n",
    "            if act in events:\n",
    "                loop_am += 1\n",
    "                events.add(act)\n",
    "            else:\n",
    "                events.add(act)\n",
    "        \n",
    "        i += 1        \n",
    "        loops.append(loop_am)\n",
    "        \n",
    "   \n",
    "    d, eq_chains, num_cases = unique_paths(n_df)\n",
    "    av = []\n",
    "        \n",
    "    loops = np.array(loops)\n",
    "    \n",
    "    for c in num_cases: \n",
    "        summ = 0\n",
    "        count = 0\n",
    "        for j in c:\n",
    "            summ += ind[j]\n",
    "            count += 1\n",
    "            \n",
    "        if count:\n",
    "            av.append(summ / count)\n",
    "        else:\n",
    "            av.append(0)\n",
    "    \n",
    "    return np.array(av).mean()"
   ]
  },
  {
   "cell_type": "code",
   "execution_count": 235,
   "metadata": {},
   "outputs": [],
   "source": [
    "#time check\n",
    "#%time O_7(df)"
   ]
  },
  {
   "cell_type": "markdown",
   "metadata": {},
   "source": [
    "#### 8. О-8 Среднее количество экземпляров процесса, созданных за один день."
   ]
  },
  {
   "cell_type": "code",
   "execution_count": 236,
   "metadata": {},
   "outputs": [],
   "source": [
    "import matplotlib.pyplot as plt\n",
    "\n",
    "def O_8(df):\n",
    "    #Вычисляет среднее количество экземпляров процесса, созданных за день.\n",
    "    #(т.е. таких, у которых Событие('Activity') == 'Заказ на поставку создан')\n",
    "    \n",
    "    #Вход:  dataframe - eventlog, отсортированный по временной отметке и событиям.\n",
    "    #Выход: среднее количество экземпляров процесса, созданных за день.\n",
    "    \n",
    "    df_n = pd.DataFrame(df, columns=['Event end', 'CaseID', 'Activity'])\n",
    "    df_n['Event end'] = df_n['Event end'].astype(str).apply(lambda x: x[:10])\n",
    "    count = df_n.iloc[np.where(df_n['Activity'] == 'Заказ на поставку создан')]['Event end']\n",
    "    \n",
    "    plt.figure(figsize=(25, 10))\n",
    "    plt.title('Распределние создания экземпляров процесса по неделям')\n",
    "    plt.xlabel('Дата')\n",
    "    plt.ylabel('Количество созданий')\n",
    "    plt.hist(pd.to_datetime(count.values), bins=52, alpha=0.78)\n",
    "    plt.show()\n",
    "    \n",
    "    am = sum(Counter(count).values())\n",
    "    days = len(df_n['Event end'].unique())\n",
    "    \n",
    "    return am / days"
   ]
  },
  {
   "cell_type": "code",
   "execution_count": 237,
   "metadata": {
    "scrolled": false
   },
   "outputs": [],
   "source": [
    "#time check\n",
    "#%time O_8(df)"
   ]
  },
  {
   "cell_type": "markdown",
   "metadata": {},
   "source": [
    "#### 9. О-9 Самые популярные категории событий."
   ]
  },
  {
   "cell_type": "code",
   "execution_count": 238,
   "metadata": {},
   "outputs": [],
   "source": [
    "def O_9(df):\n",
    "    #Вычисляет популярные категории событий относительно количества экземпляров процесса и пользователей.\n",
    "    \n",
    "    #Вход:  dataframe - eventlog, отсортированный по временной отметке и событиям.\n",
    "    #Выход: Кортеж (act_am_dict, users_am_dict) \n",
    "    #        act_am_dict - словарь, в котором ключ - название категории событий('Activity Category'),\n",
    "    #        а значение - отношение количества экземпляров процесса, которые охвачены категорией, \n",
    "    #        и количества всех экземпляров процесса.\n",
    "    #        users_am_dict - словарь, в котором ключ - название категории событий('Activity Category'),\n",
    "    #        а значение - количество уникальных пользователей, которые участвовали в этой категории событий.\n",
    "    \n",
    "    df_n = df.drop(df[df['Activity Category'] == 'Платеж (выравнивание)'].index)\n",
    "    act_am_dict = df_n.groupby('Activity Category')['CaseID'].unique().apply(lambda x: len(x))\\\n",
    "                  .div(len(df_n['CaseID'].unique())).to_dict()\n",
    "    users_am_dict = df_n.groupby('Activity Category').agg({\"User\": lambda x: x.nunique()}).to_dict()['User']\n",
    "    sorted_act_am_dict = sorted(act_am_dict.items(), key=lambda kv: kv[1], reverse=True)\n",
    "    sorted_users_am_dict = sorted(users_am_dict.items(), key=lambda kv: kv[1], reverse=True)\n",
    "    \n",
    "    ret_first = []\n",
    "    ret_second = []\n",
    "    \n",
    "    for i in range(5):\n",
    "        key_1 = sorted_act_am_dict[i]\n",
    "        key_2 = sorted_users_am_dict[i]\n",
    "        \n",
    "        ret_first.append([tran_dict[key_1[0]], key_1[1]])\n",
    "        ret_second.append([tran_dict[key_2[0]], key_2[1]])\n",
    "        \n",
    "    return ret_first, ret_second"
   ]
  },
  {
   "cell_type": "code",
   "execution_count": 239,
   "metadata": {},
   "outputs": [],
   "source": [
    "#time check\n",
    "#%time O_9(df)"
   ]
  },
  {
   "cell_type": "markdown",
   "metadata": {},
   "source": [
    "#### 10. О-10 Среднее количество времени, проведенное в рамках одного класса событий."
   ]
  },
  {
   "cell_type": "code",
   "execution_count": 240,
   "metadata": {},
   "outputs": [],
   "source": [
    "def convert_time(time):\n",
    "    \n",
    "    day = time // (24 * 3600)\n",
    "    time = time % (24 * 3600)\n",
    "    hour = time // 3600\n",
    "    time %= 3600\n",
    "    minutes = time // 60\n",
    "    time %= 60\n",
    "    seconds = time\n",
    "    \n",
    "    return \"%d Days %d Hours %d Minutes %d Seconds\" % (day, hour, minutes, seconds)\n",
    "\n",
    "def O_10(df):\n",
    "    #Вычисляет отношение общего времени, проведенного в рамках категории события, к количеству экземпляров процесса,\n",
    "    #которые были охвачены этой категорией события.\n",
    "    \n",
    "    #Вход:  dataframe - eventlog,  отсортированный по временной отметке и событиям.\n",
    "    #Выход: all_time - словарь, где ключ - название категории события, а значение - среднее количество проведенного \n",
    "    #       времени в рамках соотв. категории события на экземпляр события.\n",
    "    df.sort_values(by='Event end', inplace=True)\n",
    "    all_time = {cat : 0 for cat in df['Activity Class'].unique()}\n",
    "    case_am = {cat : 0 for cat in df['Activity Class'].unique()}\n",
    "    cases = df['CaseID'].unique()\n",
    "    \n",
    "    \n",
    "    for case in cases:\n",
    "        chain = df.iloc[np.where(df['CaseID'] == case)]\n",
    "        cat = chain['Activity Class'].tolist()\n",
    "        time = chain['Event end'].tolist()\n",
    "        \n",
    "        for i in range(len(cat) - 2):\n",
    "            all_time[cat[i]] += (time[i + 1] - time[i]).total_seconds()\n",
    "        \n",
    "        for cl in cat:\n",
    "            case_am[cl] += 1\n",
    "    ret = []\n",
    "    for key in all_time.keys():\n",
    "        all_time[key] = convert_time((all_time[key] / case_am[key]))\n",
    "        ret.append([tran_dict[key], all_time[key]])\n",
    "        \n",
    "    return ret "
   ]
  },
  {
   "cell_type": "code",
   "execution_count": 241,
   "metadata": {},
   "outputs": [],
   "source": [
    "#%time O_10(df)"
   ]
  },
  {
   "cell_type": "code",
   "execution_count": 242,
   "metadata": {},
   "outputs": [],
   "source": [
    "o_1 = O_1(df)"
   ]
  },
  {
   "cell_type": "code",
   "execution_count": 243,
   "metadata": {},
   "outputs": [],
   "source": [
    "o_2 = O_2(df)"
   ]
  },
  {
   "cell_type": "code",
   "execution_count": 244,
   "metadata": {
    "scrolled": true
   },
   "outputs": [
    {
     "data": {
      "image/png": "[encoded data removed]",
      "text/plain": [
       "<Figure size 1080x1800 with 1 Axes>"
      ]
     },
     "metadata": {
      "needs_background": "light"
     },
     "output_type": "display_data"
    }
   ],
   "source": [
    "o_3 = O_3(df)"
   ]
  },
  {
   "cell_type": "code",
   "execution_count": 245,
   "metadata": {},
   "outputs": [],
   "source": [
    "o_4 = O_4(df)"
   ]
  },
  {
   "cell_type": "code",
   "execution_count": 246,
   "metadata": {},
   "outputs": [],
   "source": [
    "o_5 = O_5(df)"
   ]
  },
  {
   "cell_type": "code",
   "execution_count": 247,
   "metadata": {},
   "outputs": [],
   "source": [
    "o_6 = O_6(df)"
   ]
  },
  {
   "cell_type": "code",
   "execution_count": 248,
   "metadata": {},
   "outputs": [],
   "source": [
    "o_7 = O_7(df)"
   ]
  },
  {
   "cell_type": "code",
   "execution_count": 249,
   "metadata": {
    "scrolled": true
   },
   "outputs": [
    {
     "data": {
      "image/png": "[encoded data removed]",
      "text/plain": [
       "<Figure size 1800x720 with 1 Axes>"
      ]
     },
     "metadata": {
      "needs_background": "light"
     },
     "output_type": "display_data"
    }
   ],
   "source": [
    "o_8 = O_8(df)"
   ]
  },
  {
   "cell_type": "code",
   "execution_count": 250,
   "metadata": {},
   "outputs": [],
   "source": [
    "o_9 = O_9(df)"
   ]
  },
  {
   "cell_type": "code",
   "execution_count": 251,
   "metadata": {},
   "outputs": [],
   "source": [
    "o_10 = O_10(df)"
   ]
  },
  {
   "cell_type": "markdown",
   "metadata": {},
   "source": [
    "## Аномалии."
   ]
  },
  {
   "cell_type": "markdown",
   "metadata": {},
   "source": [
    "### Эффективность."
   ]
  },
  {
   "cell_type": "code",
   "execution_count": 252,
   "metadata": {},
   "outputs": [],
   "source": [
    "df = pd.read_csv('Event_log.txt', sep='\\t', encoding='cp1251')"
   ]
  },
  {
   "cell_type": "code",
   "execution_count": 253,
   "metadata": {},
   "outputs": [],
   "source": [
    "def eff_anomaly_detection(df):\n",
    "    cases = df['CaseID'].unique()\n",
    "    classes = df['Activity Class'].unique()\n",
    "    features = np.zeros((len(cases), len(classes)))\n",
    "\n",
    "    for i in range(len(cases)):\n",
    "        chain = df[df['CaseID'] == cases[i]]    \n",
    "        chain_count = chain.groupby('Activity Class')['Activity'].value_counts()\n",
    "        for j in range(len(classes)):\n",
    "            if classes[j] in chain_count:\n",
    "                features[i][j] = chain_count[classes[j]].sum()\n",
    "            \n",
    "    mean_values = np.zeros(len(classes))\n",
    "\n",
    "    tran_feat = features.T\n",
    "\n",
    "    for i in range(len(classes)):\n",
    "        mean_values[i] = tran_feat[i].mean()\n",
    "    \n",
    "    fin_dict = dict(zip(classes, mean_values))\n",
    "\n",
    "    anomaly = np.zeros((len(cases), len(classes)))\n",
    "\n",
    "    for j in range(len(classes)):\n",
    "        anomaly[np.where(tran_feat[j] > mean_values[j] + 2 * tran_feat[j].std())[0]] = 1\n",
    "    \n",
    "    amount = len(np.unique(np.where(anomaly == 1)[0]))\n",
    "    \n",
    "    return amount, amount / len(cases)"
   ]
  },
  {
   "cell_type": "code",
   "execution_count": 254,
   "metadata": {},
   "outputs": [],
   "source": [
    "eff_anomaly_amount, eff_anomaly_proc = eff_anomaly_detection(df)"
   ]
  },
  {
   "cell_type": "code",
   "execution_count": 255,
   "metadata": {},
   "outputs": [],
   "source": [
    "# Данная функция вычисляет сколько раз пользователь нарушил разграничение обязанностей в кейсе\n",
    "def find_quantity_of_violations(incomp_events, activ):\n",
    "    num_of_violations = 0\n",
    "    \n",
    "    # ищем как часто встречались разные типы событий в списке\n",
    "    sorted_col = Counter(activ)\n",
    "    \n",
    "    # если несовместимое событие имеется в коллекции sorted_col то счётчик num_of_violations увеличится на количество\n",
    "    # случаев, когда пользователь выполнял несовместимое событие, если же событие отсутствует то к счётчику прибавиться 0\n",
    "    for i in range(len(incomp_events)):\n",
    "        num_of_violations += sorted_col[incomp_events[i]]\n",
    "    return num_of_violations\n",
    "def SOD_anomalies(df):\n",
    "\n",
    "    # запоминаем название события в incomp_event и соответствующие ему несовместимые события в incomp_with\n",
    "    incomp_event1 = 'Заказ на поставку создан'\n",
    "    incomp_event2 = 'Создание Заявки'\n",
    "    incomp_event3 = 'Требование авансового платежа-Возврат'\n",
    "    incomp_event4 = 'Счет заведен'\n",
    "    incomp_with1 = ['Заказ на поставку согласован 1', 'Заказ на поставку согласован 2', 'Платеж (выравнивание)', \n",
    "                    'Заказ на поставку блокирован', \n",
    "                    'Заказ на поставку: изменен статус выпуска: ДанныеОтпр, возможны изменения',\n",
    "                    'Заказ на поставку: изменен статус выпуска: ДанныеСогл, измен не возможны', \n",
    "                    'Заказ на поставку: изменен статус выпуска: НачКод, возможны изменения', \n",
    "                    'Заказ на поставку: изменен статус выпуска: Согл, измен не возможны']\n",
    "    incomp_with2 = ['Заявка согласована']\n",
    "    incomp_with3 = ['Авансовый платеж', 'Перерасчет авансового платежа', 'Перерасчет авансового платежа-Возврат', \n",
    "                    'Перерасчет по требованию авансового платежа']\n",
    "    incomp_with4 = ['Счет блокирован: несоответствие цены', 'Счет предварительно полностью зарегистрирован', \n",
    "                    'Счет блокирован: несоответствие даты', \n",
    "                    'Счет предварительно зарегистрирован']\n",
    "    \n",
    "    # группируем по идентификторам кейса, пользователям и событиям, которые выполняли пользователи в соответствующих кейсах\n",
    "    arrcase = df.groupby(['CaseID', 'User'])['Activity'].apply(list)\n",
    "    arrcase = arrcase.reset_index()\n",
    "    \n",
    "    # вспомогательные списки и переменные\n",
    "    users_violations_track = []\n",
    "    users = arrcase['User'].unique()\n",
    "    users = list(users)\n",
    "    violations = 0\n",
    "    total_violations = 0\n",
    "    \n",
    "    # первый элемент списка users_violations_track это идентификатор пользователя, а второй количество его нарушений\n",
    "    for i in range(len(users)):\n",
    "        users_violations_track.append([users[i], 0])\n",
    "        \n",
    "    # ищем нарушения разграничений обязанностей\n",
    "    for i in range(len(arrcase['User'])):\n",
    "        # находим индекс пользователя в нашем списке пользователей\n",
    "        user_index = users.index(arrcase['User'][i])\n",
    "        \n",
    "        # проверяем выполнял ли пользователь событие, у которого есть список несовместимых событий, затем проверяем\n",
    "        # на наличие нарушений\n",
    "        if(incomp_event1 in arrcase['Activity'][i]):\n",
    "            \n",
    "            # находим количество нарушений в текущем кейсе\n",
    "            violations = find_quantity_of_violations(incomp_with1, arrcase['Activity'][i])\n",
    "            \n",
    "            # увеличиваем счётчик нарушений для текущего пользователя и то же самое делаем для счётчика общего\n",
    "            # количества нарушений\n",
    "            users_violations_track[user_index][1] += violations\n",
    "            total_violations += violations\n",
    "        if(incomp_event2 in arrcase['Activity'][i]):\n",
    "            violations = find_quantity_of_violations(incomp_with2, arrcase['Activity'][i])\n",
    "            users_violations_track[user_index][1] += violations\n",
    "            total_violations += violations\n",
    "        if(incomp_event3 in arrcase['Activity'][i]):\n",
    "            violations = find_quantity_of_violations(incomp_with3, arrcase['Activity'][i])\n",
    "            users_violations_track[user_index][1] += violations\n",
    "            total_violations += violations \n",
    "        if(incomp_event4 in arrcase['Activity'][i]):\n",
    "            violations = find_quantity_of_violations(incomp_with4, arrcase['Activity'][i])\n",
    "            users_violations_track[user_index][1] += violations\n",
    "            total_violations += violations\n",
    "            \n",
    "    # сортируем пользовтелей в порядке убывания количества нарушений\n",
    "    users_violations_track = sorted(users_violations_track, key = lambda x: x[1], reverse = True)\n",
    "    \n",
    "    # отсекаем пользователей, у которых нету нарушений\n",
    "    users_violations_track = list(filter(lambda x: x[1] != 0, users_violations_track))\n",
    "    \n",
    "    # возвращаем список, первым элементом которого является отсортированный список пользователей нарушивших\n",
    "    # разграничение обязанностей, а второй элемент это общее количество нарушений разграничения обязанностей\n",
    "    return [users_violations_track, total_violations]"
   ]
  },
  {
   "cell_type": "code",
   "execution_count": 256,
   "metadata": {},
   "outputs": [],
   "source": [
    "SOD = SOD_anomalies(df)"
   ]
  },
  {
   "cell_type": "code",
   "execution_count": 257,
   "metadata": {},
   "outputs": [],
   "source": [
    "d, eq_chains, num_cases =  unique_paths(df)"
   ]
  },
  {
   "cell_type": "code",
   "execution_count": 258,
   "metadata": {},
   "outputs": [
    {
     "data": {
      "text/plain": [
       "[(58, 176), (246, 79), (299, 70), (734, 70), (54, 68)]"
      ]
     },
     "execution_count": 258,
     "metadata": {},
     "output_type": "execute_result"
    }
   ],
   "source": [
    "sorted_d = sorted(d.items(), key=lambda kv: kv[1], reverse=True)\n",
    "sorted_d[:5]"
   ]
  },
  {
   "cell_type": "code",
   "execution_count": 259,
   "metadata": {},
   "outputs": [],
   "source": [
    "annex_1 = [[eq_chains[i[0]], i[1]] for i in sorted_d[:5]]"
   ]
  },
  {
   "cell_type": "code",
   "execution_count": 271,
   "metadata": {},
   "outputs": [],
   "source": [
    "#Выявления цепочек с аномальным временем выполнения\n",
    "def duration_anomaly(df):\n",
    "    #Подготовка данных к обработке\n",
    "    df = pd.read_csv('Event_log.txt', sep='\\t', encoding='cp1251')\n",
    "    df['Event end'] = pd.to_datetime(df['Event end'])\n",
    "    df = df.sort_values(by='Event end')\n",
    "\n",
    "    #Обработка данных: отбор закрытых кейсов\n",
    "    started_cases = set(df.iloc[np.where(df['Activity Category'] == 'Заказ на поставку создан')]['CaseID'])\n",
    "    finished_cases = set(df.iloc[np.where(df['Activity Category'] == 'Платеж (выравнивание)')]['CaseID'])\n",
    "    finished = started_cases & finished_cases\n",
    "    df['finished'] = df['CaseID'].apply(lambda x: x in finished)\n",
    "    df = df[df['finished'] == 1]\n",
    "\n",
    "    #Обработка данных: группировка событий в кейсы\n",
    "    cases = df.groupby(['CaseID'])['Activity'].apply(lambda x: x.sum())\n",
    "    cases = cases.reset_index()\n",
    "    casesun = cases.drop_duplicates(subset=['Activity'])\n",
    "    finished_cases\n",
    "    casesun['Newcount']=casesun['Activity'].map(cases['Activity'].value_counts())\n",
    "    arrcase = df.groupby(['CaseID'])['Activity'].apply(list)\n",
    "    times = df.groupby(['CaseID'])['Event end'].apply(list)\n",
    "\n",
    "    #Анализ данных: вычисление длительности каждого события\n",
    "    def event_dur(arr):\n",
    "        return np.array(arr[1:]) -  np.array(arr[:-1])\n",
    "    durs = times.apply(lambda x: event_dur(x))\n",
    "    for i in durs.index:\n",
    "        for j in range(len(durs[i])):\n",
    "            durs[i][j] = durs[i][j].total_seconds()\n",
    "    case_durs = durs.reset_index()\n",
    "\n",
    "    #Анализ данных: вычисление средней длительности события для каждого кейса\n",
    "    case_durs['average'] = case_durs['Event end'].apply(lambda x: np.mean(x))\n",
    "\n",
    "    #Анализ данных: вычисление средней длительности события для всех кейсов\n",
    "    aver = np.mean(case_durs['average'])\n",
    "    standard = np.std(case_durs['average'])\n",
    "\n",
    "    #Идентификация аномальный кейсов\n",
    "    case_durs['anomaly'] = case_durs['average']  > (aver + standard)\n",
    "\n",
    "\n",
    "\n",
    "    #Вывод результата\n",
    "    def ConvertSectoDay(n): \n",
    "  \n",
    "        day = n // (24 * 3600) \n",
    "  \n",
    "        n = n % (24 * 3600) \n",
    "        hour = n // 3600\n",
    "  \n",
    "        n %= 3600\n",
    "        minutes = n // 60\n",
    "  \n",
    "        n %= 60\n",
    "        seconds = n \n",
    "      \n",
    "        return int(day), int(hour), int(minutes), int(seconds)\n",
    "    plt.hist(case_durs['average'][case_durs['anomaly'] == True], bins=20, alpha=0.78, range=[1, max(case_durs['average'])])\n",
    "    plt.grid()\n",
    "    plt.ylabel('Number of cases')\n",
    "    plt.xlabel('Average time of activity in the process path')\n",
    "    #print('Количество кейсов, в которых выявлены аномалии: ' + str(sum(case_durs['average']  > (aver + standard))))\n",
    "    #res = ConvertSectoDay(aver + standard)\n",
    "    #print('Средняя  длительность события для всех кейсов: ' + str(res[0]) + ' дней ' + str(res[1]) + ' часов ' + str(res[2]) + ' минут ' + str(res[3]) + ' секунд')\n",
    "    #print('Отношение кейсов, в которых выявлены аномалии, к общему числу всех кейсов: ' + str(int(100 * round(sum(case_durs['average']  > (aver + standard))/len(cases), 2))) + '%')\n",
    "    plt.savefig('gist.png')\n",
    "    \n",
    "    return sum(case_durs['average']  > (aver + standard)), int(100 * round(sum(case_durs['average']  > (aver + standard))/len(cases), 2))\n"
   ]
  },
  {
   "cell_type": "code",
   "execution_count": 272,
   "metadata": {},
   "outputs": [
    {
     "name": "stderr",
     "output_type": "stream",
     "text": [
      "C:\\ProgramData\\Anaconda3\\lib\\site-packages\\ipykernel_launcher.py:20: SettingWithCopyWarning: \n",
      "A value is trying to be set on a copy of a slice from a DataFrame.\n",
      "Try using .loc[row_indexer,col_indexer] = value instead\n",
      "\n",
      "See the caveats in the documentation: http://pandas.pydata.org/pandas-docs/stable/indexing.html#indexing-view-versus-copy\n"
     ]
    },
    {
     "data": {
      "image/png": "[encoded data removed]",
      "text/plain": [
       "<Figure size 432x288 with 1 Axes>"
      ]
     },
     "metadata": {
      "needs_background": "light"
     },
     "output_type": "display_data"
    }
   ],
   "source": [
    "time_anomaly = duration_anomaly(df)"
   ]
  },
  {
   "cell_type": "markdown",
   "metadata": {},
   "source": [
    "## Формирование отчета"
   ]
  },
  {
   "cell_type": "code",
   "execution_count": 319,
   "metadata": {
    "scrolled": true
   },
   "outputs": [],
   "source": [
    "import time\n",
    "from reportlab.pdfbase.pdfmetrics import stringWidth\n",
    "from reportlab.rl_config import defaultPageSize\n",
    "from reportlab.platypus import PageBreak\n",
    "from reportlab.lib.enums import TA_JUSTIFY\n",
    "from reportlab.lib.pagesizes import letter, A4\n",
    "from reportlab.platypus import SimpleDocTemplate, Paragraph, Spacer, Image\n",
    "from reportlab.lib.styles import getSampleStyleSheet, ParagraphStyle\n",
    "from reportlab.lib.units import inch, cm\n",
    "from reportlab.platypus.tables import Table, TableStyle\n",
    "from reportlab.pdfgen import canvas\n",
    "from reportlab.pdfbase import pdfmetrics\n",
    "from reportlab.pdfbase import ttfonts\n",
    "from reportlab.lib.colors import Color\n",
    "from reportlab.lib import colors\n",
    "\n",
    "def set_table_style(table):\n",
    "    table.setStyle(TableStyle([\n",
    "               ('ALIGN',(0,0),(-1,-1),'CENTER'),\n",
    "               ('INNERGRID', (0,0), (-1,-1), 0.25, colors.black),\n",
    "               ('BOX', (0,0), (-1,-1), 0.25, colors.black),\n",
    "             ]))\n",
    "    return table\n",
    "\n",
    "def set_table_style1(table):\n",
    "    table.setStyle(TableStyle([\n",
    "               ('ALIGN',(1,1),(-1,-1),'CENTER'),\n",
    "               ('INNERGRID', (0,0), (-1,-1), 0.25, colors.black),\n",
    "               ('BOX', (0,0), (-1,-1), 0.25, colors.black),\n",
    "             ]))\n",
    "    return table\n",
    "\n",
    "MyFontObject = ttfonts.TTFont('Arial', 'arial.ttf')\n",
    "pdfmetrics.registerFont(MyFontObject)\n",
    "\n",
    "doc = SimpleDocTemplate(\"Overview.pdf\", pagesize=A4,\n",
    "                        rightMargin=72, leftMargin=72,\n",
    "                        topMargin=72, bottomMargin=18)\n",
    "\n",
    "p1 = ParagraphStyle(name = 'Title',\n",
    "                    fontSize = 24,\n",
    "                    fontName='Helvetica-Bold',\n",
    "                    leftIndent = 85,\n",
    "                  )\n",
    "\n",
    "VisualizationStyle = ParagraphStyle(name = 'Title',\n",
    "                    fontSize = 20,\n",
    "                    fontName='Helvetica-Bold',\n",
    "                    leftIndent = 40,\n",
    "                  )\n",
    "\n",
    "GeneralKPIStyle = ParagraphStyle(name = 'Title',\n",
    "                    fontSize = 20,\n",
    "                    fontName='Helvetica-Bold',\n",
    "                    leftIndent = 60,\n",
    "                  )\n",
    "\n",
    "AnomalyStyle = ParagraphStyle(name = 'Title',\n",
    "                    fontSize = 20,\n",
    "                    fontName='Helvetica-Bold',\n",
    "                    leftIndent = 140,\n",
    "                  )\n",
    "\n",
    "AnnexStyle = ParagraphStyle(name = 'Title',\n",
    "                    fontSize = 20,\n",
    "                    fontName='Helvetica-Bold',\n",
    "                    leftIndent = 200,\n",
    "                  )\n",
    "\n",
    "PKPIStyle = ParagraphStyle(name = 'Title',\n",
    "                    fontSize = 20,\n",
    "                    fontName='Helvetica-Bold',\n",
    "                    leftIndent = 80,\n",
    "                  )\n",
    "\n",
    "p2 = ParagraphStyle(name = 'Title',\n",
    "                    fontSize = 12,\n",
    "                    fontName='Arial',\n",
    "                    leftIndent = 20,\n",
    "                  )\n",
    "\n",
    "\n",
    "p4 = ParagraphStyle(name = 'Title',\n",
    "                    fontSize = 12,\n",
    "                    fontName='Arial',\n",
    "                    leftIndent = 20,\n",
    "                    leading = 20\n",
    "                  )\n",
    "\n",
    "p5 = ParagraphStyle(name = 'Title',\n",
    "                    fontSize = 12,\n",
    "                    fontName='Arial',\n",
    "                    leftIndent = 20,\n",
    "                    leading = 20\n",
    "                  )\n",
    "\n",
    "p6 = ParagraphStyle(name = 'Title',\n",
    "                    fontSize = 12,\n",
    "                    fontName='Arial',\n",
    "                    leftIndent = 20,\n",
    "                    leading = 15\n",
    "                  )\n",
    "\n",
    "Story = []\n",
    "\n",
    "proc = 18\n",
    "symb = '%'\n",
    "\n",
    "\n",
    "formatted_time = time.ctime()\n",
    "\n",
    "#styles = getSampleStyleSheet()\n",
    "#styles.add(ParagraphStyle(name='small', fontsize=100))\n",
    "\n",
    "ptext = 'Business process report' \n",
    "Story.append(Paragraph(ptext, p1))\n",
    "Story.append(Spacer(1, 35))\n",
    "\n",
    "\n",
    "ptext = '1 Visualization of the business process' \n",
    "Story.append(Paragraph(ptext, VisualizationStyle))\n",
    "Story.append(Spacer(1, 12))\n",
    "\n",
    "ptext = 'Detail percent of the visualization: %d %s' % (proc, symb)\n",
    "Story.append(Paragraph(ptext, p2))\n",
    "Story.append(Spacer(1, 12))\n",
    "\n",
    "'''\n",
    "im = Image('graphimage.png', 16*cm, 21*cm) # width height\n",
    "#Story.append(Spacer(1, 120))\n",
    "Story.append(Spacer(1, 6))\n",
    "Story.append(im)\n",
    "'''\n",
    "\n",
    "\n",
    "im = Image('g.png', 7*inch, 8*inch) # width height\n",
    "Story.append(Spacer(1, 40))\n",
    "Story.append(im)\n",
    "\n",
    "Story.append(PageBreak())\n",
    "\n",
    "ptext = ' 2 General Key Performance Indicators' \n",
    "Story.append(Paragraph(ptext, GeneralKPIStyle))\n",
    "Story.append(Spacer(1, 12))\n",
    "\n",
    "ptext = ' \\\n",
    "    <br/> 1.  Number of cases: %d <br />\\\n",
    "    <br/> 2.  Number of unique process paths: %d <br />\\\n",
    "    <br/> 3.  Number of unique users: %d <br />\\\n",
    "    <br/> 4.  Number of completed process paths: %d <br/>\\\n",
    "    <br/>     Ratio of completed process paths: %f <br />\\\n",
    "    <br/> 5.  Number of deviant cases based on duration: %d <br />\\\n",
    "    <br/>     Ration of deviant cases to total number of casess: %f <br />\\\n",
    "    <br/> 6.  Complicated process paths: %d <br />\\\n",
    "    <br/> 7.  Average number of loops per process path: %d <br />\\\n",
    "    <br/> 8.  Average number of cases created per day: %d <br />\\\n",
    "    <br/> 9.  Most popular event categories  within a business process. <br />\\\n",
    "    <br/> <br />' % (o_1, o_2, o_3, o_4[0], o_4[1], o_5[0], o_5[1], o_6, o_7, o_8)\n",
    "Story.append(Paragraph(ptext, p2))\n",
    "t_1 = Table(o_9[0])\n",
    "set_table_style(t_1)\n",
    "Story.append(t_1)\n",
    "Story.append(Spacer(1, 25))\n",
    "\n",
    "\n",
    "t_2 = Table(o_9[1])\n",
    "set_table_style(t_2)\n",
    "Story.append(t_2)\n",
    "\n",
    "ptext = '<br/> 10. Total time spent within each event class: <br />'\n",
    "    \n",
    "Story.append(Paragraph(ptext, p4))\n",
    "t_3 = Table(o_10)\n",
    "set_table_style(t_3)\n",
    "Story.append(t_3)\n",
    "Story.append(Spacer(1, 35))\n",
    "\n",
    "Story.append(PageBreak())\n",
    "\n",
    "ptext = '3 P2P Key Performance Indicators' \n",
    "Story.append(Paragraph(ptext, PKPIStyle))\n",
    "Story.append(Spacer(1, 12))\n",
    "\n",
    "ptext = '\\\n",
    "    <br/> 1.  Procurement volume: %d <br />\\\n",
    "    <br/> 2.  Ratio between number of goods and services: %f <br />\\\n",
    "    <br/> 3.  Ratio between expenditure on goods and expenditure on services: %f <br />\\\n",
    "    <br/> 4.  Domestic orders: %d <br />\\\n",
    "    <br/> 5.  Number of incomplete deliveries: %d <br />\\\n",
    "    <br/> 6.  Average time spent to confirm an order: %s <br />\\\n",
    "    <br/>     Percent of cases without approval: %d %s <br />\\\n",
    "    <br/>     Percent of approved cases: %d %s <br />\\\n",
    "    <br/> 7.  Average number of changes applied to an order: %f <br />\\\n",
    "    <br/>     Number of cases, in which there was at least one change applied to Purcahse Order: %d <br />\\\n",
    "    <br/> 8.  High risk suppliers: %d <br />\\\n",
    "    <br/> 9.  Number of orders carried out by high risk suppliers: %d <br />\\\n",
    "    <br/> 10. Expenses of returns:  %d <br />\\\n",
    "    ' % (p2p_1, p2p_2, p2p_3, p2p_4, p2p_5, p2p_6[0], p2p_6[1], symb, p2p_6[2], symb, p2p_7[0], p2p_7[1]\n",
    "         ,p2p_8, p2p_9, p2p_10)\n",
    "Story.append(Paragraph(ptext, p2))\n",
    "Story.append(Spacer(1, 35))\n",
    "\n",
    "Story.append(PageBreak())\n",
    "\n",
    "ptext = '4 Anomaly analysis' \n",
    "Story.append(Paragraph(ptext, AnomalyStyle))\n",
    "Story.append(Spacer(1, 12))\n",
    "\n",
    "ptext = ' \\\n",
    "    <br/> 1.  Number of times Segregation of Duties policies have been violated: %d <br />\\\n",
    "    <br/> 2.  Number of cases with abnormal run-time: % d <br />\\\n",
    "    <br/>     Percent of cases with abnormal run-time: %d %s <br/>\\\n",
    "    <br/> 3.  Number of ineffective cases: %d  <br />\\\n",
    "' % (SOD[1], time_anomaly[0], time_anomaly[1], symb, eff_anomaly_amount) #, eff_anomaly_proc, symb)\n",
    "Story.append(Paragraph(ptext, p6))\n",
    "\n",
    "ptext =  ' \\\n",
    "    <br/>     Percent of ineffective cases: %d %s <br />\\\n",
    "' % (int(eff_anomaly_proc * 100), symb)\n",
    "\n",
    "Story.append(Paragraph(ptext, p5))\n",
    "\n",
    "im = Image('gist.png', 5*inch, 3*inch)\n",
    "Story.append(im)\n",
    "Story.append(Spacer(1, 12))\n",
    "\n",
    "Story.append(Spacer(1, 35))\n",
    "\n",
    "Story.append(PageBreak())\n",
    "\n",
    "ptext = '5 Annex' \n",
    "Story.append(Paragraph(ptext, AnnexStyle))\n",
    "Story.append(Spacer(1, 12))\n",
    "\n",
    "ptext = ' 1. Five most frequent process paths: ' \n",
    "\n",
    "Story.append(Paragraph(ptext, p2))\n",
    "Story.append(Spacer(1, 35))\n",
    "\n",
    "data_1 = []\n",
    "\n",
    "for row in annex_1:\n",
    "    s = '->'.join(row[0])\n",
    "    par = Paragraph(s, p2)\n",
    "    data_1.append([par, row[1]])\n",
    "    \n",
    "t_4 = Table(data_1)\n",
    "set_table_style(t_4)\n",
    "Story.append(t_4)\n",
    "Story.append(Spacer(1, 35))\n",
    "\n",
    "\n",
    "ptext = '2.  Users, who have infringed Segregation of Duties policies most often:' \n",
    "\n",
    "Story.append(Paragraph(ptext, p2))\n",
    "Story.append(Spacer(1, 35))\n",
    "\n",
    "t_5 = Table(SOD[0])\n",
    "set_table_style1(t_5)\n",
    "Story.append(t_5)\n",
    "Story.append(Spacer(1, 35))\n",
    "\n",
    "doc.build(Story)"
   ]
  },
  {
   "cell_type": "code",
   "execution_count": 315,
   "metadata": {},
   "outputs": [
    {
     "data": {
      "text/plain": [
       "2.864576529450934"
      ]
     },
     "execution_count": 315,
     "metadata": {},
     "output_type": "execute_result"
    }
   ],
   "source": [
    "p2p_3"
   ]
  },
  {
   "cell_type": "code",
   "execution_count": 264,
   "metadata": {},
   "outputs": [
    {
     "data": {
      "text/plain": [
       "20"
      ]
     },
     "execution_count": 264,
     "metadata": {},
     "output_type": "execute_result"
    }
   ],
   "source": [
    "int(eff_anomaly_proc * 100)"
   ]
  },
  {
   "cell_type": "code",
   "execution_count": 265,
   "metadata": {},
   "outputs": [
    {
     "data": {
      "text/plain": [
       "0.20809968847352026"
      ]
     },
     "execution_count": 265,
     "metadata": {},
     "output_type": "execute_result"
    }
   ],
   "source": [
    "eff_anomaly_proc"
   ]
  },
  {
   "cell_type": "code",
   "execution_count": null,
   "metadata": {},
   "outputs": [],
   "source": []
  }
 ],
 "metadata": {
  "kernelspec": {
   "display_name": "Python 3",
   "language": "python",
   "name": "python3"
  },
  "language_info": {
   "codemirror_mode": {
    "name": "ipython",
    "version": 3
   },
   "file_extension": ".py",
   "mimetype": "text/x-python",
   "name": "python",
   "nbconvert_exporter": "python",
   "pygments_lexer": "ipython3",
   "version": "3.7.1"
  }
 },
 "nbformat": 4,
 "nbformat_minor": 2
}
