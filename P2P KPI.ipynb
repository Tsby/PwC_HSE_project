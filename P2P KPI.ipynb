{
 "cells": [
  {
   "cell_type": "code",
   "execution_count": 8,
   "metadata": {},
   "outputs": [],
   "source": [
    "from collections import Counter\n",
    "import pandas as pd\n",
    "import numpy as np\n",
    "import time\n",
    "import datetime"
   ]
  },
  {
   "cell_type": "code",
   "execution_count": 9,
   "metadata": {},
   "outputs": [],
   "source": [
    "df = pd.read_csv('Event_log.txt', sep='\\t', encoding='cp1251')"
   ]
  },
  {
   "cell_type": "code",
   "execution_count": 10,
   "metadata": {},
   "outputs": [],
   "source": [
    "cases = df['CaseID'].unique()"
   ]
  },
  {
   "cell_type": "markdown",
   "metadata": {},
   "source": [
    "## P2P - 1 Поставщики с высоким уровнем возвратов"
   ]
  },
  {
   "cell_type": "code",
   "execution_count": 11,
   "metadata": {},
   "outputs": [],
   "source": [
    "def weighted_mean(df):\n",
    "    k = 0\n",
    "    cases = df['CaseID'].unique()\n",
    "    ret_cases = []\n",
    "\n",
    "    d_n = {}\n",
    "    d_ret = {}\n",
    "    for case in cases:\n",
    "        c = df.iloc[np.where(df['CaseID'] == case)]\n",
    "        act = c['Activity Category'].tolist()\n",
    "        sup = c['Supplier'].tolist()[0]\n",
    "        if sup in d_n:\n",
    "            d_n[sup] += 1\n",
    "        else:\n",
    "            d_n[sup] = 1\n",
    "        if 'Поступление материала-Возврат' in act:\n",
    "            if sup in d_ret:\n",
    "                d_ret[sup] += 1\n",
    "            else:\n",
    "                d_ret[sup] = 1\n",
    "            ret_cases.append(c['Supplier'].tolist()[0])\n",
    "        \n",
    "    for key in d_ret.keys():\n",
    "        d_ret[key] /= (1212 - d_n[key])\n",
    "    \n",
    "    return sorted(d_ret.items(), key=lambda x: x[1])\n",
    "weighted = weighted_mean(df)"
   ]
  },
  {
   "cell_type": "code",
   "execution_count": 12,
   "metadata": {},
   "outputs": [
    {
     "name": "stdout",
     "output_type": "stream",
     "text": [
      "Количество поставщиков с высоким уровнем возвратов: 98\n"
     ]
    }
   ],
   "source": [
    "# P2P - 1 Поставщики с высоким уровнем возвратов\n",
    "check = True\n",
    "danger_suppliers = []\n",
    "quantity_of_danger_sup = 0\n",
    "for i in range(len(weighted)): # проверяем сколько постващиков имеют высокий уровень возвратов\n",
    "    if(check):\n",
    "        main_weight = weighted[i][1]/2\n",
    "        check = False\n",
    "    if(weighted[i][1] > main_weight):\n",
    "        quantity_of_danger_sup += 1\n",
    "        danger_suppliers.append(weighted[i][0])\n",
    "    else:\n",
    "        break\n",
    "print(\"Количество поставщиков с высоким уровнем возвратов:\", quantity_of_danger_sup)"
   ]
  },
  {
   "cell_type": "markdown",
   "metadata": {},
   "source": [
    "## P2P - 2 Процент заказов у поставщиков с высоким уровнем возвратов"
   ]
  },
  {
   "cell_type": "code",
   "execution_count": 13,
   "metadata": {},
   "outputs": [
    {
     "name": "stdout",
     "output_type": "stream",
     "text": [
      "Количество заказов у поставщиков с высоким уровнем возвратов: 2883\n",
      "Процент заказов у поставщиков с высоким уровнем возвратов: 36 %\n"
     ]
    }
   ],
   "source": [
    "# P2P - 2 Процент заказов у поставщиков с высоким уровнем возвратов\n",
    "n = 0\n",
    "quantity_of_danger_orders = 0\n",
    "for i in range(len(df[\"CaseID\"])):\n",
    "    if(cases[n] == df[\"CaseID\"][i]):\n",
    "        if(df['Supplier'][i] in danger_suppliers):\n",
    "            quantity_of_danger_orders += 1\n",
    "        i = 0\n",
    "        n += 1\n",
    "    if(n == len(cases)):\n",
    "        break\n",
    "print(\"Количество заказов у поставщиков с высоким уровнем возвратов:\", quantity_of_danger_orders)\n",
    "print(\"Процент заказов у поставщиков с высоким уровнем возвратов:\", round(quantity_of_danger_orders/len(cases) * 100), \"%\")"
   ]
  },
  {
   "cell_type": "markdown",
   "metadata": {},
   "source": [
    "## P2P - 3 Среднее время подтверждения заказа"
   ]
  },
  {
   "cell_type": "code",
   "execution_count": 14,
   "metadata": {
    "scrolled": true
   },
   "outputs": [
    {
     "name": "stdout",
     "output_type": "stream",
     "text": [
      "среднее время подтверждения заказа: 1021990.7892390012 сек.\n",
      "Процент кейсов без согласования: 58 %\n",
      "Процент согласованных кейсов: 42 %\n"
     ]
    }
   ],
   "source": [
    "# P2P - 3 среднее время подтверждения заказа\n",
    "cases = df['CaseID'].unique()\n",
    "cases = list(cases)\n",
    "case_time_list = []\n",
    "for i in range(len(cases)):\n",
    "    case_time_list.append([cases[i], False]) # Создаём вспомогательный массив\n",
    "approved_times = []\n",
    "approved = ['Заказ на поставку согласован 1', 'Заказ на поставку согласован 2']\n",
    "df_time_sort = df.sort_values(by = 'Event end')\n",
    "df_time_sort = df_time_sort.reset_index(drop = True) # Сортриуем таблицу\n",
    "for j in range(len(df_time_sort) - 1, -1, -1): # итерируемся с конца табоицы\n",
    "    case_index = cases.index(df_time_sort['CaseID'][j])\n",
    "    if(df_time_sort[\"Activity\"][j] in approved and not case_time_list[case_index][1]): # проверяем есть ли согласование заказа\n",
    "        try: # считаем время согласования\n",
    "            approved_time = time.mktime(time.strptime(str(df_time_sort['Event end'][j]), \"%Y-%m-%d %H:%M:%S.%f\"))\n",
    "        except ValueError:\n",
    "            approved_time = time.mktime(time.strptime(str(df_time_sort['Event end'][j]), \"%Y-%m-%d %H:%M:%S\"))\n",
    "        case_time_list[case_index].append(approved_time)\n",
    "        case_time_list[case_index][1] = True\n",
    "    if(df_time_sort[\"Activity\"][j] == 'Заказ на поставку создан'): # проверяем время создания заказа и считаем его\n",
    "        try:\n",
    "            starting_time = time.mktime(time.strptime(str(df_time_sort['Event end'][j]), \"%Y-%m-%d %H:%M:%S.%f\"))\n",
    "        except ValueError:\n",
    "            starting_time = time.mktime(time.strptime(str(df_time_sort['Event end'][j]), \"%Y-%m-%d %H:%M:%S\"))\n",
    "        case_time_list[case_index].append(starting_time)\n",
    "        \n",
    "cases_without_confirm = 0\n",
    "for n in range(len(case_time_list)): # отнимаем время согласования и создания заявки у всех кейсов\n",
    "    if(len(case_time_list[n]) == 4):\n",
    "        approved_times.append(case_time_list[n][2] - case_time_list[n][3])\n",
    "    if(len(case_time_list[n]) == 3):\n",
    "        cases_without_confirm += 1\n",
    "\n",
    "if(len(approved_times) == 0):\n",
    "    print(\"Нету согласованных заказов\")\n",
    "else:\n",
    "    print(\"среднее время подтверждения заказа:\", sum(approved_times)/len(approved_times), \"сек.\")\n",
    "    print(\"Процент кейсов без согласования:\", \n",
    "          round(cases_without_confirm/(cases_without_confirm + len(approved_times)) * 100), \"%\")\n",
    "    print(\"Процент согласованных кейсов:\", \n",
    "          round(len(approved_times)/(cases_without_confirm + len(approved_times)) * 100), \"%\")"
   ]
  },
  {
   "cell_type": "markdown",
   "metadata": {},
   "source": [
    "## P2P - 4 Какой процент заказов — это услуги, а какой закупка товаров"
   ]
  },
  {
   "cell_type": "code",
   "execution_count": 15,
   "metadata": {},
   "outputs": [
    {
     "name": "stdout",
     "output_type": "stream",
     "text": [
      "процент заказов, которые являются услугами: 48 % \n",
      "процент заказов, которые являются закупкой товаров: 52 %\n"
     ]
    }
   ],
   "source": [
    "# P2P - 4 Какой процент заказов — это услуги, а какой закупка товаров\n",
    "cases = df['CaseID'].unique()\n",
    "n = 0\n",
    "services = 0\n",
    "goods = 0\n",
    "services_total_amount = 0\n",
    "goods_total_amount = 0\n",
    "Purchase_type = df['Purchase type'].unique()\n",
    "for i in range(len(df[\"CaseID\"])):\n",
    "    if(cases[n] == df[\"CaseID\"][i]):\n",
    "        if(df['Purchase type'][i] == Purchase_type[0]):\n",
    "            services += 1\n",
    "            if(not np.isnan(df[\"Amount\"][i])):\n",
    "                services_total_amount += df[\"Amount\"][i]\n",
    "        else:\n",
    "            if(not np.isnan(df[\"Amount\"][i])):\n",
    "                goods_total_amount += df[\"Amount\"][i]\n",
    "            goods += 1\n",
    "        i = 0\n",
    "        n += 1\n",
    "    if(n == len(cases)):\n",
    "        break\n",
    "serv_per = services/(services + goods) * 100\n",
    "goods_per = goods/(services + goods) * 100\n",
    "print(\"процент заказов, которые являются услугами:\", round(serv_per), \"%\",\n",
    "      \"\\nпроцент заказов, которые являются закупкой товаров:\", round(goods_per), \"%\")"
   ]
  },
  {
   "cell_type": "markdown",
   "metadata": {},
   "source": [
    "## P2P - 5 Процент товаров, которые поставляются исключительно внутренними поставщиками"
   ]
  },
  {
   "cell_type": "code",
   "execution_count": 16,
   "metadata": {},
   "outputs": [
    {
     "name": "stdout",
     "output_type": "stream",
     "text": [
      "общее количество внутренних товаров: 41\n",
      "процент товаров поставляющихся внутренними поставщиками по отношению ко всем товарам: 2 %\n"
     ]
    }
   ],
   "source": [
    "# P2P - 5 процент товаров которые поставляются исключительно внутренними поставщиками\n",
    "Material = df['Material'].unique() # массив всех материалов\n",
    "n = 0\n",
    "total_amount_domestic_mat = 0\n",
    "for i in range(len(df[\"CaseID\"])):\n",
    "    if(Material[n] == df[\"Material\"][i]):\n",
    "        if(df[\"Supplier_type\"][i] == 'Внутренние'): # проверяем является ли поставщик внутренним\n",
    "            total_amount_domestic_mat += 1\n",
    "            i = 0\n",
    "            n += 1\n",
    "        else:\n",
    "            i = 0\n",
    "            n += 1\n",
    "    if(n == len(Material)):\n",
    "        break\n",
    "    #print(\"i = \", i)\n",
    "print(\"общее количество внутренних товаров:\", total_amount_domestic_mat)\n",
    "print(\"процент товаров поставляющихся внутренними поставщиками по отношению ко всем товарам:\", \n",
    "      round(total_amount_domestic_mat/len(Material) * 100), \"%\")"
   ]
  },
  {
   "cell_type": "markdown",
   "metadata": {},
   "source": [
    "## P2P - 6 Общее количество потраченных денег"
   ]
  },
  {
   "cell_type": "code",
   "execution_count": 17,
   "metadata": {},
   "outputs": [
    {
     "name": "stdout",
     "output_type": "stream",
     "text": [
      "общее количество потраченных денег: 2775166966.7699986\n"
     ]
    }
   ],
   "source": [
    "# P2P - 6 Общее количество потраченных денег\n",
    "n = 0\n",
    "total_amount = 0\n",
    "for i in range(len(df[\"CaseID\"])):\n",
    "    if(cases[n] == df[\"CaseID\"][i]):\n",
    "        if(not np.isnan(df[\"Amount\"][i])):\n",
    "            total_amount += df[\"Amount\"][i]\n",
    "        i = 0\n",
    "        n += 1\n",
    "    if(n == len(cases)):\n",
    "        break\n",
    "print(\"общее количество потраченных денег:\", total_amount)"
   ]
  },
  {
   "cell_type": "markdown",
   "metadata": {},
   "source": [
    "## P2P - 7 Среднее количество изменений заказа"
   ]
  },
  {
   "cell_type": "code",
   "execution_count": 18,
   "metadata": {},
   "outputs": [
    {
     "name": "stdout",
     "output_type": "stream",
     "text": [
      "всего изменений заказа: 2255\n",
      "среднее количество изменений заказа: 0.2809968847352025\n"
     ]
    }
   ],
   "source": [
    "# P2P - 7 Среднее количество изменений заказа\n",
    "changes = ['Заказ на поставку бессрочно заблокирован', 'Заказ на поставку изменен: лимит на недопоставку', \n",
    "             'Заказ на поставку изменен: группа закупки', 'Заказ на поставку изменен: лимит на сверх-поставку',\n",
    "             'Заказ на поставку изменен: материал', 'Заказ на поставку изменен: налоговые условия',\n",
    "             'Заказ на поставку изменен: запланированный срок доставки в днях', \n",
    "              'Заказ на поставку изменен: эффективная стоимость', 'Заказ на поставку изменен: уменьшена стоимость',\n",
    "             'Заказ на поставку изменен: уменьшена цена', 'Заказ на поставку изменен: уменьшено количество',\n",
    "             'Заказ на поставку изменен: увеличена стоимость', 'Заказ на поставку изменен: увеличено количество',\n",
    "             'Заказ на поставку изменен: увеличена цена', 'Заказ на поставку изменен: срока предоставления скидки',\n",
    "             'Заказ на поставку изменен: условия оплаты', 'Заказ на поставку изменен: завод', \n",
    "              'Заказ на поставку изменен: статус наличия счета', 'Заказ на поставку изменен: валюта',\n",
    "             'Заказ на поставку изменен: поставщик', 'Заказ на поставку изменен: тип документа']\n",
    "\n",
    "quantity_of_changes = 0\n",
    "for i in range(len(df[\"CaseID\"])):\n",
    "    if(df[\"Activity\"][i] in changes):\n",
    "        quantity_of_changes += 1\n",
    "print(\"всего изменений заказа:\", quantity_of_changes)\n",
    "print(\"среднее количество изменений заказа:\", quantity_of_changes/len(cases))"
   ]
  },
  {
   "cell_type": "markdown",
   "metadata": {},
   "source": [
    "## P2P - 8 Количество неправильно завершенных частичных поставок"
   ]
  },
  {
   "cell_type": "code",
   "execution_count": 19,
   "metadata": {},
   "outputs": [
    {
     "name": "stdout",
     "output_type": "stream",
     "text": [
      "количество неправильных кейсов: 610\n"
     ]
    }
   ],
   "source": [
    "# P2P - 8 Количество неправильно завершенных частичных поставок\n",
    "activ = ['Поступление материала-Возврат-Частичная поставка', 'Поступление материала-Получение-Завершающая поставка']\n",
    "quantity_of_wrong_cases = 0\n",
    "for i in range(len(df[\"CaseID\"])):\n",
    "    bool = True\n",
    "    curr_case = df[\"CaseID\"][i]\n",
    "    if(df[\"Activity\"][i] == activ[0]):\n",
    "        j = i\n",
    "        while(curr_case == df[\"CaseID\"][j]):\n",
    "            if(df[\"Activity\"][i] == activ[1]):\n",
    "                bool = False\n",
    "                break\n",
    "            j += 1\n",
    "        if(bool):\n",
    "            quantity_of_wrong_cases += 1\n",
    "print(\"количество неправильных кейсов:\", quantity_of_wrong_cases)"
   ]
  },
  {
   "cell_type": "markdown",
   "metadata": {},
   "source": [
    "## P2P - 9 Количество денег, потраченных на  заказы/услуги в процентом соотношении"
   ]
  },
  {
   "cell_type": "code",
   "execution_count": 20,
   "metadata": {},
   "outputs": [
    {
     "name": "stdout",
     "output_type": "stream",
     "text": [
      "количество денег, которые были потрачены на услуги в процентом соотношении: 34 % \n",
      "количество денег, которые были потрачены на товары в процентом соотношении: 66 %\n"
     ]
    }
   ],
   "source": [
    "# P2P - 9 Количество денег потраченных на  заказы/услуги в процентом соотношении\n",
    "print(\"количество денег, которые были потрачены на услуги в процентом соотношении:\", \n",
    "      int(round(services_total_amount/total_amount * 100)), \"%\",\n",
    "     \"\\nколичество денег, которые были потрачены на товары в процентом соотношении:\",\n",
    "     int(round(goods_total_amount/total_amount * 100)), \"%\")"
   ]
  },
  {
   "cell_type": "markdown",
   "metadata": {},
   "source": [
    "## P2P-10 Матожидание возврата"
   ]
  },
  {
   "cell_type": "code",
   "execution_count": 21,
   "metadata": {},
   "outputs": [
    {
     "name": "stdout",
     "output_type": "stream",
     "text": [
      "Матожидание возврата: 82585037.34873027\n"
     ]
    }
   ],
   "source": [
    "# P2P-10 Матожидание возврата\n",
    "# first element of suppliers_list is a name of supplier, second is sum of all returns, third is a quantity of returns\n",
    "# and fourth element is quantity of orders\n",
    "suppliers = df['Supplier'].unique()\n",
    "suppliers = list(suppliers)\n",
    "suppliers_list = []\n",
    "cases_summed = []\n",
    "for i in range(len(suppliers)):\n",
    "    suppliers_list.append([suppliers[i], 0, 0, 0])\n",
    "for j in range(len(df[\"CaseID\"])):\n",
    "    supplier_index = suppliers.index(df['Supplier'][j])\n",
    "    if(df['CaseID'][j] not in suppliers_list[supplier_index]):\n",
    "        suppliers_list[supplier_index].append(df['CaseID'][j])\n",
    "        suppliers_list[supplier_index][3] += 1\n",
    "    if(df['Activity Category'][j] == 'Поступление материала-Возврат'):\n",
    "        if(df['CaseID'][j] not in cases_summed):\n",
    "            if(not np.isnan(df[\"Amount\"][j])):\n",
    "                suppliers_list[supplier_index][1] += df[\"Amount\"][j]    \n",
    "            cases_summed.append(df['CaseID'][j])\n",
    "            suppliers_list[supplier_index][2] += 1\n",
    "expec = 0\n",
    "for n in range(len(suppliers_list)):\n",
    "    expec += suppliers_list[n][2]/suppliers_list[n][3] * suppliers_list[n][1]\n",
    "print(\"Матожидание возврата:\", expec)"
   ]
  }
 ],
 "metadata": {
  "kernelspec": {
   "display_name": "Python 3",
   "language": "python",
   "name": "python3"
  },
  "language_info": {
   "codemirror_mode": {
    "name": "ipython",
    "version": 3
   },
   "file_extension": ".py",
   "mimetype": "text/x-python",
   "name": "python",
   "nbconvert_exporter": "python",
   "pygments_lexer": "ipython3",
   "version": "3.7.1"
  }
 },
 "nbformat": 4,
 "nbformat_minor": 2
}
