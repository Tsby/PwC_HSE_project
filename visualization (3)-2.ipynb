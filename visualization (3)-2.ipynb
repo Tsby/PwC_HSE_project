{
 "cells": [
  {
   "cell_type": "code",
   "execution_count": 1,
   "metadata": {},
   "outputs": [],
   "source": [
    "import pandas as pd\n",
    "import numpy as np"
   ]
  },
  {
   "cell_type": "code",
   "execution_count": 2,
   "metadata": {},
   "outputs": [],
   "source": [
    "df = pd.read_csv('Event_log.txt', sep='\\t', encoding='cp1251')"
   ]
  },
  {
   "cell_type": "code",
   "execution_count": 3,
   "metadata": {},
   "outputs": [],
   "source": [
    "df['Event end'] = pd.to_datetime(df['Event end'])"
   ]
  },
  {
   "cell_type": "code",
   "execution_count": 4,
   "metadata": {
    "scrolled": true
   },
   "outputs": [],
   "source": [
    "df = df.sort_values(by='Event end')\n"
   ]
  },
  {
   "cell_type": "code",
   "execution_count": 5,
   "metadata": {},
   "outputs": [],
   "source": [
    "cases = df.groupby(['CaseID'])['Activity'].apply(lambda x: x.sum())\n"
   ]
  },
  {
   "cell_type": "code",
   "execution_count": 6,
   "metadata": {},
   "outputs": [],
   "source": [
    "cases = cases.reset_index()"
   ]
  },
  {
   "cell_type": "code",
   "execution_count": 7,
   "metadata": {},
   "outputs": [],
   "source": [
    "casesun = cases.drop_duplicates(subset=['Activity'])"
   ]
  },
  {
   "cell_type": "code",
   "execution_count": 8,
   "metadata": {},
   "outputs": [
    {
     "name": "stderr",
     "output_type": "stream",
     "text": [
      "/Users/iliyashafirov/anaconda3/lib/python3.6/site-packages/ipykernel_launcher.py:1: SettingWithCopyWarning: \n",
      "A value is trying to be set on a copy of a slice from a DataFrame.\n",
      "Try using .loc[row_indexer,col_indexer] = value instead\n",
      "\n",
      "See the caveats in the documentation: http://pandas.pydata.org/pandas-docs/stable/indexing.html#indexing-view-versus-copy\n",
      "  \"\"\"Entry point for launching an IPython kernel.\n"
     ]
    }
   ],
   "source": [
    "casesun['Newcount']=casesun['Activity'].map(cases['Activity'].value_counts())"
   ]
  },
  {
   "cell_type": "code",
   "execution_count": 9,
   "metadata": {},
   "outputs": [],
   "source": [
    "caseval = casesun['CaseID']"
   ]
  },
  {
   "cell_type": "code",
   "execution_count": 10,
   "metadata": {},
   "outputs": [],
   "source": [
    "arrcase = df.groupby(['CaseID'])['Activity'].apply(list)"
   ]
  },
  {
   "cell_type": "code",
   "execution_count": 11,
   "metadata": {},
   "outputs": [],
   "source": [
    "arrcase = arrcase.reset_index()"
   ]
  },
  {
   "cell_type": "code",
   "execution_count": 13,
   "metadata": {},
   "outputs": [],
   "source": [
    "caseval = np.array(caseval)"
   ]
  },
  {
   "cell_type": "code",
   "execution_count": 14,
   "metadata": {},
   "outputs": [],
   "source": [
    "arrcaseun = arrcase.loc[arrcase['CaseID'].isin(caseval)]"
   ]
  },
  {
   "cell_type": "code",
   "execution_count": 17,
   "metadata": {},
   "outputs": [
    {
     "name": "stderr",
     "output_type": "stream",
     "text": [
      "/Users/iliyashafirov/anaconda3/lib/python3.6/site-packages/ipykernel_launcher.py:1: SettingWithCopyWarning: \n",
      "A value is trying to be set on a copy of a slice from a DataFrame.\n",
      "Try using .loc[row_indexer,col_indexer] = value instead\n",
      "\n",
      "See the caveats in the documentation: http://pandas.pydata.org/pandas-docs/stable/indexing.html#indexing-view-versus-copy\n",
      "  \"\"\"Entry point for launching an IPython kernel.\n"
     ]
    }
   ],
   "source": [
    "arrcaseun['cluster'] = 0"
   ]
  },
  {
   "cell_type": "code",
   "execution_count": 19,
   "metadata": {},
   "outputs": [
    {
     "name": "stderr",
     "output_type": "stream",
     "text": [
      "/Users/iliyashafirov/anaconda3/lib/python3.6/site-packages/ipykernel_launcher.py:1: SettingWithCopyWarning: \n",
      "A value is trying to be set on a copy of a slice from a DataFrame.\n",
      "Try using .loc[row_indexer,col_indexer] = value instead\n",
      "\n",
      "See the caveats in the documentation: http://pandas.pydata.org/pandas-docs/stable/indexing.html#indexing-view-versus-copy\n",
      "  \"\"\"Entry point for launching an IPython kernel.\n"
     ]
    }
   ],
   "source": [
    "arrcaseun['unique'] = arrcaseun['Activity'].agg(pd.unique)"
   ]
  },
  {
   "cell_type": "code",
   "execution_count": 20,
   "metadata": {},
   "outputs": [
    {
     "name": "stderr",
     "output_type": "stream",
     "text": [
      "/Users/iliyashafirov/anaconda3/lib/python3.6/site-packages/ipykernel_launcher.py:1: SettingWithCopyWarning: \n",
      "A value is trying to be set on a copy of a slice from a DataFrame.\n",
      "Try using .loc[row_indexer,col_indexer] = value instead\n",
      "\n",
      "See the caveats in the documentation: http://pandas.pydata.org/pandas-docs/stable/indexing.html#indexing-view-versus-copy\n",
      "  \"\"\"Entry point for launching an IPython kernel.\n"
     ]
    }
   ],
   "source": [
    "arrcaseun['numactivities'] = arrcaseun['unique'].apply(lambda x: len(x))"
   ]
  },
  {
   "cell_type": "code",
   "execution_count": 21,
   "metadata": {},
   "outputs": [
    {
     "name": "stderr",
     "output_type": "stream",
     "text": [
      "/Users/iliyashafirov/anaconda3/lib/python3.6/site-packages/ipykernel_launcher.py:1: SettingWithCopyWarning: \n",
      "A value is trying to be set on a copy of a slice from a DataFrame.\n",
      "Try using .loc[row_indexer,col_indexer] = value instead\n",
      "\n",
      "See the caveats in the documentation: http://pandas.pydata.org/pandas-docs/stable/indexing.html#indexing-view-versus-copy\n",
      "  \"\"\"Entry point for launching an IPython kernel.\n"
     ]
    }
   ],
   "source": [
    "arrcaseun['reps'] = casesun['Newcount']"
   ]
  },
  {
   "cell_type": "code",
   "execution_count": 23,
   "metadata": {},
   "outputs": [],
   "source": [
    "cur = arrcaseun[arrcaseun['cluster'] == 0]['numactivities']"
   ]
  },
  {
   "cell_type": "code",
   "execution_count": 24,
   "metadata": {},
   "outputs": [
    {
     "name": "stdout",
     "output_type": "stream",
     "text": [
      "3143\n",
      "[11.07254216 23.        ]\n",
      "[10.83857236 19.1011236 ]\n",
      "True\n",
      "flag\n",
      "True\n",
      "[10.83857236 19.1011236 ]\n",
      "[10.03125   16.3371869]\n",
      "True\n",
      "flag\n",
      "True\n",
      "[10.03125   16.3371869]\n",
      "[ 9.40828924 15.38628571]\n",
      "True\n",
      "flag\n",
      "True\n",
      "[ 9.40828924 15.38628571]\n",
      "[ 8.8225641  14.75020956]\n",
      "True\n",
      "flag\n",
      "True\n",
      "[ 8.8225641  14.75020956]\n",
      "[ 8.16346749 14.14725131]\n",
      "True\n",
      "flag\n",
      "True\n",
      "[ 8.16346749 14.14725131]\n",
      "[ 8.16346749 14.14725131]\n",
      "True\n",
      "flag\n",
      "False\n"
     ]
    },
    {
     "name": "stderr",
     "output_type": "stream",
     "text": [
      "/Users/iliyashafirov/anaconda3/lib/python3.6/site-packages/ipykernel_launcher.py:42: SettingWithCopyWarning: \n",
      "A value is trying to be set on a copy of a slice from a DataFrame\n",
      "\n",
      "See the caveats in the documentation: http://pandas.pydata.org/pandas-docs/stable/indexing.html#indexing-view-versus-copy\n",
      "/Users/iliyashafirov/anaconda3/lib/python3.6/site-packages/pandas/core/series.py:831: SettingWithCopyWarning: \n",
      "A value is trying to be set on a copy of a slice from a DataFrame\n",
      "\n",
      "See the caveats in the documentation: http://pandas.pydata.org/pandas-docs/stable/indexing.html#indexing-view-versus-copy\n",
      "  self._set_labels(key, value)\n",
      "/Users/iliyashafirov/anaconda3/lib/python3.6/site-packages/IPython/core/interactiveshell.py:2910: SettingWithCopyWarning: \n",
      "A value is trying to be set on a copy of a slice from a DataFrame\n",
      "\n",
      "See the caveats in the documentation: http://pandas.pydata.org/pandas-docs/stable/indexing.html#indexing-view-versus-copy\n",
      "  exec(code_obj, self.user_global_ns, self.user_ns)\n"
     ]
    },
    {
     "name": "stdout",
     "output_type": "stream",
     "text": [
      "1615\n",
      "1615\n",
      "[ 8.16346749 11.        ]\n",
      "[ 6.87439614 10.4637931 ]\n",
      "True\n",
      "flag\n",
      "True\n",
      "[ 6.87439614 10.4637931 ]\n",
      "[ 6.36526946 10.08846154]\n",
      "True\n",
      "flag\n",
      "True\n",
      "[ 6.36526946 10.08846154]\n",
      "[ 6.36526946 10.08846154]\n",
      "True\n",
      "flag\n",
      "False\n",
      "835\n",
      "835\n",
      "[6.36526946 8.        ]\n",
      "[5.77687296 8.        ]\n",
      "True\n",
      "flag\n",
      "True\n",
      "[5.77687296 8.        ]\n",
      "[5.2575406 7.5470297]\n",
      "True\n",
      "flag\n",
      "True\n",
      "[5.2575406 7.5470297]\n",
      "[5.2575406 7.5470297]\n",
      "True\n",
      "flag\n",
      "False\n",
      "431\n",
      "431\n",
      "[5.2575406 6.       ]\n",
      "[4.42364532 6.        ]\n",
      "True\n",
      "flag\n",
      "True\n",
      "[4.42364532 6.        ]\n",
      "[4.42364532 6.        ]\n",
      "True\n",
      "flag\n",
      "False\n",
      "203\n",
      "203\n",
      "[4.42364532 5.        ]\n",
      "[3.55555556 5.        ]\n",
      "True\n",
      "flag\n",
      "True\n",
      "[3.55555556 5.        ]\n",
      "[3.55555556 5.        ]\n",
      "True\n",
      "flag\n",
      "False\n",
      "81\n",
      "81\n",
      "[3.55555556 4.        ]\n",
      "[2.56 4.  ]\n",
      "True\n",
      "flag\n",
      "True\n",
      "[2.56 4.  ]\n",
      "[2.56 4.  ]\n",
      "True\n",
      "flag\n",
      "False\n",
      "25\n",
      "25\n",
      "[2.56 3.  ]\n",
      "[1.9 3. ]\n",
      "True\n",
      "flag\n",
      "True\n",
      "[1.9 3. ]\n",
      "[1.9 3. ]\n",
      "True\n",
      "flag\n",
      "False\n",
      "10\n",
      "10\n",
      "[1.9 2. ]\n",
      "[1. 2.]\n",
      "True\n",
      "flag\n",
      "True\n",
      "[1. 2.]\n",
      "[1. 2.]\n",
      "True\n",
      "flag\n",
      "False\n",
      "1\n",
      "1\n",
      "[1. 1.]\n",
      "[ 1. nan]\n",
      "hello\n",
      "False\n",
      "flag\n",
      "False\n",
      "1\n",
      "1\n",
      "hello1\n"
     ]
    },
    {
     "name": "stderr",
     "output_type": "stream",
     "text": [
      "/Users/iliyashafirov/anaconda3/lib/python3.6/site-packages/pandas/core/series.py:837: SettingWithCopyWarning: \n",
      "A value is trying to be set on a copy of a slice from a DataFrame\n",
      "\n",
      "See the caveats in the documentation: http://pandas.pydata.org/pandas-docs/stable/indexing.html#indexing-view-versus-copy\n",
      "  self._set_labels(key, value)\n"
     ]
    }
   ],
   "source": [
    "from copy import deepcopy\n",
    "i = 0\n",
    "therearenans = False\n",
    "while (len(cur) != 0):\n",
    "    i = i + 1\n",
    "    distances = np.zeros((len(cur),2))\n",
    "    centers = np.zeros(2)\n",
    "    flag = True\n",
    "    zero = cur.mean()\n",
    "    centers[0] = zero\n",
    "    s = cur - cur.mean()\n",
    "    center = s.idxmax(s.apply(lambda x: np.linalg.norm(x)))\n",
    "    centers[1] = cur[center]\n",
    "    centers_old = np.zeros(centers.shape) \n",
    "    clusterser = pd.Series([])\n",
    "    print(len(cur))\n",
    "    if (therearenans == True):\n",
    "        print('hello1')\n",
    "        break\n",
    "    while flag == True:\n",
    "        distances[:,0] = (cur - centers[0]).apply(lambda x: np.linalg.norm(x))\n",
    "        distances[:,1] = (cur - centers[1]).apply(lambda x: np.linalg.norm(x))\n",
    "        clusters = np.argmin(distances, axis = 1)\n",
    "        clusterser = pd.Series(clusters)\n",
    "        clusterser.index = cur.index\n",
    "        centers_old = deepcopy(centers)\n",
    "        centers[0] = np.mean(cur[clusters == 0], axis=0)\n",
    "        centers[1] = np.mean(cur[clusters == 1], axis=0)\n",
    "        error = np.linalg.norm(centers - centers_old)\n",
    "        print(centers_old)\n",
    "        print(centers)\n",
    "        if(np.isnan(centers).any() == True):\n",
    "            flag = False\n",
    "            therearenans = True\n",
    "            print('hello')\n",
    "        print(flag)\n",
    "        if (error == 0):\n",
    "            flag = False\n",
    "        print('flag')\n",
    "        print(flag)\n",
    "    new = clusterser[clusterser == 1]\n",
    "    arrcaseun['cluster'][new.index] = i\n",
    "    cur = arrcaseun[arrcaseun['cluster'] == 0]['numactivities']\n",
    "    print(len(cur))\n",
    "        \n",
    "        \n",
    "            \n",
    "        \n",
    "        "
   ]
  },
  {
   "cell_type": "code",
   "execution_count": 27,
   "metadata": {},
   "outputs": [],
   "source": [
    "arrcaseun = arrcaseun.drop(cur.index, axis = 0)"
   ]
  },
  {
   "cell_type": "code",
   "execution_count": 29,
   "metadata": {},
   "outputs": [],
   "source": [
    "maxnumclust = max(arrcaseun['cluster'])"
   ]
  },
  {
   "cell_type": "code",
   "execution_count": 30,
   "metadata": {},
   "outputs": [
    {
     "data": {
      "text/plain": [
       "1817"
      ]
     },
     "execution_count": 30,
     "metadata": {},
     "output_type": "execute_result"
    }
   ],
   "source": [
    "sum(arrcaseun['reps'][arrcaseun['cluster'] == 1])"
   ]
  },
  {
   "cell_type": "code",
   "execution_count": 31,
   "metadata": {},
   "outputs": [],
   "source": [
    "qorclust = []"
   ]
  },
  {
   "cell_type": "code",
   "execution_count": 32,
   "metadata": {},
   "outputs": [
    {
     "name": "stdout",
     "output_type": "stream",
     "text": [
      "1817\n",
      "1\n",
      "1370\n",
      "2\n",
      "1136\n",
      "3\n",
      "743\n",
      "4\n",
      "2087\n",
      "5\n",
      "540\n",
      "6\n",
      "83\n",
      "7\n",
      "73\n",
      "8\n"
     ]
    }
   ],
   "source": [
    "i = 1\n",
    "while i <= maxnumclust:\n",
    "    clust_i = arrcaseun['reps'][arrcaseun['cluster'] == i]\n",
    "    print(sum(clust_i))\n",
    "    qorclust.append(sum(clust_i))\n",
    "    print(i)\n",
    "    i += 1"
   ]
  },
  {
   "cell_type": "code",
   "execution_count": 33,
   "metadata": {},
   "outputs": [],
   "source": [
    "qormin = min(qorclust)\n",
    "qormax = max(qorclust)"
   ]
  },
  {
   "cell_type": "code",
   "execution_count": 34,
   "metadata": {},
   "outputs": [],
   "source": [
    "def f1(qormin, qormax, qor):\n",
    "    return (qor - qormin)/(qormax-qormin)"
   ]
  },
  {
   "cell_type": "code",
   "execution_count": 35,
   "metadata": {},
   "outputs": [],
   "source": [
    "T = []"
   ]
  },
  {
   "cell_type": "code",
   "execution_count": 36,
   "metadata": {},
   "outputs": [],
   "source": [
    "i = 2\n",
    "prev = set(arrcaseun['unique'][arrcaseun['cluster'] == 1].apply(pd.Series).stack().value_counts().index)\n",
    "T.append(len(prev))\n",
    "while i <= maxnumclust:\n",
    "    cur = arrcaseun['unique'][arrcaseun['cluster'] == i].apply(pd.Series).stack().value_counts()\n",
    "    unelems = set(cur.index)\n",
    "    newelems = unelems - prev\n",
    "    T.append(len(newelems))\n",
    "    prev = prev | newelems\n",
    "    i += 1"
   ]
  },
  {
   "cell_type": "code",
   "execution_count": 37,
   "metadata": {},
   "outputs": [],
   "source": [
    "arrcaseun['vis'] = 0"
   ]
  },
  {
   "cell_type": "code",
   "execution_count": 38,
   "metadata": {},
   "outputs": [
    {
     "name": "stderr",
     "output_type": "stream",
     "text": [
      "/Users/iliyashafirov/anaconda3/lib/python3.6/site-packages/ipykernel_launcher.py:1: SettingWithCopyWarning: \n",
      "A value is trying to be set on a copy of a slice from a DataFrame\n",
      "\n",
      "See the caveats in the documentation: http://pandas.pydata.org/pandas-docs/stable/indexing.html#indexing-view-versus-copy\n",
      "  \"\"\"Entry point for launching an IPython kernel.\n"
     ]
    }
   ],
   "source": [
    "arrcaseun['vis'][arrcaseun['cluster'] == 1] = 1"
   ]
  },
  {
   "cell_type": "code",
   "execution_count": 39,
   "metadata": {},
   "outputs": [],
   "source": [
    "def g1(T_min, T_max, t):\n",
    "    return (t - T_min)/(T_max-T_min)"
   ]
  },
  {
   "cell_type": "code",
   "execution_count": 40,
   "metadata": {},
   "outputs": [],
   "source": [
    "Tmin = min(T)\n",
    "Tmax = max(T)"
   ]
  },
  {
   "cell_type": "code",
   "execution_count": 41,
   "metadata": {},
   "outputs": [],
   "source": [
    "i = 2\n",
    "visclust = []\n",
    "visvert = []\n",
    "visclust.append(qorclust[0])\n",
    "visvert.append(T[0])\n",
    "while((f1(qormin, qormax, qorclust[i-1]) + g1(Tmin, Tmax, T[i-1])) >(f1(qormin, sum(qorclust), sum(visclust)) + g1(Tmin, sum(T), sum(visvert)))):\n",
    "    arrcaseun['vis'][arrcaseun['cluster'] == i] = 1\n",
    "    visclust.append(qorclust[i-1])\n",
    "    visvert.append(visvert[i-1])\n",
    "    i+=1\n",
    "    "
   ]
  },
  {
   "cell_type": "code",
   "execution_count": 44,
   "metadata": {},
   "outputs": [],
   "source": [
    "import graphviz as gv\n"
   ]
  },
  {
   "cell_type": "code",
   "execution_count": 43,
   "metadata": {},
   "outputs": [
    {
     "data": {
      "text/plain": [
       "1528"
      ]
     },
     "execution_count": 43,
     "metadata": {},
     "output_type": "execute_result"
    }
   ],
   "source": [
    "graph = gv.Digraph(format=\"png\")\n",
    "graph.node_attr.update(color='lightblue2', style='filled')"
   ]
  },
  {
   "cell_type": "code",
   "execution_count": 98,
   "metadata": {},
   "outputs": [
    {
     "name": "stderr",
     "output_type": "stream",
     "text": [
      "/Users/iliyashafirov/anaconda3/lib/python3.6/site-packages/ipykernel_launcher.py:2: SettingWithCopyWarning: \n",
      "A value is trying to be set on a copy of a slice from a DataFrame\n",
      "\n",
      "See the caveats in the documentation: http://pandas.pydata.org/pandas-docs/stable/indexing.html#indexing-view-versus-copy\n",
      "  \n"
     ]
    }
   ],
   "source": [
    "for i in (arrcaseun['Activity'].index):\n",
    "    arrcaseun['Activity'][i] = [w.replace(':', '') for w in arrcaseun['Activity'][i]]"
   ]
  },
  {
   "cell_type": "code",
   "execution_count": 114,
   "metadata": {},
   "outputs": [
    {
     "data": {
      "text/plain": [
       "'smth3.png'"
      ]
     },
     "execution_count": 114,
     "metadata": {},
     "output_type": "execute_result"
    }
   ],
   "source": [
    "import graphviz as gv\n",
    "\n",
    "path = arrcaseun['Activity'][]\n",
    "\n",
    "graph = gv.Digraph(format=\"png\")\n",
    "graph.node_attr.update(color='lightblue2', style='filled')\n",
    "\n",
    "# uncomment for high resolution picture\n",
    "# graph.attr(dpi=\"300\")\n",
    "\n",
    "for i in range(len(path) - 1):\n",
    "    node1 = path[i]\n",
    "    node2 = path[i+1]\n",
    "    graph.node(node1, label=path[i], shape=\"box\", color=\"#F3BE26\")\n",
    "    graph.node(node2, label=path[i + 1], shape=\"box\", color = \"#F3BE26\")\n",
    "    graph.edge(node1, node2)\n",
    "    \n",
    "# saves graph to anomaly_test.png\n",
    "graph.render(\"smth3\")\n",
    "\n",
    "# use display func from IPython.display to render graph in juyter"
   ]
  },
  {
   "cell_type": "code",
   "execution_count": 129,
   "metadata": {},
   "outputs": [],
   "source": [
    "import graphviz as gv\n",
    "graph = gv.Digraph(format=\"png\")\n",
    "graph.attr(dpi=\"500\")"
   ]
  },
  {
   "cell_type": "code",
   "execution_count": 126,
   "metadata": {},
   "outputs": [
    {
     "data": {
      "text/plain": [
       "0    [Заказ на поставку создан, Заказ на поставку и...\n",
       "1    [Создание Заявки, Заявка изменена дата доставк...\n",
       "2    [Заказ на поставку создан, Заказ на поставку с...\n",
       "3    [Создание Заявки, Заявка изменена дата доставк...\n",
       "4    [Создание Заявки, Заявка изменена дата доставк...\n",
       "Name: Activity, dtype: object"
      ]
     },
     "execution_count": 126,
     "metadata": {},
     "output_type": "execute_result"
    }
   ],
   "source": [
    "arrcaseun['Activity'][arrcaseun.index[0:5]]"
   ]
  },
  {
   "cell_type": "code",
   "execution_count": 130,
   "metadata": {},
   "outputs": [],
   "source": [
    "for path in (arrcaseun['Activity'][arrcaseun.index[0:5]]):\n",
    "    for j in range(len(path)-1):\n",
    "        node1 = path[j]\n",
    "        node2 = path[j + 1]\n",
    "        graph.node(node1, label=path[j], shape=\"circle\", color=\"#F3BE26\")\n",
    "        graph.node(node2, label=path[j + 1], shape=\"circle\", color = \"#F3BE26\")\n",
    "        graph.edge(node1, node2)"
   ]
  },
  {
   "cell_type": "code",
   "execution_count": 131,
   "metadata": {},
   "outputs": [
    {
     "data": {
      "text/plain": [
       "'finalgraph.png'"
      ]
     },
     "execution_count": 131,
     "metadata": {},
     "output_type": "execute_result"
    }
   ],
   "source": [
    "graph.render(\"finalgraph\")"
   ]
  },
  {
   "cell_type": "code",
   "execution_count": null,
   "metadata": {},
   "outputs": [],
   "source": []
  }
 ],
 "metadata": {
  "kernelspec": {
   "display_name": "Python 3",
   "language": "python",
   "name": "python3"
  },
  "language_info": {
   "codemirror_mode": {
    "name": "ipython",
    "version": 3
   },
   "file_extension": ".py",
   "mimetype": "text/x-python",
   "name": "python",
   "nbconvert_exporter": "python",
   "pygments_lexer": "ipython3",
   "version": "3.7.1"
  }
 },
 "nbformat": 4,
 "nbformat_minor": 2
}
