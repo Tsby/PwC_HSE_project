{
 "cells": [
  {
   "cell_type": "code",
   "execution_count": 1,
   "metadata": {},
   "outputs": [],
   "source": [
    "import pandas as pd\n",
    "import numpy as np\n",
    "import matplotlib.pyplot as plt"
   ]
  },
  {
   "cell_type": "code",
   "execution_count": 24,
   "metadata": {},
   "outputs": [
    {
     "name": "stderr",
     "output_type": "stream",
     "text": [
      "/Users/iliyashafirov/anaconda3/lib/python3.6/site-packages/ipykernel_launcher.py:20: SettingWithCopyWarning: \n",
      "A value is trying to be set on a copy of a slice from a DataFrame.\n",
      "Try using .loc[row_indexer,col_indexer] = value instead\n",
      "\n",
      "See the caveats in the documentation: http://pandas.pydata.org/pandas-docs/stable/indexing.html#indexing-view-versus-copy\n"
     ]
    },
    {
     "name": "stdout",
     "output_type": "stream",
     "text": [
      "Количество кейсов, в которых выявлены аномалии: 449\n",
      "Средняя  длительность события для всех кейсов: 11 дней 19 часов 27 минут 56 секунд\n",
      "Отношение кейсов, в которых выявлены аномалии, к общему числу всех кейсов: 6%\n"
     ]
    },
    {
     "data": {
      "image/png": "[encoded data removed]",
      "text/plain": [
       "<Figure size 432x288 with 1 Axes>"
      ]
     },
     "metadata": {
      "needs_background": "light"
     },
     "output_type": "display_data"
    }
   ],
   "source": [
    "#Выявления цепочек с аномальным временем выполнения\n",
    "\n",
    "#Подготовка данных к обработке\n",
    "df = pd.read_csv('Event_log.txt', sep='\\t', encoding='cp1251')\n",
    "df['Event end'] = pd.to_datetime(df['Event end'])\n",
    "df = df.sort_values(by='Event end')\n",
    "\n",
    "#Обработка данных: отбор закрытых кейсов\n",
    "started_cases = set(df.iloc[np.where(df['Activity Category'] == 'Заказ на поставку создан')]['CaseID'])\n",
    "finished_cases = set(df.iloc[np.where(df['Activity Category'] == 'Платеж (выравнивание)')]['CaseID'])\n",
    "finished = started_cases & finished_cases\n",
    "df['finished'] = df['CaseID'].apply(lambda x: x in finished)\n",
    "df = df[df['finished'] == 1]\n",
    "\n",
    "#Обработка данных: группировка событий в кейсы\n",
    "cases = df.groupby(['CaseID'])['Activity'].apply(lambda x: x.sum())\n",
    "cases = cases.reset_index()\n",
    "casesun = cases.drop_duplicates(subset=['Activity'])\n",
    "finished_cases\n",
    "casesun['Newcount']=casesun['Activity'].map(cases['Activity'].value_counts())\n",
    "arrcase = df.groupby(['CaseID'])['Activity'].apply(list)\n",
    "times = df.groupby(['CaseID'])['Event end'].apply(list)\n",
    "\n",
    "#Анализ данных: вычисление длительности каждого события\n",
    "def event_dur(arr):\n",
    "    return np.array(arr[1:]) -  np.array(arr[:-1])\n",
    "durs = times.apply(lambda x: event_dur(x))\n",
    "for i in durs.index:\n",
    "    for j in range(len(durs[i])):\n",
    "        durs[i][j] = durs[i][j].total_seconds()\n",
    "case_durs = durs.reset_index()\n",
    "\n",
    "#Анализ данных: вычисление средней длительности события для каждого кейса\n",
    "case_durs['average'] = case_durs['Event end'].apply(lambda x: np.mean(x))\n",
    "\n",
    "#Анализ данных: вычисление средней длительности события для всех кейсов\n",
    "aver = np.mean(case_durs['average'])\n",
    "standard = np.std(case_durs['average'])\n",
    "\n",
    "#Идентификация аномальный кейсов\n",
    "case_durs['anomaly'] = case_durs['average']  > (aver + standard)\n",
    "\n",
    "\n",
    "\n",
    "#Вывод результата\n",
    "def ConvertSectoDay(n): \n",
    "  \n",
    "    day = n // (24 * 3600) \n",
    "  \n",
    "    n = n % (24 * 3600) \n",
    "    hour = n // 3600\n",
    "  \n",
    "    n %= 3600\n",
    "    minutes = n // 60\n",
    "  \n",
    "    n %= 60\n",
    "    seconds = n \n",
    "      \n",
    "    return int(day), int(hour), int(minutes), int(seconds)\n",
    "plt.hist(case_durs['average'][case_durs['anomaly'] == True], bins=20, alpha=0.78, range=[1, max(case_durs['average'])])\n",
    "plt.grid()\n",
    "plt.ylabel('Количество кейсов')\n",
    "plt.xlabel('Среднее время активити в цепочке')\n",
    "print('Количество кейсов, в которых выявлены аномалии: ' + str(sum(case_durs['average']  > (aver + standard))))\n",
    "res = ConvertSectoDay(aver + standard)\n",
    "print('Средняя  длительность события для всех кейсов: ' + str(res[0]) + ' дней ' + str(res[1]) + ' часов ' + str(res[2]) + ' минут ' + str(res[3]) + ' секунд')\n",
    "print('Отношение кейсов, в которых выявлены аномалии, к общему числу всех кейсов: ' + str(int(100 * round(sum(case_durs['average']  > (aver + standard))/len(cases), 2))) + '%')\n"
   ]
  },
  {
   "cell_type": "code",
   "execution_count": null,
   "metadata": {},
   "outputs": [],
   "source": []
  }
 ],
 "metadata": {
  "kernelspec": {
   "display_name": "Python 3",
   "language": "python",
   "name": "python3"
  },
  "language_info": {
   "codemirror_mode": {
    "name": "ipython",
    "version": 3
   },
   "file_extension": ".py",
   "mimetype": "text/x-python",
   "name": "python",
   "nbconvert_exporter": "python",
   "pygments_lexer": "ipython3",
   "version": "3.6.8"
  }
 },
 "nbformat": 4,
 "nbformat_minor": 2
}
