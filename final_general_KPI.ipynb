{
 "cells": [
  {
   "cell_type": "code",
   "execution_count": 85,
   "metadata": {},
   "outputs": [],
   "source": [
    "#Загрузим необходимые библиотеки\n",
    "from collections import Counter\n",
    "import pandas as pd\n",
    "import numpy as np\n",
    "import time\n",
    "import datetime\n",
    "import matplotlib.pyplot as plt\n",
    "%matplotlib inline"
   ]
  },
  {
   "cell_type": "code",
   "execution_count": 46,
   "metadata": {
    "collapsed": true
   },
   "outputs": [],
   "source": [
    "#Загрузим данные\n",
    "df = pd.read_csv('Event_log.txt', sep='\\t', encoding='cp1251')"
   ]
  },
  {
   "cell_type": "code",
   "execution_count": 47,
   "metadata": {
    "collapsed": true
   },
   "outputs": [],
   "source": [
    "#Предобработка данных\n",
    "df['Event end'] = pd.to_datetime(df['Event end'])\n",
    "\n",
    "#Предобработка данных: сортировка\n",
    "order = ['Создание Заявки',\n",
    "         'Заявка согласована',\n",
    "         'Заявка изменена: дата доставки',\n",
    "         'Заявка изменена: закупочная организация',\n",
    "         'Заявка изменена: количество',\n",
    "         'Заявка изменена: увеличена цена',\n",
    "         'Заказ на поставку создан',\n",
    "         'Требование авансового платежа',\n",
    "         'Требование авансового платежа-Возврат',\n",
    "         'Авансовый платеж',\n",
    "         'Перерасчет по требованию авансового платежа',\n",
    "         'Перерасчет авансового платежа',\n",
    "         'Перерасчет авансового платежа-Возврат',\n",
    "         'Заказ на поставку изменен: валюта',\n",
    "         'Заказ на поставку изменен: налоговые условия',\n",
    "         'Заказ на поставку изменен: срока предоставления скидки',\n",
    "         'Заказ на поставку изменен: условия оплаты',\n",
    "         'Заказ на поставку изменен: увеличено количество',\n",
    "         'Заказ на поставку изменен: уменьшено количество',\n",
    "         'Заказ на поставку изменен: увеличена цена',\n",
    "         'Заказ на поставку изменен: уменьшена цена',\n",
    "         'Заказ на поставку изменен: увеличена стоимость',\n",
    "         'Заказ на поставку изменен: уменьшена стоимость',\n",
    "         'Заказ на поставку изменен: эффективная стоимость',\n",
    "         'Заказ на поставку изменен: группа закупки',\n",
    "         'Заказ на поставку изменен: завод',\n",
    "         'Заказ на поставку изменен: запланированный срок доставки в днях',\n",
    "         'Заказ на поставку изменен: лимит на недопоставку',\n",
    "         'Заказ на поставку изменен: лимит на сверх-поставку',\n",
    "         'Заказ на поставку изменен: материал',\n",
    "         'Заказ на поставку изменен: поставщик',\n",
    "         'Заказ на поставку изменен: статус наличия счета',\n",
    "         'Заказ на поставку изменен: тип документа',\n",
    "         'Заказ на поставку согласован 1',\n",
    "         'Заказ на поставку: изменен статус выпуска: ДанныеОтпр, возможны изменения',\n",
    "         'Заказ на поставку: изменен статус выпуска: НачКод, возможны изменения',\n",
    "         'Заказ на поставку: изменен статус выпуска: ДанныеСогл, измен не возможны',\n",
    "         'Заказ на поставку: изменен статус выпуска: Согл, измен не возможны',\n",
    "         'Заказ на поставку согласован 2',\n",
    "         'Заказ на поставку: согласование отклонено',\n",
    "         'Заявка: согласование отклонено',\n",
    "         'Заказ на поставку бессрочно заблокирован',\n",
    "         'Заказ на поставку удален',\n",
    "         'Заявка удалена',\n",
    "         'Заявка восстановлена',\n",
    "         'Заказ на поставку восстановлен',\n",
    "         'Поступление материала-Получение-Завершающая поставка',\n",
    "         'Поступление материала-Получение-Частичная поставка',\n",
    "         'Поступление материала-Возврат-Частичная поставка',\n",
    "         'Поступление материала-Возврат-Завершающая поставка',\n",
    "         'Счет предварительно полностью зарегистрирован',\n",
    "         'Счет заведен',\n",
    "         'Поступление счета',\n",
    "         'Поступление счета-Возврат',\n",
    "         'Счет блокирован: несоответствие даты',\n",
    "         'Счет блокирован: несоответствие количества',\n",
    "         'Счет блокирован: несоответствие цены',\n",
    "         'Счет изменен: налоговые условия',\n",
    "         'Счет изменен: условия оплаты',\n",
    "         'Счет изменен: дата',\n",
    "         'Платеж (выравнивание)',\n",
    "         'Ведомость учета работ/услуг']\n",
    "df['Activity'] = pd.Categorical(df['Activity'], categories=order)\n",
    "df = df.sort_values(by=['Event end', 'Activity'])"
   ]
  },
  {
   "cell_type": "code",
   "execution_count": 48,
   "metadata": {
    "collapsed": true
   },
   "outputs": [],
   "source": [
    "# Данная функция - копия O_2(df) с различием в возвращаемых значениях, я использую ее вывод в других функциях,\n",
    "# чтобы не портить O_2(df)\n",
    "# eq_chains - события одного маршрута\n",
    "# num_cases - CaseID цепочек, которые входят в маршрут\n",
    "# d - словарь, в котором ключ - номер маршрута, значение - количество цеопчек этого маршрута \n",
    "# k - сколько всего маршрутов на текущий момент\n",
    "# i - число для проверки того, прошли ли мы все значения словря за итерацию\n",
    "\n",
    "def unique_paths(df):\n",
    "    #Считает количество маршрутов.\n",
    "    #Вход:  dataframe - eventlog, отсортированный по временной отметке и событиям. \n",
    "    #Выход: количество маршрутов.\n",
    "    \n",
    "    #Предобработка данных\n",
    "    cases = df['CaseID'].unique()\n",
    "    chain = df[df['CaseID'] == cases[0]]\n",
    "    activ = chain['Activity'].tolist()\n",
    "    \n",
    "    #Подготовим необходимые массивы\n",
    "    eq_chains = []\n",
    "    num_cases = [[] for i in range(len(cases))]\n",
    "    \n",
    "    #Выполним первую инициализацию\n",
    "    eq_chains.append(activ)\n",
    "    num_cases[0].append(cases[0])\n",
    "    d = {}\n",
    "    d[0] = 1\n",
    "    k = 1\n",
    "    \n",
    "    #Запустим цикл, выполняя то же самое\n",
    "    for case in cases[1:]:\n",
    "        #Пердобработка данных.\n",
    "        chain = df[df['CaseID'] == case]\n",
    "        activ = chain['Activity'].tolist()\n",
    "        i = 0\n",
    "        \n",
    "        #Проверка на наличие такого пути\n",
    "        for key in d.keys():\n",
    "            if eq_chains[key] == activ:\n",
    "                d[key] += 1\n",
    "                num_cases[key].append(case)\n",
    "                break\n",
    "            i += 1\n",
    "        if i == k:\n",
    "            d[k] = 1\n",
    "            eq_chains.append(activ)\n",
    "            num_cases[k].append(case)\n",
    "            k += 1\n",
    "    return d, eq_chains, num_cases"
   ]
  },
  {
   "cell_type": "markdown",
   "metadata": {},
   "source": [
    "## KPI"
   ]
  },
  {
   "cell_type": "markdown",
   "metadata": {},
   "source": [
    "На вход подается объект - dataframe."
   ]
  },
  {
   "cell_type": "markdown",
   "metadata": {},
   "source": [
    "### Общие.\n",
    "\n",
    "1) О-1 Общее количество экземпляров процесса (кейсов). +\n",
    "\n",
    "2) О-2 Количество маршрутов. +\n",
    "\n",
    "3) О-3 Количество уникальных пользователей. +\n",
    "\n",
    "4) О-4 Число начатых и завершившихся экземпляров процесса. +\n",
    "\n",
    "\n",
    "5) О-5 Нестандартные по времени экземпляры процесса. +\n",
    "\n",
    "6) О-6 Сложные экземпляры процесса. (на доработке)\n",
    "\n",
    "7) О-7 Среднее количество циклов на экземпляр процесса.+\n",
    "\n",
    "\n",
    "8) О-8 Среднее количество экземпляров процесса, созданных за один день. +\n",
    "\n",
    "9) О-9 Самые популярные категории событий. +\n",
    "\n",
    "\n",
    "10) О-10 Среднее количество времени, проведенное в рамках одного класса событий. +\n"
   ]
  },
  {
   "cell_type": "markdown",
   "metadata": {},
   "source": [
    "#### 1. О-1 Общее количество экземпляров процесса (кейсов)."
   ]
  },
  {
   "cell_type": "code",
   "execution_count": 49,
   "metadata": {
    "collapsed": true
   },
   "outputs": [],
   "source": [
    "def O_1(df):\n",
    "    #Вычисляет общее количество экземпляров процесса .\n",
    "    #Вход:  dataframe - eventlog, отсортированный по временной отметке и событиям.\n",
    "    #Выход: общее количество цепочек.\n",
    "    \n",
    "    #Подсчет количества экземпляров процесса\n",
    "    return len(df['CaseID'].unique())"
   ]
  },
  {
   "cell_type": "code",
   "execution_count": 50,
   "metadata": {},
   "outputs": [
    {
     "name": "stdout",
     "output_type": "stream",
     "text": [
      "CPU times: user 8.06 ms, sys: 912 µs, total: 8.97 ms\n",
      "Wall time: 9.36 ms\n"
     ]
    },
    {
     "data": {
      "text/plain": [
       "8025"
      ]
     },
     "execution_count": 50,
     "metadata": {},
     "output_type": "execute_result"
    }
   ],
   "source": [
    "#time check\n",
    "%time O_1(df)"
   ]
  },
  {
   "cell_type": "markdown",
   "metadata": {},
   "source": [
    "#### 2. О-2 Количество маршрутов."
   ]
  },
  {
   "cell_type": "code",
   "execution_count": 51,
   "metadata": {
    "collapsed": true
   },
   "outputs": [],
   "source": [
    "def O_2(df):\n",
    "    #Считает количество маршрутов.\n",
    "    #Вход:  dataframe - eventlog, отсортированный по временной отметке и событиям. \n",
    "    #Выход: количество маршрутов.\n",
    "    \n",
    "    #Предобработка данных\n",
    "    cases = df['CaseID'].unique()\n",
    "    chain = df[df['CaseID'] == cases[0]]\n",
    "    activ = chain['Activity'].tolist()\n",
    "    \n",
    "    #Подготовим необходимые массивы\n",
    "    eq_chains = []\n",
    "    num_cases = [[] for i in range(len(cases))]\n",
    "    \n",
    "    #Выполним первую инициализацию\n",
    "    eq_chains.append(activ)\n",
    "    num_cases[0].append(cases[0])\n",
    "    d = {}\n",
    "    d[0] = 1\n",
    "    k = 1\n",
    "    \n",
    "    #Запустим цикл по оставшимся кейсам\n",
    "    for case in cases[1:]:\n",
    "        #Пердобработка данных.\n",
    "        chain = df[df['CaseID'] == case]\n",
    "        activ = chain['Activity'].tolist()\n",
    "        i = 0\n",
    "        \n",
    "        #Проверка на наличие такого пути\n",
    "        for key in d.keys():\n",
    "            if eq_chains[key] == activ:\n",
    "                d[key] += 1\n",
    "                num_cases[key].append(case)\n",
    "                break\n",
    "            i += 1\n",
    "            \n",
    "        #Добавление нового пути\n",
    "        if i == k:\n",
    "            d[k] = 1\n",
    "            eq_chains.append(activ)\n",
    "            num_cases[k].append(case)\n",
    "            k += 1\n",
    "    return len(d)"
   ]
  },
  {
   "cell_type": "code",
   "execution_count": 52,
   "metadata": {},
   "outputs": [
    {
     "name": "stdout",
     "output_type": "stream",
     "text": [
      "CPU times: user 57.7 s, sys: 670 ms, total: 58.4 s\n",
      "Wall time: 59.2 s\n"
     ]
    },
    {
     "data": {
      "text/plain": [
       "1653"
      ]
     },
     "execution_count": 52,
     "metadata": {},
     "output_type": "execute_result"
    }
   ],
   "source": [
    "%time O_2(df)"
   ]
  },
  {
   "cell_type": "markdown",
   "metadata": {},
   "source": [
    "#### 3. О-3 Количество уникальных пользователей."
   ]
  },
  {
   "cell_type": "code",
   "execution_count": 53,
   "metadata": {
    "collapsed": true
   },
   "outputs": [],
   "source": [
    "def O_3(df):\n",
    "    #Вход:  dataframe - eventlog.\n",
    "    #Выход: количество уникальных пользователей.\n",
    "    \n",
    "    #Подсчет количества уникальных пользователей\n",
    "    return len(df['User'].dropna().unique())"
   ]
  },
  {
   "cell_type": "code",
   "execution_count": 54,
   "metadata": {},
   "outputs": [
    {
     "name": "stdout",
     "output_type": "stream",
     "text": [
      "CPU times: user 16.2 ms, sys: 2.48 ms, total: 18.7 ms\n",
      "Wall time: 18.9 ms\n"
     ]
    },
    {
     "data": {
      "text/plain": [
       "123"
      ]
     },
     "execution_count": 54,
     "metadata": {},
     "output_type": "execute_result"
    }
   ],
   "source": [
    "#time check\n",
    "%time O_3(df)"
   ]
  },
  {
   "cell_type": "markdown",
   "metadata": {},
   "source": [
    "#### 4. О-4 Число начатых и завершившихся экземпляров процесса (кейсов).."
   ]
  },
  {
   "cell_type": "code",
   "execution_count": 55,
   "metadata": {
    "collapsed": true
   },
   "outputs": [],
   "source": [
    "def O_4(df):\n",
    "    #Считает число начатых и законченных экземпляров процесса (кейсов) и их долю от общего числа экземпляров процесса.\n",
    "    #Вход:  dataframe - eventlog.\n",
    "    #Выход: число и отношение кол-ва начатых и завершенных экземпляров процесса (кейсов)\n",
    "    #       (т.е. таких экземпляров процесса (кейсов), которые закончились Катагорией События\n",
    "    #       ('Activity Category') == 'Платеж (выравнивание)') к общему кол-ву экземпляров процесса.\n",
    "    \n",
    "    #Поиск кейсов с 'Activity Category' равным 'Заказ на поставку создан' и 'Платеж (выравнивание)'\n",
    "    started_cases = set(df.iloc[np.where(df['Activity Category'] == 'Заказ на поставку создан')]['CaseID'])\n",
    "    finished_cases = set(df.iloc[np.where(df['Activity Category'] == 'Платеж (выравнивание)')]['CaseID'])\n",
    "    \n",
    "    #Подсчет мощности пересечения найденных множеств и доли среди всех кейсов\n",
    "    return len(started_cases & finished_cases), len(started_cases & finished_cases) / len(df['CaseID'].unique())"
   ]
  },
  {
   "cell_type": "code",
   "execution_count": 56,
   "metadata": {},
   "outputs": [
    {
     "name": "stdout",
     "output_type": "stream",
     "text": [
      "CPU times: user 49 ms, sys: 4.96 ms, total: 54 ms\n",
      "Wall time: 53 ms\n"
     ]
    },
    {
     "data": {
      "text/plain": [
       "(7313, 0.9112772585669782)"
      ]
     },
     "execution_count": 56,
     "metadata": {},
     "output_type": "execute_result"
    }
   ],
   "source": [
    "#time check\n",
    "%time O_4(df)"
   ]
  },
  {
   "cell_type": "markdown",
   "metadata": {},
   "source": [
    "#### 5. О-5 Нестандратные по времени экземпляры процесса (кейсы)."
   ]
  },
  {
   "cell_type": "code",
   "execution_count": 69,
   "metadata": {
    "collapsed": true
   },
   "outputs": [],
   "source": [
    "def O_5(df):\n",
    "    # Вычисляет нестандартные экземпляры процесса (кейсы) по времени.\n",
    "    # Нестандартная экземпляр процесса - экземпляр процесса, который отклоняется по времени от среднего\n",
    "    # более чем на два стандартных отклонения.\n",
    "    # Вход:  dataframe-eventlog.\n",
    "    # Выход: кортеж(tuple). \n",
    "    #        Первое значение - количество нестандартных по времени экземпляров процесса.\n",
    "    #        Второе значение - процентное соотношение этих экземпляров процесса ко всем экземплярам процесса.\n",
    "    \n",
    "    #Сбор всех цепочек\n",
    "    cases = df['CaseID'].unique()\n",
    "    \n",
    "    #Рассчет времени прохождения экземпляры процесса\n",
    "    all_time = df.groupby(\n",
    "        ['CaseID'])['Event end'].apply(\n",
    "        lambda a: (a.max() - a.min()).total_seconds()\n",
    "    )\n",
    "    \n",
    "    #Учет в рамках маршрутов\n",
    "    d, eq_chains, num_cases = unique_paths(df)\n",
    "    ind = 0\n",
    "    anomal_cases = []\n",
    "    \n",
    "    #Подсчет необходимых метрик в рамках маршрута\n",
    "    for i in range(len(num_cases)): \n",
    "        c = num_cases[i]\n",
    "        av = np.mean(all_time[c])\n",
    "        std = np.std(all_time[c])\n",
    "        to_remember = np.where(all_time[c] > av + 2 * std)[0]\n",
    "        if len(to_remember) != 0:\n",
    "            anomal_cases.append(num_cases[i])\n",
    "        ind += len(to_remember)\n",
    "    return ind, ind / len(cases)"
   ]
  },
  {
   "cell_type": "code",
   "execution_count": 70,
   "metadata": {},
   "outputs": [
    {
     "name": "stdout",
     "output_type": "stream",
     "text": [
      "CPU times: user 1min 18s, sys: 786 ms, total: 1min 18s\n",
      "Wall time: 1min 20s\n"
     ]
    },
    {
     "data": {
      "text/plain": [
       "(235, 0.029283489096573207)"
      ]
     },
     "execution_count": 70,
     "metadata": {},
     "output_type": "execute_result"
    }
   ],
   "source": [
    "#time check\n",
    "%time O_5(df)"
   ]
  },
  {
   "cell_type": "markdown",
   "metadata": {},
   "source": [
    "#### 6. О-6 Сложные экземпляры процесса."
   ]
  },
  {
   "cell_type": "code",
   "execution_count": 71,
   "metadata": {
    "collapsed": true
   },
   "outputs": [],
   "source": [
    "def convert_to_adj_list(activ):\n",
    "    #Переводит из последовательности событий в список смежности.(более удобное представление графа).\n",
    "    #Вход:  activ - list, массив строк - последовательность событий одного экземпляра процесса.\n",
    "    #Выход: res - list, массив смежности графа.\n",
    "    \n",
    "    #Подготовка массивов\n",
    "    decode = list(set(activ))\n",
    "    dec_dict = {}\n",
    "    res = [[] for i in range(len(decode))]\n",
    "\n",
    "    #Подготовка значений\n",
    "    for i in range(len(decode)):\n",
    "        dec_dict[decode[i]] = i\n",
    "\n",
    "    #Перевод значений из из цепочки в граф\n",
    "    for i in range(len(activ) - 1):\n",
    "        res[dec_dict[activ[i]]].append(dec_dict[activ[i + 1]])\n",
    "\n",
    "    return res\n",
    "\n",
    "def O_6(df):\n",
    "    #Считает количество сложных экземплярлв процесса. Сложный экземпляр процесса - такой экземпляра процесса, \n",
    "    #который отклоняется от среднего больше, чем на одно стандартное отклонение,\n",
    "    #по количеству событий и количеству циклов. \n",
    "    #Вход:  dataframe-eventlog.\n",
    "    #Выход: количество сложных экземпляров процесса.\n",
    "    \n",
    "    #Подготовка значений\n",
    "    num_of_loop_in_case = {}\n",
    "    cases = df['CaseID'].unique()\n",
    "    begin = time.time()\n",
    "\n",
    "    #Группировка по кейсам\n",
    "    num_of_act_in_case = df.groupby('CaseID').agg({'Activity': 'count'})['Activity'].to_dict()\n",
    "\n",
    "    #Запуск цикла по кейсам\n",
    "    for case in cases:\n",
    "        \n",
    "        #Сбор кейса по активити\n",
    "        chain = df.iloc[np.where(df['CaseID'] == case)]\n",
    "        activ = chain['Activity'].tolist()\n",
    "        \n",
    "        #Создание вспомогательной переменной\n",
    "        l_am = 0\n",
    "        if len(activ) != len(set(activ)):\n",
    "\n",
    "            #Вызов функции перевода в граф смежности\n",
    "            conv_activ = convert_to_adj_list(activ)\n",
    "            \n",
    "            #Создание вспомогательного массива\n",
    "            visited = [0 for i in range(len(conv_activ))]\n",
    "        \n",
    "            def dfs(vert, l_am):\n",
    "                #Обход в глубину.\n",
    "                #Вход:  массив вершин и количество циклов\n",
    "                #Выход: количество циклов\n",
    "                visited[vert] = 1\n",
    "                for v in conv_activ[vert]:\n",
    "                    if not visited[v]:\n",
    "                        l_am = dfs(v, l_am)\n",
    "                    else:\n",
    "                        l_am += 1\n",
    "                return l_am\n",
    "            \n",
    "            #Подсчет количества циклов для кейса\n",
    "            for i in range(len(conv_activ)):\n",
    "                if not visited[i]:\n",
    "                    l_am += dfs(i, l_am)\n",
    "        num_of_loop_in_case[case] = l_am\n",
    "    \n",
    "    #Подготовка необходимых массивов\n",
    "    loop_in_case = np.array(list(num_of_loop_in_case.values()))\n",
    "    act_in_case = np.array(list(num_of_act_in_case.values()))\n",
    "    \n",
    "    #Подсчет необходимых метрик\n",
    "    av_loop = np.mean(loop_in_case)\n",
    "    std_loop = np.std(loop_in_case) \n",
    "    ind_loop = np.where(loop_in_case > av_loop + std_loop)\n",
    "    av_act = np.mean(act_in_case)\n",
    "    std_act = np.std(act_in_case)\n",
    "    ind_act = np.where(act_in_case > av_act + std_act)\n",
    "    return len(set(ind_act[0]) & set(ind_loop[0]))"
   ]
  },
  {
   "cell_type": "code",
   "execution_count": 72,
   "metadata": {},
   "outputs": [
    {
     "name": "stdout",
     "output_type": "stream",
     "text": [
      "CPU times: user 58.1 s, sys: 641 ms, total: 58.8 s\n",
      "Wall time: 59.6 s\n"
     ]
    },
    {
     "data": {
      "text/plain": [
       "3"
      ]
     },
     "execution_count": 72,
     "metadata": {},
     "output_type": "execute_result"
    }
   ],
   "source": [
    "#time check\n",
    "%time O_6(df)"
   ]
  },
  {
   "cell_type": "markdown",
   "metadata": {},
   "source": [
    "#### 7. О-7 Среднее количество циклов на один экземпляр процесса."
   ]
  },
  {
   "cell_type": "code",
   "execution_count": 100,
   "metadata": {
    "collapsed": true
   },
   "outputs": [],
   "source": [
    "def O_7(df):    \n",
    "    #Вычисляет среднее количество циклов на один экземпляр процесса.\n",
    "    #Вход:  dataframe - eventlog.\n",
    "    #Выход: среднее количество циклов на один экземпляр процесса.\n",
    "    \n",
    "    #Подготовка значений\n",
    "    n_df = df.drop(df[df['Activity'] == 'Платеж (выравнивание)'].index)\n",
    "    cases = n_df['CaseID'].unique()    \n",
    "    loops = []\n",
    "    ind = {}\n",
    "    i = 0\n",
    "    \n",
    "    #Запуск цикла по всем кейсам\n",
    "    for case in cases:\n",
    "        \n",
    "        #Подготовка значений\n",
    "        chain = n_df[n_df['CaseID'] == case]\n",
    "        activ = chain['Activity'].tolist()\n",
    "        ind[case] = i\n",
    "        events = set()\n",
    "        loop_am = 0\n",
    "        \n",
    "        #Проверка наличия цикла\n",
    "        for act in activ:\n",
    "            if act in events:\n",
    "                loop_am += 1\n",
    "            events.add(act)\n",
    "        i += 1        \n",
    "        loops.append(loop_am)\n",
    "        \n",
    "    #Подсчет по каждому маршруту\n",
    "    d, eq_chains, num_cases = unique_paths(n_df)\n",
    "    av = []\n",
    "    loops = np.array(loops)\n",
    "    for c in num_cases: \n",
    "        summ = 0\n",
    "        count = 0\n",
    "        for j in c:\n",
    "            summ += ind[j]\n",
    "            count += 1\n",
    "        if count:\n",
    "            av.append(summ / count)\n",
    "        else:\n",
    "            av.append(0)\n",
    "    return np.array(av).mean()"
   ]
  },
  {
   "cell_type": "code",
   "execution_count": 101,
   "metadata": {},
   "outputs": [
    {
     "name": "stdout",
     "output_type": "stream",
     "text": [
      "CPU times: user 1min 43s, sys: 1.02 s, total: 1min 44s\n",
      "Wall time: 1min 45s\n"
     ]
    },
    {
     "data": {
      "text/plain": [
       "1044.6829741055237"
      ]
     },
     "execution_count": 101,
     "metadata": {},
     "output_type": "execute_result"
    }
   ],
   "source": [
    "#time check\n",
    "%time O_7(df)"
   ]
  },
  {
   "cell_type": "markdown",
   "metadata": {},
   "source": [
    "#### 8. О-8 Среднее количество экземпляров процесса (кейсов), созданных за один день."
   ]
  },
  {
   "cell_type": "code",
   "execution_count": 90,
   "metadata": {
    "collapsed": true
   },
   "outputs": [],
   "source": [
    "def O_8(df):\n",
    "    #Вычисляет среднее количество экземпляров процесса, созданных за день.\n",
    "    #(т.е. таких, у которых Событие('Activity') == 'Заказ на поставку создан')\n",
    "    #Вход:  dataframe - eventlog.\n",
    "    #Выход: среднее количество экземпляров процесса, созданных за день.\n",
    "    \n",
    "    #Подготовка данных\n",
    "    df_n = pd.DataFrame(df, columns=['Event end', 'CaseID', 'Activity'])\n",
    "    df_n['Event end'] = df_n['Event end'].astype(str).apply(lambda x: x[:10])\n",
    "    count = df_n.iloc[np.where(df_n['Activity'] == 'Заказ на поставку создан')]['Event end']\n",
    "    \n",
    "    #Подсчет количества кейсов по дням\n",
    "    am = sum(Counter(df_n.iloc[np.where(df_n['Activity'] == 'Заказ на поставку создан')]['Event end']).values())\n",
    "    \n",
    "    #Подсчет общего числа дней\n",
    "    days = len(df_n['Event end'].unique())\n",
    "    \n",
    "    #Вывод гистограммы\n",
    "    plt.figure(figsize=(25, 10))\n",
    "    plt.title('Распределние создания экземпляров процесса по неделям')\n",
    "    plt.xlabel('Дата')\n",
    "    plt.ylabel('Количество созданий')\n",
    "    plt.hist(pd.to_datetime(count.values), bins=52, alpha=0.78)\n",
    "    plt.show()\n",
    "    \n",
    "    #Полсчет среднего числа\n",
    "    return am / days"
   ]
  },
  {
   "cell_type": "code",
   "execution_count": 91,
   "metadata": {},
   "outputs": [
    {
     "data": {
      "image/png": "[encoded data removed]",
      "text/plain": [
       "<Figure size 1800x720 with 1 Axes>"
      ]
     },
     "metadata": {},
     "output_type": "display_data"
    },
    {
     "name": "stdout",
     "output_type": "stream",
     "text": [
      "CPU times: user 1.73 s, sys: 208 ms, total: 1.94 s\n",
      "Wall time: 1.48 s\n"
     ]
    },
    {
     "data": {
      "text/plain": [
       "28.57857142857143"
      ]
     },
     "execution_count": 91,
     "metadata": {},
     "output_type": "execute_result"
    }
   ],
   "source": [
    "#time check\n",
    "%time O_8(df)"
   ]
  },
  {
   "cell_type": "markdown",
   "metadata": {},
   "source": [
    "#### 9. О-9 Самые популярные категории событий."
   ]
  },
  {
   "cell_type": "code",
   "execution_count": 94,
   "metadata": {
    "collapsed": true
   },
   "outputs": [],
   "source": [
    "def O_9(df):\n",
    "    #Вычисляет популярные категории событий относительно количества экземпляров процесса и пользователей.\n",
    "    \n",
    "    #Вход:  dataframe - eventlog.\n",
    "    #Выход: Кортеж (act_am_dict, users_am_dict) \n",
    "    #        act_am_dict - словарь, в котором ключ - название категории событий('Activity Category'),\n",
    "    #        а значение - отношение количества событий, входящих в эту категорию, и количества всех событий.\n",
    "    #        users_am_dict - словарь, в котором ключ - название категории событий('Activity Category'),\n",
    "    #        а значение - количество уникальных пользователей, которые участвовали в этой категории событий.\n",
    "    \n",
    "    #Подготовка значений\n",
    "    df_n = df.drop(df[df['Activity Category'] == 'Платеж (выравнивание)'].index)\n",
    "    act_am_dict = df_n.groupby('Activity Category')['CaseID'].unique().apply(lambda x: len(x))\\\n",
    "                  .div(len(df_n['CaseID'].unique())).to_dict()\n",
    "    users_am_dict = df_n.groupby('Activity Category').agg({\"User\": lambda x: x.nunique()}).to_dict()['User']\n",
    "    \n",
    "    #Сортировка\n",
    "    sorted_act_am_dict = sorted(act_am_dict.items(), key=lambda kv: kv[1], reverse=True)\n",
    "    sorted_users_am_dict = sorted(users_am_dict.items(), key=lambda kv: kv[1], reverse=True)\n",
    "\n",
    "    return sorted_act_am_dict[:5], sorted_users_am_dict[:5]"
   ]
  },
  {
   "cell_type": "code",
   "execution_count": 95,
   "metadata": {},
   "outputs": [
    {
     "name": "stdout",
     "output_type": "stream",
     "text": [
      "CPU times: user 94.9 ms, sys: 14.5 ms, total: 109 ms\n",
      "Wall time: 110 ms\n"
     ]
    },
    {
     "data": {
      "text/plain": [
       "([('Заказ на поставку создан', 0.9971339563862929),\n",
       "  ('Поступление счета', 0.9384423676012461),\n",
       "  ('Статус счета изменен', 0.9330841121495327),\n",
       "  ('Счет изменен', 0.7774454828660436),\n",
       "  ('Поступление материала-Получение', 0.4777570093457944)],\n",
       " [('Заказ на поставку создан', 87),\n",
       "  ('Заказ на поставку изменен', 55),\n",
       "  ('Поступление материала-Получение', 36),\n",
       "  ('Поступление материала-Возврат', 26),\n",
       "  ('Заказ на поставку согласован', 19)])"
      ]
     },
     "execution_count": 95,
     "metadata": {},
     "output_type": "execute_result"
    }
   ],
   "source": [
    "#time check\n",
    "%time O_9(df)"
   ]
  },
  {
   "cell_type": "markdown",
   "metadata": {},
   "source": [
    "#### 10. О-10 Среднее количество времени, проведенное в рамках одного класса событий."
   ]
  },
  {
   "cell_type": "code",
   "execution_count": 98,
   "metadata": {
    "collapsed": true
   },
   "outputs": [],
   "source": [
    "def convert_time(time):\n",
    "    #Функция перевода времени\n",
    "    #Вход:  время числом в секундах\n",
    "    #Вывод: Сформированная строка по дням, часам, минутам и секундам\n",
    "    day = time // (24 * 3600)\n",
    "    time = time % (24 * 3600)\n",
    "    hour = time // 3600\n",
    "    time %= 3600\n",
    "    minutes = time // 60\n",
    "    time %= 60\n",
    "    seconds = time\n",
    "    \n",
    "    return \"%d Days %d Hours %d Minutes %d Seconds\" % (day, hour, minutes, seconds)\n",
    "\n",
    "def O_10(df):\n",
    "    #Вычисляет отношение общего времени, проведенного в рамках категории события, к количеству экземпляров процесса,\n",
    "    #которые были охвачены этой категорией события.\n",
    "    #Вход:  dataframe - eventlog,  отсортированный по временной отметке и событиям.\n",
    "    #Выход: all_time - словарь, где ключ - название категории события, а значение - среднее количество проведенного \n",
    "    #       времени в рамках соотв. категории события на экземпляр события.\n",
    "    \n",
    "    #Подготовка необходимых значений\n",
    "    df.sort_values(by='Event end', inplace=True)\n",
    "    all_time = {cat : 0 for cat in df['Activity Class'].unique()}\n",
    "    case_am = {cat : 0 for cat in df['Activity Class'].unique()}\n",
    "    cases = df['CaseID'].unique()\n",
    "    \n",
    "    #Запускаем цикл по всем кейсам\n",
    "    for case in cases:\n",
    "        \n",
    "        #Подготовка необходимых значений\n",
    "        chain = df.iloc[np.where(df['CaseID'] == case)]\n",
    "        cat = chain['Activity Class'].tolist()\n",
    "        time = chain['Event end'].tolist()\n",
    "        \n",
    "        #Подсчет времени для каждого класса кейса\n",
    "        for i in range(len(cat) - 2):\n",
    "            all_time[cat[i]] += (time[i + 1] - time[i]).total_seconds()\n",
    "        \n",
    "        #Подсчет количества кейсов, у которых были классы\n",
    "        for cl in cat:\n",
    "            case_am[cl] += 1\n",
    "    return case_am"
   ]
  },
  {
   "cell_type": "code",
   "execution_count": 99,
   "metadata": {},
   "outputs": [
    {
     "name": "stdout",
     "output_type": "stream",
     "text": [
      "CPU times: user 1min 2s, sys: 627 ms, total: 1min 2s\n",
      "Wall time: 1min 3s\n"
     ]
    },
    {
     "data": {
      "text/plain": [
       "{'Авансовый платеж': 1293,\n",
       " 'Заказ на поставку': 22909,\n",
       " 'Заявка': 6310,\n",
       " 'Платеж (выравнивание)': 12625,\n",
       " 'Поступление материала': 8848,\n",
       " 'Счет': 32897,\n",
       " 'Учет услуг': 3356}"
      ]
     },
     "execution_count": 99,
     "metadata": {},
     "output_type": "execute_result"
    }
   ],
   "source": [
    "#time check\n",
    "%time O_10(df)"
   ]
  },
  {
   "cell_type": "code",
   "execution_count": null,
   "metadata": {
    "collapsed": true
   },
   "outputs": [],
   "source": []
  }
 ],
 "metadata": {
  "kernelspec": {
   "display_name": "Python 3",
   "language": "python",
   "name": "python3"
  },
  "language_info": {
   "codemirror_mode": {
    "name": "ipython",
    "version": 3
   },
   "file_extension": ".py",
   "mimetype": "text/x-python",
   "name": "python",
   "nbconvert_exporter": "python",
   "pygments_lexer": "ipython3",
   "version": "3.7.1"
  }
 },
 "nbformat": 4,
 "nbformat_minor": 2
}
